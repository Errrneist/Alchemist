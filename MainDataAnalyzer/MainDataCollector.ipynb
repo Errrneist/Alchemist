{
 "cells": [
  {
   "cell_type": "markdown",
   "metadata": {},
   "source": [
    "# 主数据获取器"
   ]
  },
  {
   "cell_type": "markdown",
   "metadata": {},
   "source": [
    "# 参考资料\n",
    "* [1] [知乎 - 抓取数据的代码](https://zhuanlan.zhihu.com/p/34956727)\n",
    "* [2] [CSDN - macOS下使用Automator转换CSV编码格式](https://blog.csdn.net/wqdwin/article/details/76058154)\n",
    "* [3] [CSDN - 带有搜索框的爬取](https://blog.csdn.net/hguo11/article/details/69813583)\n",
    "* [4] [CSDN - PhantomJS, Selenium, Python3配置](https://blog.csdn.net/zxy987872674/article/details/53082896)\n",
    "* [5] [CSDN - Beauttifulsoup爬取网站table](https://blog.csdn.net/belldeep/article/details/78887318)\n",
    "* [6] [CSDN - Python爬取类似股票表格](https://blog.csdn.net/mini_mooned/article/details/53575289)\n",
    "* [7] [CSDN - 使用Python+selenium+BeautifulSoup抓取动态网页的关键信息](https://blog.csdn.net/vincentluo91/article/details/52947214)\n",
    "* [8] [CSDN - 使用Decimal进行精确计算](https://blog.csdn.net/weixin_37989267/article/details/79473706)"
   ]
  },
  {
   "cell_type": "markdown",
   "metadata": {},
   "source": [
    "# 数据分析方向\n",
    "* 目标 (Main Goal)：\n",
    "* 主要行业：电子信息，新能源，新材料，新技术\n",
    "* 金叉（MACD上穿）\n",
    "* 成交量环比增幅30%以上\n",
    "* 换手率大于5%\n",
    "* 营业收入增加30%以上\n",
    "* 净利润增加30%以上"
   ]
  },
  {
   "cell_type": "markdown",
   "metadata": {},
   "source": [
    "# 为每个子分区建立不同的list"
   ]
  },
  {
   "cell_type": "code",
   "execution_count": 250,
   "metadata": {},
   "outputs": [],
   "source": [
    "# Import Statement\n",
    "from selenium import webdriver\n",
    "from bs4 import BeautifulSoup\n",
    "from decimal import Decimal\n",
    "import time\n",
    "from time import sleep\n",
    "import urllib\n",
    "import re\n",
    "import requests\n",
    "import pymysql\n",
    "import os\n",
    "import os,sys\n",
    "import turicreate as tc\n",
    "import pandas as pd"
   ]
  },
  {
   "cell_type": "code",
   "execution_count": 112,
   "metadata": {},
   "outputs": [],
   "source": [
    "# 定义要搜索的URL信息\n",
    "search_area = {'电子信息' : 'http://quote.eastmoney.com/center/boardlist.html#boards-BK04471', \n",
    "               '新能源' : 'http://quote.eastmoney.com/center/boardlist.html#boards-BK04931', \n",
    "               '新材料':'http://quote.eastmoney.com/center/boardlist.html#boards-BK05231', \n",
    "               '全息技术':'http://quote.eastmoney.com/center/boardlist.html#boards-BK06991'}\n"
   ]
  },
  {
   "cell_type": "markdown",
   "metadata": {},
   "source": [
    "# 创建并初始化SFrame\n",
    "* 因为SFrame不允许创建空行，于是预先准备占位符用于定义各列数据类型。\n",
    "\n",
    "### 各列中英文对应表\n",
    "* code = 代码，name = 名称，newest_price = 最新价\n",
    "* percent_chg = 涨跌幅，change = 涨跌额\n",
    "* volume = 成交量，turn_volume = 成交额，amplitude = 振幅\n",
    "* highest = 最高，lowest = 最低\n",
    "* open = 今开，prev_close = 昨收\n",
    "* QRR = 量比，turnover_rate = 换手率，pr_ratio = 市盈率\n",
    "\n",
    "### SFrame命名中英文对应表\n",
    "* info = 电子信息\n",
    "* energy = 新能源\n",
    "* material = 新材料\n",
    "* tech = 全息技术"
   ]
  },
  {
   "cell_type": "code",
   "execution_count": 258,
   "metadata": {},
   "outputs": [],
   "source": [
    "# 创建占位符的函数\n",
    "def initSFrame():\n",
    "    sframe = tc.SFrame({'code':['000000'],'name':['哔哩哔哩'],\n",
    "                      'close':[0],'percent_chg':[0],\n",
    "                      'change':[0],'volume':[0],'turn_volume':[0], 'amplitude':[0], \n",
    "                      'high':[0], 'low':[0], \n",
    "                      'now_open':[0], 'previous_close':[0], 'volume_rate':[0],\n",
    "                      'turnover_rate':[0], 'pr_ratio':[0]})\n",
    "    return sframe\n",
    "\n",
    "# 创建四个空SFrame，以占位行开头\n",
    "info = initSFrame()\n",
    "energy = initSFrame()\n",
    "material = initSFrame()\n",
    "tech = initSFrame()"
   ]
  },
  {
   "cell_type": "code",
   "execution_count": 259,
   "metadata": {},
   "outputs": [
    {
     "data": {
      "text/html": [
       "<div style=\"max-height:1000px;max-width:1500px;overflow:auto;\"><table frame=\"box\" rules=\"cols\">\n",
       "    <tr>\n",
       "        <th style=\"padding-left: 1em; padding-right: 1em; text-align: center\">amplitude</th>\n",
       "        <th style=\"padding-left: 1em; padding-right: 1em; text-align: center\">change</th>\n",
       "        <th style=\"padding-left: 1em; padding-right: 1em; text-align: center\">close</th>\n",
       "        <th style=\"padding-left: 1em; padding-right: 1em; text-align: center\">code</th>\n",
       "        <th style=\"padding-left: 1em; padding-right: 1em; text-align: center\">high</th>\n",
       "        <th style=\"padding-left: 1em; padding-right: 1em; text-align: center\">low</th>\n",
       "        <th style=\"padding-left: 1em; padding-right: 1em; text-align: center\">name</th>\n",
       "        <th style=\"padding-left: 1em; padding-right: 1em; text-align: center\">now_open</th>\n",
       "        <th style=\"padding-left: 1em; padding-right: 1em; text-align: center\">percent_chg</th>\n",
       "        <th style=\"padding-left: 1em; padding-right: 1em; text-align: center\">pr_ratio</th>\n",
       "        <th style=\"padding-left: 1em; padding-right: 1em; text-align: center\">previous_close</th>\n",
       "        <th style=\"padding-left: 1em; padding-right: 1em; text-align: center\">turn_volume</th>\n",
       "    </tr>\n",
       "    <tr>\n",
       "        <td style=\"padding-left: 1em; padding-right: 1em; text-align: center; vertical-align: top\">0</td>\n",
       "        <td style=\"padding-left: 1em; padding-right: 1em; text-align: center; vertical-align: top\">0</td>\n",
       "        <td style=\"padding-left: 1em; padding-right: 1em; text-align: center; vertical-align: top\">0</td>\n",
       "        <td style=\"padding-left: 1em; padding-right: 1em; text-align: center; vertical-align: top\">000000</td>\n",
       "        <td style=\"padding-left: 1em; padding-right: 1em; text-align: center; vertical-align: top\">0</td>\n",
       "        <td style=\"padding-left: 1em; padding-right: 1em; text-align: center; vertical-align: top\">0</td>\n",
       "        <td style=\"padding-left: 1em; padding-right: 1em; text-align: center; vertical-align: top\">哔哩哔哩</td>\n",
       "        <td style=\"padding-left: 1em; padding-right: 1em; text-align: center; vertical-align: top\">0</td>\n",
       "        <td style=\"padding-left: 1em; padding-right: 1em; text-align: center; vertical-align: top\">0</td>\n",
       "        <td style=\"padding-left: 1em; padding-right: 1em; text-align: center; vertical-align: top\">0</td>\n",
       "        <td style=\"padding-left: 1em; padding-right: 1em; text-align: center; vertical-align: top\">0</td>\n",
       "        <td style=\"padding-left: 1em; padding-right: 1em; text-align: center; vertical-align: top\">0</td>\n",
       "    </tr>\n",
       "</table>\n",
       "<table frame=\"box\" rules=\"cols\">\n",
       "    <tr>\n",
       "        <th style=\"padding-left: 1em; padding-right: 1em; text-align: center\">turnover_rate</th>\n",
       "        <th style=\"padding-left: 1em; padding-right: 1em; text-align: center\">volume</th>\n",
       "        <th style=\"padding-left: 1em; padding-right: 1em; text-align: center\">volume_rate</th>\n",
       "    </tr>\n",
       "    <tr>\n",
       "        <td style=\"padding-left: 1em; padding-right: 1em; text-align: center; vertical-align: top\">0</td>\n",
       "        <td style=\"padding-left: 1em; padding-right: 1em; text-align: center; vertical-align: top\">0</td>\n",
       "        <td style=\"padding-left: 1em; padding-right: 1em; text-align: center; vertical-align: top\">0</td>\n",
       "    </tr>\n",
       "</table>\n",
       "[1 rows x 15 columns]<br/>\n",
       "</div>"
      ],
      "text/plain": [
       "Columns:\n",
       "\tamplitude\tint\n",
       "\tchange\tint\n",
       "\tclose\tint\n",
       "\tcode\tstr\n",
       "\thigh\tint\n",
       "\tlow\tint\n",
       "\tname\tstr\n",
       "\tnow_open\tint\n",
       "\tpercent_chg\tint\n",
       "\tpr_ratio\tint\n",
       "\tprevious_close\tint\n",
       "\tturn_volume\tint\n",
       "\tturnover_rate\tint\n",
       "\tvolume\tint\n",
       "\tvolume_rate\tint\n",
       "\n",
       "Rows: 1\n",
       "\n",
       "Data:\n",
       "+-----------+--------+-------+--------+------+-----+----------+----------+-------------+\n",
       "| amplitude | change | close |  code  | high | low |   name   | now_open | percent_chg |\n",
       "+-----------+--------+-------+--------+------+-----+----------+----------+-------------+\n",
       "|     0     |   0    |   0   | 000000 |  0   |  0  | 哔哩哔哩 |    0     |      0      |\n",
       "+-----------+--------+-------+--------+------+-----+----------+----------+-------------+\n",
       "+----------+----------------+-------------+---------------+--------+-------------+\n",
       "| pr_ratio | previous_close | turn_volume | turnover_rate | volume | volume_rate |\n",
       "+----------+----------------+-------------+---------------+--------+-------------+\n",
       "|    0     |       0        |      0      |       0       |   0    |      0      |\n",
       "+----------+----------------+-------------+---------------+--------+-------------+\n",
       "[1 rows x 15 columns]"
      ]
     },
     "execution_count": 259,
     "metadata": {},
     "output_type": "execute_result"
    }
   ],
   "source": [
    "info"
   ]
  },
  {
   "cell_type": "markdown",
   "metadata": {},
   "source": [
    "# 解析表格"
   ]
  },
  {
   "cell_type": "code",
   "execution_count": 121,
   "metadata": {
    "scrolled": false
   },
   "outputs": [],
   "source": [
    "# 参考了[7], 利用selenium解析出来的page source抓取表格\n",
    "# 居然有urllib解析不出的表格！！我去买彩票算了！！\n",
    "\n",
    "browser = webdriver.Chrome() # Get local session of chrome\n",
    "url = search_area['电子信息']\n",
    "browser.get(url) #Load page\n",
    "browser.implicitly_wait(2) #智能等待xx秒\n",
    "time.sleep(5) #加载时间较长，等待加载完毕\n",
    "# 把selenium的webdriver调用page_source函数在传入BeautifulSoup中，就可以用BeautifulSoup解析网页了\n",
    "bs = BeautifulSoup(browser.page_source, \"lxml\")"
   ]
  },
  {
   "cell_type": "code",
   "execution_count": 262,
   "metadata": {},
   "outputs": [
    {
     "name": "stdout",
     "output_type": "stream",
     "text": [
      "6\n"
     ]
    }
   ],
   "source": [
    "# 一个从页面获取页数的函数\n",
    "def getPageNumber(bs):\n",
    "    all_buttons = bs.findAll(class_ = \"paginate_button\")\n",
    "    return len(all_buttons) - 2\n",
    "    \n",
    "pageNumber = getPageNumber(bs)\n",
    "print(pageNumber)"
   ]
  },
  {
   "cell_type": "code",
   "execution_count": 143,
   "metadata": {},
   "outputs": [],
   "source": [
    "\n",
    "# 一个自动判断量词的函数\n",
    "def smartMultiply(string):\n",
    "    if(string[len(string)-1:len(string)] == '万'):\n",
    "        string = Decimal(string[0:len(string)-1])\n",
    "        string = float(string) * 10000\n",
    "    elif(string[len(string)-1:len(string)] == '亿'):\n",
    "        string = Decimal(string[0:len(string)-1])\n",
    "        string = float(string) * 100000000\n",
    "    elif(string[len(string)-1:len(string)] == '%'):\n",
    "        string = Decimal(string[0:len(string)-1])\n",
    "        string = float(string) * 0.01\n",
    "    else:\n",
    "        string = Decimal(string)\n",
    "    return string\n",
    "\n",
    "# 从静态BeautifulSoup解析表格并存储进SFrame\n",
    "def grabData(bs, SFrame):\n",
    "    # 解出表格\n",
    "    table = bs.findAll(role = 'row')\n",
    "    table = table[7: len(table)-1]\n",
    "    # 分析每个表格\n",
    "    for each_row in table:\n",
    "        SFrame[len(SFrame) += 1] = []\n"
   ]
  },
  {
   "cell_type": "code",
   "execution_count": null,
   "metadata": {},
   "outputs": [],
   "source": [
    "# 自动处理数据的主程序\n",
    "def getTable(search_area, SFrame):\n",
    "    browser = webdriver.Chrome() # Get local session of chrome\n",
    "    url = search_area['电子信息']\n",
    "    browser.get(url) #Load page\n",
    "    browser.implicitly_wait(2) #智能等待xx秒\n",
    "    time.sleep(5) #加载时间较长，等待加载完毕\n",
    "    \n",
    "    # 把selenium的webdriver调用page_source函数在传入BeautifulSoup中，就可以用BeautifulSoup解析网页了\n",
    "    bs = BeautifulSoup(browser.page_source, \"lxml\")"
   ]
  },
  {
   "cell_type": "code",
   "execution_count": 257,
   "metadata": {},
   "outputs": [
    {
     "name": "stdout",
     "output_type": "stream",
     "text": [
      "代码 002195\n",
      "名称 二三四五\n",
      "最新价 4.47\n",
      "涨跌幅 0.10099999999999999\n",
      "涨跌额 0.41\n",
      "成交量 2227000.0\n",
      "成交额 976000000.0\n",
      "振幅 0.0936\n",
      "最高 4.47\n",
      "最低 4.09\n",
      "今开 4.12\n",
      "昨收 4.06\n",
      "量比 4.82\n",
      "换手率 0.0526\n",
      "市盈率 8.13\n"
     ]
    }
   ],
   "source": [
    "code = table[0].find(class_ = ' listview-col-Code').string  # code\n",
    "print('代码', code)\n",
    "\n",
    "name = table[0].find(class_ = ' listview-col-Name').string # name\n",
    "print('名称', name)\n",
    "\n",
    "close = table[0].find(class_ = ' listview-col-Close').string #最新价\n",
    "close = smartMultiply(close)\n",
    "print('最新价', close)\n",
    "\n",
    "percent_chg = smartMultiply(table[0].find(class_ = 'listview-col-ChangePercent sorting_1').string)\n",
    "print('涨跌幅', percent_chg)\n",
    "\n",
    "change = float(table[0].find(class_ = ' listview-col-Change').string)\n",
    "print('涨跌额', change)\n",
    "\n",
    "volume = smartMultiply(table[0].find(class_ = ' listview-col-Volume').string)\n",
    "print('成交量', volume)\n",
    "\n",
    "turn_volume = smartMultiply(table[0].find(class_ = ' listview-col-Amount').string)\n",
    "print('成交额', turn_volume)\n",
    "\n",
    "amplitude = smartMultiply(table[0].find(class_ = ' listview-col-Amplitude').string)\n",
    "print('振幅', amplitude)\n",
    "\n",
    "high = smartMultiply(table[0].find(class_ = ' listview-col-High').string)\n",
    "print('最高', high)\n",
    "\n",
    "low = smartMultiply(table[0].find(class_ = ' listview-col-Low').string)\n",
    "print('最低', low)\n",
    "\n",
    "now_open = smartMultiply(table[0].find(class_ = ' listview-col-Open').string)\n",
    "print('今开', now_open)\n",
    "\n",
    "previous_close = smartMultiply(table[0].find(class_ = ' listview-col-PreviousClose').string)\n",
    "print('昨收', previous_close)\n",
    "\n",
    "volume_rate = smartMultiply(table[0].find(class_ = ' listview-col-VolumeRate').string)\n",
    "print('量比', volume_rate)\n",
    "\n",
    "turnover_rate = smartMultiply(table[0].find(class_ = ' listview-col-TurnoverRate').string)\n",
    "print('换手率', turnover_rate)\n",
    "\n",
    "pr_rate = smartMultiply(table[0].find(class_ = ' listview-col-PERation').string)\n",
    "print('市盈率', pr_rate)"
   ]
  },
  {
   "cell_type": "code",
   "execution_count": 249,
   "metadata": {},
   "outputs": [],
   "source": [
    "def get_allele_feq(browser, snp):\n",
    "    browser.get(\n",
    "    'https://www.ncbi.nlm.nih.gov/variation/tools/1000genomes/?q=%s' %snp) #Load page\n",
    "    # browser.implicitly_wait(60) #智能等待xx秒\n",
    "    time.sleep(30) #加载时间较长，等待加载完毕\n",
    "    # browser.find_element_by_css_selector(\"div[title=\\\"Han Chinese in Bejing, China\\\"]\") #use selenium function to find elements\n",
    "\n",
    "    # 把selenium的webdriver调用page_source函数在传入BeautifulSoup中，就可以用BeautifulSoup解析网页了\n",
    "    bs = BeautifulSoup(browser.page_source, \"lxml\")\n",
    "    # bs.find_all(\"div\", title=\"Han Chinese in Bejing, China\")\n",
    "    try:\n",
    "        race = bs.find(string=\"CHB\")\n",
    "        race_data = race.find_parent(\"div\").find_parent(\n",
    "            \"div\").find_next_sibling(\"div\")\n",
    "        # print race_data\n",
    "        race_feq = race_data.find(\"span\", class_=\"gt-selected\").find_all(\"li\") # class_ 防止Python中类关键字重复，产生语法错误\n",
    "        base1_feq = race_feq[0].text  #获取标签的内容\n",
    "        base2_feq = race_feq[1].text\n",
    "        return snp, base1_feq, base2_feq  # T=0.1408 C=0.8592\n",
    "\n",
    "    except NoSuchElementException:\n",
    "        return \"%s:can't find element\" %snp "
   ]
  },
  {
   "cell_type": "code",
   "execution_count": null,
   "metadata": {},
   "outputs": [],
   "source": [
    "browser = webdriver.Chrome() # Get local session of chrome\n",
    "fh = open(\"./4diseases_snps_1kCHB_allele_feq.list2\", 'w')\n",
    "snps = open(\"./4diseases_snps.list.uniq2\",'r')\n",
    "for line in snps:\n",
    "    snp = line.strip()\n",
    "    response = get_allele_feq(browser, snp)\n",
    "    time.sleep(1)\n",
    "    fh.write(\"\\t\".join(response)) #unicode 编码的对象写到文件中后相当于print效果\n",
    "    fh.write(\"\\n\")\n",
    "    print \"\\t\".join(response)\n",
    "    time.sleep(1)  # sleep a few seconds\n",
    "fh.close()\n",
    "browser.quit()  # 退出并关闭窗口的每一个相关的驱动程序\n"
   ]
  },
  {
   "cell_type": "code",
   "execution_count": 18,
   "metadata": {},
   "outputs": [
    {
     "name": "stdout",
     "output_type": "stream",
     "text": [
      "http://www.eastmoney.com/\n"
     ]
    }
   ],
   "source": [
    "#coding:utf-8\n",
    "# 用搜索框获取URL模块[3]（暂时不用）\n",
    "\n",
    "#这里设置用哪个，关于具体的使用可以百度，建议用phantomjs.exe读者可以做对比\n",
    "driver = webdriver.Chrome('/usr/local/bin/chromedriver')\n",
    "driver.get('http://www.eastmoney.com')\n",
    "\n",
    "# 找到输入框，并输入文字\n",
    "driver.find_element_by_id('code_suggest').send_keys('新能源')\n",
    "sleep(2)\n",
    "\n",
    "# 点击搜索按钮\n",
    "driver.find_element_by_id('search_view_btn3').click()\n",
    "\n",
    "#获取当前的URL的地址\n",
    "print(driver.current_url)\n",
    "\n",
    "#关闭浏览器\n",
    "driver.close()"
   ]
  },
  {
   "cell_type": "code",
   "execution_count": null,
   "metadata": {},
   "outputs": [],
   "source": [
    "# 导入需要使用到的模块 \n",
    "\n",
    "\n",
    "# 爬虫抓取网页函数 \n",
    "def getHtml(url):\n",
    "    html = urllib.request.urlopen(url).read()\n",
    "    html = html.decode('gbk')\n",
    "    return html\n",
    "\n",
    "\n",
    "# 抓取网页股票代码函数 \n",
    "def getStackCode(html):\n",
    "    s = r'<li><a target=\"_blank\" href=\"http://quote.eastmoney.com/\\S\\S(.*?).html\">'\n",
    "    pat = re.compile(s)\n",
    "    code = pat.findall(html)\n",
    "    return code\n",
    "\n",
    "Url = 'http://quote.eastmoney.com/stocklist.html'  # 东方财富网股票数据连接地址\n",
    "filepath = '../Datasets/Eastmoney/Stock_History/'  # 定义数据文件保存路径"
   ]
  },
  {
   "cell_type": "code",
   "execution_count": null,
   "metadata": {},
   "outputs": [],
   "source": [
    "# 实施抓取\n",
    "code = getStackCode(getHtml(Url)) \n",
    "# 获取所有股票代码（以6开头的，应该是沪市数据）集合\n",
    "CodeList = []\n",
    "for item in code:\n",
    "    if item[0] == '6':\n",
    "        CodeList.append(item)\n",
    "# 抓取数据并保存到本地csv文件 \n",
    "for code in CodeList:\n",
    "    print('正在获取股票%s数据'%code)\n",
    "    url = 'http://quotes.money.163.com/service/chddata.html?code=0'+code+\\\n",
    "        '&end=20161231&fields=TCLOSE;HIGH;LOW;TOPEN;LCLOSE;CHG;PCHG;TURNOVER;VOTURNOVER;VATURNOVER;TCAP;MCAP'\n",
    "    urllib.request.urlretrieve(url, filepath+code+'.csv')"
   ]
  },
  {
   "cell_type": "code",
   "execution_count": null,
   "metadata": {},
   "outputs": [],
   "source": [
    "news_data = tc.SFrame('../Datasets/Eastmoney/Stock_History/600000.csv', decode='utf-8')"
   ]
  },
  {
   "cell_type": "code",
   "execution_count": null,
   "metadata": {},
   "outputs": [],
   "source": []
  }
 ],
 "metadata": {
  "kernelspec": {
   "display_name": "Python 3",
   "language": "python",
   "name": "python3"
  },
  "language_info": {
   "codemirror_mode": {
    "name": "ipython",
    "version": 3
   },
   "file_extension": ".py",
   "mimetype": "text/x-python",
   "name": "python",
   "nbconvert_exporter": "python",
   "pygments_lexer": "ipython3",
   "version": "3.6.5"
  }
 },
 "nbformat": 4,
 "nbformat_minor": 2
}
