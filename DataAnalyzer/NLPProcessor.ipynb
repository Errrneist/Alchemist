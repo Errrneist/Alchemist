{
 "cells": [
  {
   "cell_type": "markdown",
   "metadata": {},
   "source": [
    "# 自然语言识别处理单元\n",
    "## [拂晓工作室](https://github.com/Errrneist/Alchemist)\n",
    "* 此程序可用于识别文字中的语言以及深度分析新闻概况"
   ]
  },
  {
   "cell_type": "markdown",
   "metadata": {},
   "source": [
    "# 参考资料\n",
    "* [1] [SFrame入门](https://apple.github.io/turicreate/docs/api/generated/turicreate.SFrame.html#turicreate.SFrame)\n",
    "* [2] [从字符串中删除子字符串](https://stackoverflow.com/questions/31273642/better-way-to-remove-multiple-words-from-a-string)\n",
    "* [3] [用Python分析《红楼梦》 - 楼宇](https://zhuanlan.zhihu.com/p/29209681)\n",
    "* [4] [使用pyltp包进行中文分词实例](https://blog.csdn.net/sinat_26917383/article/details/77067515)\n",
    "* [5] [pyltp技术文档](http://pyltp.readthedocs.io/zh_CN/latest/api.html#id15)\n",
    "* [6] [pyltp介绍文档一](https://www.ltp-cloud.com/intro/#introduction )\n",
    "* [7] [pyltp介绍文档二](http://ltp.readthedocs.io/zh_CN/latest/appendix.html#id5)\n",
    "* [8] [pyltp深度训练模型](https://pan.baidu.com/share/link?shareid=1988562907&uk=2738088569#list/path=/)\n"
   ]
  },
  {
   "cell_type": "markdown",
   "metadata": {},
   "source": [
    "# 导入库"
   ]
  },
  {
   "cell_type": "code",
   "execution_count": 2,
   "metadata": {},
   "outputs": [],
   "source": [
    "# 导入库\n",
    "import urllib\n",
    "import re\n",
    "import pymysql\n",
    "import os\n",
    "import csv\n",
    "import time\n",
    "import random\n",
    "import datetime\n",
    "# import pyltp\n",
    "import turicreate as tc\n",
    "from bs4 import BeautifulSoup"
   ]
  },
  {
   "cell_type": "markdown",
   "metadata": {},
   "source": [
    "# 载入数据"
   ]
  },
  {
   "cell_type": "code",
   "execution_count": 3,
   "metadata": {},
   "outputs": [
    {
     "data": {
      "text/html": [
       "<pre>Finished parsing file /Users/hongjunwu/Documents/GitHub/Alchemist/DataSets/Eastmoney/News/China/CHINA20180702-1906.csv</pre>"
      ],
      "text/plain": [
       "Finished parsing file /Users/hongjunwu/Documents/GitHub/Alchemist/DataSets/Eastmoney/News/China/CHINA20180702-1906.csv"
      ]
     },
     "metadata": {},
     "output_type": "display_data"
    },
    {
     "data": {
      "text/html": [
       "<pre>Parsing completed. Parsed 100 lines in 0.047978 secs.</pre>"
      ],
      "text/plain": [
       "Parsing completed. Parsed 100 lines in 0.047978 secs."
      ]
     },
     "metadata": {},
     "output_type": "display_data"
    },
    {
     "name": "stdout",
     "output_type": "stream",
     "text": [
      "------------------------------------------------------\n",
      "Inferred types from first 100 line(s) of file as \n",
      "column_type_hints=[str,int,int,int,list,str,int]\n",
      "If parsing fails due to incorrect types, you can correct\n",
      "the inferred type list above and pass it to read_csv in\n",
      "the column_type_hints argument\n",
      "------------------------------------------------------\n"
     ]
    },
    {
     "data": {
      "text/html": [
       "<pre>Finished parsing file /Users/hongjunwu/Documents/GitHub/Alchemist/DataSets/Eastmoney/News/China/CHINA20180702-1906.csv</pre>"
      ],
      "text/plain": [
       "Finished parsing file /Users/hongjunwu/Documents/GitHub/Alchemist/DataSets/Eastmoney/News/China/CHINA20180702-1906.csv"
      ]
     },
     "metadata": {},
     "output_type": "display_data"
    },
    {
     "data": {
      "text/html": [
       "<pre>Parsing completed. Parsed 509 lines in 0.044427 secs.</pre>"
      ],
      "text/plain": [
       "Parsing completed. Parsed 509 lines in 0.044427 secs."
      ]
     },
     "metadata": {},
     "output_type": "display_data"
    },
    {
     "data": {
      "text/html": [
       "<div style=\"max-height:1000px;max-width:1500px;overflow:auto;\"><table frame=\"box\" rules=\"cols\">\n",
       "    <tr>\n",
       "        <th style=\"padding-left: 1em; padding-right: 1em; text-align: center\">contents</th>\n",
       "        <th style=\"padding-left: 1em; padding-right: 1em; text-align: center\">date</th>\n",
       "        <th style=\"padding-left: 1em; padding-right: 1em; text-align: center\">day</th>\n",
       "        <th style=\"padding-left: 1em; padding-right: 1em; text-align: center\">month</th>\n",
       "        <th style=\"padding-left: 1em; padding-right: 1em; text-align: center\">related</th>\n",
       "    </tr>\n",
       "    <tr>\n",
       "        <td style=\"padding-left: 1em; padding-right: 1em; text-align: center; vertical-align: top\">小微企业融资难、融资贵问题，是一个世界性难题。甚至<br>，外延更为丰富的普惠金融，在很多时候、在不 ...</td>\n",
       "        <td style=\"padding-left: 1em; padding-right: 1em; text-align: center; vertical-align: top\">20180630</td>\n",
       "        <td style=\"padding-left: 1em; padding-right: 1em; text-align: center; vertical-align: top\">30</td>\n",
       "        <td style=\"padding-left: 1em; padding-right: 1em; text-align: center; vertical-align: top\">6</td>\n",
       "        <td style=\"padding-left: 1em; padding-right: 1em; text-align: center; vertical-align: top\">[保险, 陆家嘴, 银行]</td>\n",
       "    </tr>\n",
       "    <tr>\n",
       "        <td style=\"padding-left: 1em; padding-right: 1em; text-align: center; vertical-align: top\">据国家统计局30日消息，2018年6月份，中国制造<br>业采购经理指数(PMI)为51.5%，比上 ...</td>\n",
       "        <td style=\"padding-left: 1em; padding-right: 1em; text-align: center; vertical-align: top\">20180630</td>\n",
       "        <td style=\"padding-left: 1em; padding-right: 1em; text-align: center; vertical-align: top\">30</td>\n",
       "        <td style=\"padding-left: 1em; padding-right: 1em; text-align: center; vertical-align: top\">6</td>\n",
       "        <td style=\"padding-left: 1em; padding-right: 1em; text-align: center; vertical-align: top\">[]</td>\n",
       "    </tr>\n",
       "    <tr>\n",
       "        <td style=\"padding-left: 1em; padding-right: 1em; text-align: center; vertical-align: top\">针对今年前5个月全国规模以上工业企业利润数据与去年<br>同期数据的差异问题，国家统计局工业司有关负 ...</td>\n",
       "        <td style=\"padding-left: 1em; padding-right: 1em; text-align: center; vertical-align: top\">20180629</td>\n",
       "        <td style=\"padding-left: 1em; padding-right: 1em; text-align: center; vertical-align: top\">29</td>\n",
       "        <td style=\"padding-left: 1em; padding-right: 1em; text-align: center; vertical-align: top\">6</td>\n",
       "        <td style=\"padding-left: 1em; padding-right: 1em; text-align: center; vertical-align: top\">[]</td>\n",
       "    </tr>\n",
       "    <tr>\n",
       "        <td style=\"padding-left: 1em; padding-right: 1em; text-align: center; vertical-align: top\">今日，内蒙古自治区住房资金管理中心网站发布《关于进<br>一步规范调整住房公积金提取政策的通知》称， ...</td>\n",
       "        <td style=\"padding-left: 1em; padding-right: 1em; text-align: center; vertical-align: top\">20180702</td>\n",
       "        <td style=\"padding-left: 1em; padding-right: 1em; text-align: center; vertical-align: top\">2</td>\n",
       "        <td style=\"padding-left: 1em; padding-right: 1em; text-align: center; vertical-align: top\">7</td>\n",
       "        <td style=\"padding-left: 1em; padding-right: 1em; text-align: center; vertical-align: top\">[]</td>\n",
       "    </tr>\n",
       "    <tr>\n",
       "        <td style=\"padding-left: 1em; padding-right: 1em; text-align: center; vertical-align: top\">自2016年10月份国务院发布《关于市场化银行债权<br>转股权的指导意见》以来，债转股一直存在“落 ...</td>\n",
       "        <td style=\"padding-left: 1em; padding-right: 1em; text-align: center; vertical-align: top\">20180702</td>\n",
       "        <td style=\"padding-left: 1em; padding-right: 1em; text-align: center; vertical-align: top\">2</td>\n",
       "        <td style=\"padding-left: 1em; padding-right: 1em; text-align: center; vertical-align: top\">7</td>\n",
       "        <td style=\"padding-left: 1em; padding-right: 1em; text-align: center; vertical-align: top\">[银行]</td>\n",
       "    </tr>\n",
       "    <tr>\n",
       "        <td style=\"padding-left: 1em; padding-right: 1em; text-align: center; vertical-align: top\">污水处理、垃圾处理、节水、节能环保……国家发展改革<br>委2日对外发布《关于创新和完善促进绿色发展 ...</td>\n",
       "        <td style=\"padding-left: 1em; padding-right: 1em; text-align: center; vertical-align: top\">20180702</td>\n",
       "        <td style=\"padding-left: 1em; padding-right: 1em; text-align: center; vertical-align: top\">2</td>\n",
       "        <td style=\"padding-left: 1em; padding-right: 1em; text-align: center; vertical-align: top\">7</td>\n",
       "        <td style=\"padding-left: 1em; padding-right: 1em; text-align: center; vertical-align: top\">[]</td>\n",
       "    </tr>\n",
       "    <tr>\n",
       "        <td style=\"padding-left: 1em; padding-right: 1em; text-align: center; vertical-align: top\">29日，中国人民银行会同银保监会、证监会、国家发展<br>改革委、财政部等联合召开全国深化小微企业金 ...</td>\n",
       "        <td style=\"padding-left: 1em; padding-right: 1em; text-align: center; vertical-align: top\">20180630</td>\n",
       "        <td style=\"padding-left: 1em; padding-right: 1em; text-align: center; vertical-align: top\">30</td>\n",
       "        <td style=\"padding-left: 1em; padding-right: 1em; text-align: center; vertical-align: top\">6</td>\n",
       "        <td style=\"padding-left: 1em; padding-right: 1em; text-align: center; vertical-align: top\">[银行]</td>\n",
       "    </tr>\n",
       "    <tr>\n",
       "        <td style=\"padding-left: 1em; padding-right: 1em; text-align: center; vertical-align: top\">货币政策委员会二季度例会释放信号——日前召开的中国<br>人民银行货币政策委员会2018年第二季度例 ...</td>\n",
       "        <td style=\"padding-left: 1em; padding-right: 1em; text-align: center; vertical-align: top\">20180702</td>\n",
       "        <td style=\"padding-left: 1em; padding-right: 1em; text-align: center; vertical-align: top\">2</td>\n",
       "        <td style=\"padding-left: 1em; padding-right: 1em; text-align: center; vertical-align: top\">7</td>\n",
       "        <td style=\"padding-left: 1em; padding-right: 1em; text-align: center; vertical-align: top\">[银行]</td>\n",
       "    </tr>\n",
       "    <tr>\n",
       "        <td style=\"padding-left: 1em; padding-right: 1em; text-align: center; vertical-align: top\">近日，由中国旅游研究院主办，人民日报客户端旅游频道<br>提供媒体支持的《中国入境旅游发展年度报告2 ...</td>\n",
       "        <td style=\"padding-left: 1em; padding-right: 1em; text-align: center; vertical-align: top\">20180702</td>\n",
       "        <td style=\"padding-left: 1em; padding-right: 1em; text-align: center; vertical-align: top\">2</td>\n",
       "        <td style=\"padding-left: 1em; padding-right: 1em; text-align: center; vertical-align: top\">7</td>\n",
       "        <td style=\"padding-left: 1em; padding-right: 1em; text-align: center; vertical-align: top\">[]</td>\n",
       "    </tr>\n",
       "    <tr>\n",
       "        <td style=\"padding-left: 1em; padding-right: 1em; text-align: center; vertical-align: top\">作为银行发起设立的债转股实施机构，金融资产投资公司<br>是一类新型实施机构。从昨日开始，这类机构有 ...</td>\n",
       "        <td style=\"padding-left: 1em; padding-right: 1em; text-align: center; vertical-align: top\">20180630</td>\n",
       "        <td style=\"padding-left: 1em; padding-right: 1em; text-align: center; vertical-align: top\">30</td>\n",
       "        <td style=\"padding-left: 1em; padding-right: 1em; text-align: center; vertical-align: top\">6</td>\n",
       "        <td style=\"padding-left: 1em; padding-right: 1em; text-align: center; vertical-align: top\">[银行]</td>\n",
       "    </tr>\n",
       "</table>\n",
       "<table frame=\"box\" rules=\"cols\">\n",
       "    <tr>\n",
       "        <th style=\"padding-left: 1em; padding-right: 1em; text-align: center\">title</th>\n",
       "        <th style=\"padding-left: 1em; padding-right: 1em; text-align: center\">year</th>\n",
       "    </tr>\n",
       "    <tr>\n",
       "        <td style=\"padding-left: 1em; padding-right: 1em; text-align: center; vertical-align: top\">缓解小微企业融资困境应综合施策</td>\n",
       "        <td style=\"padding-left: 1em; padding-right: 1em; text-align: center; vertical-align: top\">2018</td>\n",
       "    </tr>\n",
       "    <tr>\n",
       "        <td style=\"padding-left: 1em; padding-right: 1em; text-align: center; vertical-align: top\">6月制造业PMI为51.5%<br>比上月回落0.4个百分点 ...</td>\n",
       "        <td style=\"padding-left: 1em; padding-right: 1em; text-align: center; vertical-align: top\">2018</td>\n",
       "    </tr>\n",
       "    <tr>\n",
       "        <td style=\"padding-left: 1em; padding-right: 1em; text-align: center; vertical-align: top\">国家统计局释疑工业利润数据差异</td>\n",
       "        <td style=\"padding-left: 1em; padding-right: 1em; text-align: center; vertical-align: top\">2018</td>\n",
       "    </tr>\n",
       "    <tr>\n",
       "        <td style=\"padding-left: 1em; padding-right: 1em; text-align: center; vertical-align: top\">内蒙古规范住房公积金提取政策<br>优先支持提取公积金付房租 ...</td>\n",
       "        <td style=\"padding-left: 1em; padding-right: 1em; text-align: center; vertical-align: top\">2018</td>\n",
       "    </tr>\n",
       "    <tr>\n",
       "        <td style=\"padding-left: 1em; padding-right: 1em; text-align: center; vertical-align: top\">以市场化方式化解债转股落地难</td>\n",
       "        <td style=\"padding-left: 1em; padding-right: 1em; text-align: center; vertical-align: top\">2018</td>\n",
       "    </tr>\n",
       "    <tr>\n",
       "        <td style=\"padding-left: 1em; padding-right: 1em; text-align: center; vertical-align: top\">2020年我国将基本形成有利于绿色发展的价格机制</td>\n",
       "        <td style=\"padding-left: 1em; padding-right: 1em; text-align: center; vertical-align: top\">2018</td>\n",
       "    </tr>\n",
       "    <tr>\n",
       "        <td style=\"padding-left: 1em; padding-right: 1em; text-align: center; vertical-align: top\">五部门部署深化小微企业金融服务工作</td>\n",
       "        <td style=\"padding-left: 1em; padding-right: 1em; text-align: center; vertical-align: top\">2018</td>\n",
       "    </tr>\n",
       "    <tr>\n",
       "        <td style=\"padding-left: 1em; padding-right: 1em; text-align: center; vertical-align: top\">我国货币政策将保持中性且松紧适度</td>\n",
       "        <td style=\"padding-left: 1em; padding-right: 1em; text-align: center; vertical-align: top\">2018</td>\n",
       "    </tr>\n",
       "    <tr>\n",
       "        <td style=\"padding-left: 1em; padding-right: 1em; text-align: center; vertical-align: top\">中国出境旅游市场与消费持续增长</td>\n",
       "        <td style=\"padding-left: 1em; padding-right: 1em; text-align: center; vertical-align: top\">2018</td>\n",
       "    </tr>\n",
       "    <tr>\n",
       "        <td style=\"padding-left: 1em; padding-right: 1em; text-align: center; vertical-align: top\">银行债转股实施机构“行为准则”出炉 防止一哄而起</td>\n",
       "        <td style=\"padding-left: 1em; padding-right: 1em; text-align: center; vertical-align: top\">2018</td>\n",
       "    </tr>\n",
       "</table>\n",
       "[509 rows x 7 columns]<br/>Note: Only the head of the SFrame is printed.<br/>You can use print_rows(num_rows=m, num_columns=n) to print more rows and columns.\n",
       "</div>"
      ],
      "text/plain": [
       "Columns:\n",
       "\tcontents\tstr\n",
       "\tdate\tint\n",
       "\tday\tint\n",
       "\tmonth\tint\n",
       "\trelated\tlist\n",
       "\ttitle\tstr\n",
       "\tyear\tint\n",
       "\n",
       "Rows: 509\n",
       "\n",
       "Data:\n",
       "+---------------------------------------------------------+----------+-----+-------+\n",
       "|                         contents                        |   date   | day | month |\n",
       "+---------------------------------------------------------+----------+-----+-------+\n",
       "| 小微企业融资难、融资贵问题，是一个世界性难题。甚至，... | 20180630 |  30 |   6   |\n",
       "|     据国家统计局30日消息，2018年6月份，中国制造业...    | 20180630 |  30 |   6   |\n",
       "|  针对今年前5个月全国规模以上工业企业利润数据与去年同... | 20180629 |  29 |   6   |\n",
       "| 今日，内蒙古自治区住房资金管理中心网站发布《关于进一... | 20180702 |  2  |   7   |\n",
       "|    自2016年10月份国务院发布《关于市场化银行债权转...    | 20180702 |  2  |   7   |\n",
       "|  污水处理、垃圾处理、节水、节能环保……国家发展改革委...  | 20180702 |  2  |   7   |\n",
       "|  29日，中国人民银行会同银保监会、证监会、国家发展改...  | 20180630 |  30 |   6   |\n",
       "|  货币政策委员会二季度例会释放信号——日前召开的中国人...  | 20180702 |  2  |   7   |\n",
       "| 近日，由中国旅游研究院主办，人民日报客户端旅游频道提... | 20180702 |  2  |   7   |\n",
       "| 作为银行发起设立的债转股实施机构，金融资产投资公司是... | 20180630 |  30 |   6   |\n",
       "+---------------------------------------------------------+----------+-----+-------+\n",
       "+----------------------+-------------------------------------------------------+\n",
       "|       related        |                         title                         |\n",
       "+----------------------+-------------------------------------------------------+\n",
       "| [保险, 陆家嘴, 银行] |             缓解小微企业融资困境应综合施策            |\n",
       "|          []          |       6月制造业PMI为51.5% 比上月回落0.4个百分点       |\n",
       "|          []          |             国家统计局释疑工业利润数据差异            |\n",
       "|          []          | 内蒙古规范住房公积金提取政策 优先支持提取公积金付房租 |\n",
       "|        [银行]        |              以市场化方式化解债转股落地难             |\n",
       "|          []          |      2020年我国将基本形成有利于绿色发展的价格机制     |\n",
       "|        [银行]        |           五部门部署深化小微企业金融服务工作          |\n",
       "|        [银行]        |            我国货币政策将保持中性且松紧适度           |\n",
       "|          []          |             中国出境旅游市场与消费持续增长            |\n",
       "|        [银行]        |     银行债转股实施机构“行为准则”出炉 防止一哄而起     |\n",
       "+----------------------+-------------------------------------------------------+\n",
       "+------+\n",
       "| year |\n",
       "+------+\n",
       "| 2018 |\n",
       "| 2018 |\n",
       "| 2018 |\n",
       "| 2018 |\n",
       "| 2018 |\n",
       "| 2018 |\n",
       "| 2018 |\n",
       "| 2018 |\n",
       "| 2018 |\n",
       "| 2018 |\n",
       "+------+\n",
       "[509 rows x 7 columns]\n",
       "Note: Only the head of the SFrame is printed.\n",
       "You can use print_rows(num_rows=m, num_columns=n) to print more rows and columns."
      ]
     },
     "execution_count": 3,
     "metadata": {},
     "output_type": "execute_result"
    }
   ],
   "source": [
    "news = tc.SFrame('../DataSets/Eastmoney/News/China/CHINA20180702-1906.csv')\n",
    "news"
   ]
  },
  {
   "cell_type": "markdown",
   "metadata": {},
   "source": [
    "# 检查数据纯净度"
   ]
  },
  {
   "cell_type": "code",
   "execution_count": 10,
   "metadata": {
    "scrolled": false
   },
   "outputs": [
    {
     "name": "stdout",
     "output_type": "stream",
     "text": [
      "新华社成都6月29日电(记者陈健)记者29日从四川省国土资源厅了解到，6月24日至今，四川迎来今年入汛后强度最大、范围最广、持续时间最长的一次强降雨天气过程，导致泥石流、滑坡等地质灾害频发。截至目前，四川组织地质灾害主动预防避让27987人，各地发生较大规模的地质灾害203起，未造成人员伤亡。据介绍，24日以来，四川向全省预警区发布地质灾害3级以上(含3级)地质灾害气象风险预警4次，向各隐患点防灾责任人及监测员发布预警短信4.4万余条。从抽查检查情况看，相关防灾责任人及地质灾害隐患点群测群防专职监测员上岗履职情况良好，信息畅通。在备受关注的九寨沟地震灾区，共发生地质灾害灾情和险情6处，当地及时提示游客主动绕避危险区域，抓好在建工程施工区域地质灾害防范管控，由于措施得当，无人员因灾伤亡。此外，四川还加强了重点区域现场一线技术力量，以部署在全省各地的197支专业应急队伍为支撑，统筹部署了540余名专业技术人员协助指导驻地政府及相关部门全力做好地质灾害防范。\n",
      "\n",
      "近年来，云南省把节能降耗作为打好污染防治攻坚战、推动经济高质量发展的突破口和重要抓手。5年来，云南省全力推进节能降耗各项工作，实现节能量2945万吨标准煤，万元工业增加值能耗累计下降24%，实现节能量2580万吨标准煤，全省单位GDP能耗累计下降23%。近5年来，云南省各级相关部门，贯彻落实党中央、国务院、省委、省政府决策部署，采取有效措施，全力推进节能降耗各项工作，全省节能降耗取得显著成效。云南省节能法规、政策、标准体系进一步完善，节能科技支撑作用和节能市场化水平进一步提高，节能监督管理体制机制进一步完善，主要耗能产品单位能耗持续下降。省级财政安排节能专项资金2.72亿元，支持250个项目建设，实现节能量303万吨标准煤。各州市大力推进燃煤锅炉节能环保综合改造，为保卫蓝天作出了重要贡献。全省建筑节能全面推进，城镇新建建筑设计阶段执行建筑节能设计标准比例达100%。绿色低碳交通基础设施建设取得新成绩，武易高速等多条高速公路被交通运输部列为绿色公路建设典型示范工程、生态文明示范路。公共机构发挥节能表率作用，为建设生态文明排头兵提供了重要支撑，为绿色发展注入了新活力、新动力。\n",
      "\n",
      "6月29日从生态环境部例行发布会获悉，20182019年蓝天保卫战重点区域强化督查，从去年的京津冀及周边地区，扩展到了汾渭平原和长三角地区，从28个城市扩展到了80个城市。督查将以“四大结构”调整为治本之策，钢铁行业始终是京津冀区域督查重点。环境部环境监察局局长田为勇介绍，环境部近期准备出台《城市黑臭水体治理攻坚战作战方案》，7月还将出台《柴油货车污染治理攻坚战行动方案》《垃圾焚烧发电行业达标排放专项整治行动方案》。多项政策将出台近日，中共中央、国务院印发《关于全面加强生态环境保护坚决打好污染防治攻坚战的意见》，对全面加强生态环境保护进行了顶层设计。为此，环境部梳理总结出打好污染防治攻坚战的“7+4”行动，即打赢蓝天保卫战，打好柴油货车污染治理、城市黑臭水体治理、渤海综合治理、长江保护修复、水源地保护、农业农村污染治理七场标志性重大战役和落实《禁止洋垃圾入境推进固体废物进口管理制度改革实施方案》、打击固体废物及危险废物非法转移和倾倒、垃圾焚烧发电行业达标排放、“绿盾”自然保护区监督检查等四个专项行动，涉及到大气、水、土壤和生态等生态环境的主要领域。田为勇介绍，环境部近期准备出台《城市黑臭水体治理攻坚战作战方案》；7月，出台《柴油货车污染治理攻坚战行动方案》《垃圾焚烧发电行业达标排放专项整治行动方案》；8月，出台《渤海综合治理攻坚战作战方案》《长江保护修复攻坚战作战方案》《农业农村污染治理攻坚战作战方案》。在柴油货车污染治理攻坚战方面，田为勇表示，将调整运输结构，推进煤炭、矿石等大宗货物和集装箱中长距离运输“公转铁”。2018年年底前环渤海、山东、长三角地区，沿海主要港口、唐山港、黄骅港等煤炭集疏港改由铁路或水路运输；2020年采暖季前，沿海主要港口、唐山港、黄骅港等矿石、焦炭等大宗货物原则上主要改由铁路或水路运输。2020年重点区域铁路运输比例达到50%以上。大气强化督查扩展到80个城市环境部近期启动了20182019年蓝天保卫战重点区域强化督查。田为勇介绍，与去年督查相比，今年强化督查覆盖范围更广、参与人员更多、督查力度更大、技术手段更强。强化督查从去年的京津冀及周边地区，扩展到了汾渭平原和长三角地区，从28个城市扩展到了80个城市。以县(市、区)为中心，在京津冀及周边地区“2+26”城市和汾渭平原11个城市的531个县(市、区)，派驻约290个左右督查组。今年督查将以“四大结构”调整为治本之策。以“散乱污”企业综合整治和达标排放为重点，优化产业结构；以散煤清洁化替代为重点，优化能源结构；以公路转铁路和柴油货车治理为重点，优化运输结构；以矿山、绿地和扬尘综合整治为重点，优化用地结构。督查分为三个阶段：8月下旬之前主要是对京津冀及周边的“回头看”；8月下旬至采暖季，主要是紧盯四大结构的调整，包括气源情况，以及各地冬季供暖煤改气、煤改电情况；采暖季以后的督查将更多紧盯重污染天气，督查错峰生产和应急预案执行。此外，田为勇表示，钢铁行业始终是京津冀区域督查重点。从今年10月1日起，京津冀“2+26”城市钢铁、火电等行业执行特别排放限值，随后将视情况逐步推广。\n",
      "\n"
     ]
    }
   ],
   "source": [
    "# 随机人工检查数据纯净度\n",
    "\n",
    "def showContents(number_to_show, total_amount):\n",
    "    counter = 0\n",
    "    while counter < number_to_show:\n",
    "        print(news['contents'][int(random.uniform(0, total_amount - 1))])\n",
    "        print('')\n",
    "        counter += 1\n",
    "    \n",
    "showContents(3, len(news['contents']))"
   ]
  },
  {
   "cell_type": "markdown",
   "metadata": {},
   "source": [
    "# 自然语言识别"
   ]
  },
  {
   "cell_type": "markdown",
   "metadata": {},
   "source": [
    "# 第一步 分词"
   ]
  },
  {
   "cell_type": "code",
   "execution_count": 33,
   "metadata": {},
   "outputs": [
    {
     "name": "stdout",
     "output_type": "stream",
     "text": [
      "苟利国家生死以!\n",
      "岂因祸福避趋之?\n"
     ]
    }
   ],
   "source": [
    "# 测试分句\n",
    "\n",
    "# -*- coding: utf-8 -*-\n",
    "from pyltp import SentenceSplitter\n",
    "sents = SentenceSplitter.split('苟利国家生死以!岂因祸福避趋之?')  # 分句\n",
    "print('\\n'.join(sents))"
   ]
  },
  {
   "cell_type": "code",
   "execution_count": 29,
   "metadata": {},
   "outputs": [
    {
     "name": "stdout",
     "output_type": "stream",
     "text": [
      "苟\n",
      "利\n",
      "国家\n",
      "生死\n",
      "以\n",
      "岂因祸福\n",
      "避\n",
      "趋\n",
      "之\n"
     ]
    }
   ],
   "source": [
    "# 测试分词\n",
    "\n",
    "import os\n",
    "LTP_DATA_DIR = '../../../LTP_data_v3.4.0/'  # ltp模型目录的路径\n",
    "cws_model_path = os.path.join(LTP_DATA_DIR, 'cws.model')  # 分词模型路径，模型名称为`cws.model`\n",
    "\n",
    "from pyltp import Segmentor\n",
    "segmentor = Segmentor()  # 初始化实例\n",
    "segmentor.load(cws_model_path)  # 加载模型\n",
    "words = segmentor.segment('苟利国家生死以岂因祸福避趋之')  # 分词\n",
    "print('\\n'.join(words))\n",
    "segmentor.release()  # 释放模型"
   ]
  },
  {
   "cell_type": "code",
   "execution_count": 39,
   "metadata": {},
   "outputs": [
    {
     "name": "stdout",
     "output_type": "stream",
     "text": [
      "<class 'pyltp.VectorOfString'>\n",
      "今日，内蒙古自治区住房资金管理中心网站发布《关于进一步规范调整住房公积金提取政策的通知》称，为进一步规范住房公积金提取业务，按照《关于开展治理违规提取住房公积金工作的通知》(建金[2018]46号)要求，对提取业务政策进行部分调整。\n",
      "具体通知如下：一、优先支持提取住房公积金支付房租，重点支持提取住房公积金在缴存地或户籍地购买普通住房和第二套改善型住房。\n",
      "不再支持非缴存地及非户籍地购房提取。\n",
      "二、取消装修住房、购买车库、车位和缴纳购房维修基金、契税、办证费提取使用住房公积金。\n",
      "三、缴存职工与单位解除或终止劳动关系的，先办理个人账户封存。\n",
      "账户封存期间，在异地开立住房公积金账户并稳定缴存半年以上的，办理异地转移接续手续；\n",
      "未在异地继续缴存的，封存满半年后方可提取。\n",
      "四、重大疾病提取住房公积金的，中心需与相关部门进一步核查后方可办理。\n",
      "业务自受理提取申请之日起3个工作日内办理完结，如有特殊情况适当延长办理时限。\n",
      "五、对违规提取住房公积金的缴存职工，中心将记录其失信行为，并随个人账户一并转移；\n",
      "对已提取资金的，责令其限期全额退回，在一定期限内限制其住房公积金提取和贷款。\n",
      "对逾期仍不退回的，列为严重失信行为，并依法依规向相关管理部门报送失信信息，实施联合惩戒。\n",
      "机关、事业单位及国有企业缴存职工违规提取住房公积金情节严重的，中心将向其所在单位通报。\n",
      "六、本通知自2018年7月9日起执行，此前有关规定与本通知不一致的，以本通知为准。\n"
     ]
    }
   ],
   "source": [
    "# Test\n",
    "string = news[3]['contents']\n",
    "# print(string)\n",
    "sents = SentenceSplitter.split(string)\n",
    "print(type(sents))\n",
    "print('\\n'.join(sents))"
   ]
  },
  {
   "cell_type": "markdown",
   "metadata": {},
   "source": [
    "# 分句函数"
   ]
  },
  {
   "cell_type": "code",
   "execution_count": null,
   "metadata": {},
   "outputs": [],
   "source": [
    "def splitWords(contents):\n",
    "    "
   ]
  }
 ],
 "metadata": {
  "kernelspec": {
   "display_name": "Python 3",
   "language": "python",
   "name": "python3"
  },
  "language_info": {
   "codemirror_mode": {
    "name": "ipython",
    "version": 3
   },
   "file_extension": ".py",
   "mimetype": "text/x-python",
   "name": "python",
   "nbconvert_exporter": "python",
   "pygments_lexer": "ipython3",
   "version": "3.6.5"
  }
 },
 "nbformat": 4,
 "nbformat_minor": 2
}
