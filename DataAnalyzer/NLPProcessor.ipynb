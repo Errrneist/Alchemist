{
 "cells": [
  {
   "cell_type": "markdown",
   "metadata": {},
   "source": [
    "# 自然语言识别处理单元\n",
    "## [拂晓工作室](https://github.com/Errrneist/Alchemist)\n",
    "* 此程序可用于识别文字中的语言以及深度分析新闻概况"
   ]
  },
  {
   "cell_type": "markdown",
   "metadata": {},
   "source": [
    "# 参考资料\n",
    "* [1] [SFrame入门](https://apple.github.io/turicreate/docs/api/generated/turicreate.SFrame.html#turicreate.SFrame)\n",
    "* [2] [从字符串中删除子字符串](https://stackoverflow.com/questions/31273642/better-way-to-remove-multiple-words-from-a-string)\n",
    "* [3] [用Python分析《红楼梦》 - 楼宇](https://zhuanlan.zhihu.com/p/29209681)\n",
    "* [4] [使用pyltp包进行中文分词实例](https://blog.csdn.net/sinat_26917383/article/details/77067515)\n",
    "* [5] [pyltp技术文档](http://pyltp.readthedocs.io/zh_CN/latest/api.html#id15)\n",
    "* [6] [pyltp介绍文档一](https://www.ltp-cloud.com/intro/#introduction )\n",
    "* [7] [pyltp介绍文档二](http://ltp.readthedocs.io/zh_CN/latest/appendix.html#id5)\n",
    "* [8] [pyltp深度训练模型](https://pan.baidu.com/share/link?shareid=1988562907&uk=2738088569#list/path=/)\n"
   ]
  },
  {
   "cell_type": "markdown",
   "metadata": {},
   "source": [
    "# 导入库"
   ]
  },
  {
   "cell_type": "code",
   "execution_count": 1,
   "metadata": {},
   "outputs": [],
   "source": [
    "# 导入库\n",
    "import urllib\n",
    "import re\n",
    "import pymysql\n",
    "import os\n",
    "import csv\n",
    "import time\n",
    "import random\n",
    "import datetime\n",
    "# import pyltp\n",
    "import turicreate as tc\n",
    "from bs4 import BeautifulSoup"
   ]
  },
  {
   "cell_type": "markdown",
   "metadata": {},
   "source": [
    "# 载入数据"
   ]
  },
  {
   "cell_type": "code",
   "execution_count": 2,
   "metadata": {},
   "outputs": [
    {
     "data": {
      "text/html": [
       "<pre>Finished parsing file /Users/hongjunwu/Documents/GitHub/Alchemist/DataSets/Eastmoney/News/China/CHINA20180701-0848.csv</pre>"
      ],
      "text/plain": [
       "Finished parsing file /Users/hongjunwu/Documents/GitHub/Alchemist/DataSets/Eastmoney/News/China/CHINA20180701-0848.csv"
      ]
     },
     "metadata": {},
     "output_type": "display_data"
    },
    {
     "data": {
      "text/html": [
       "<pre>Parsing completed. Parsed 100 lines in 0.072308 secs.</pre>"
      ],
      "text/plain": [
       "Parsing completed. Parsed 100 lines in 0.072308 secs."
      ]
     },
     "metadata": {},
     "output_type": "display_data"
    },
    {
     "name": "stdout",
     "output_type": "stream",
     "text": [
      "------------------------------------------------------\n",
      "Inferred types from first 100 line(s) of file as \n",
      "column_type_hints=[str,int,int,int,list,str,int]\n",
      "If parsing fails due to incorrect types, you can correct\n",
      "the inferred type list above and pass it to read_csv in\n",
      "the column_type_hints argument\n",
      "------------------------------------------------------\n"
     ]
    },
    {
     "data": {
      "text/html": [
       "<pre>Finished parsing file /Users/hongjunwu/Documents/GitHub/Alchemist/DataSets/Eastmoney/News/China/CHINA20180701-0848.csv</pre>"
      ],
      "text/plain": [
       "Finished parsing file /Users/hongjunwu/Documents/GitHub/Alchemist/DataSets/Eastmoney/News/China/CHINA20180701-0848.csv"
      ]
     },
     "metadata": {},
     "output_type": "display_data"
    },
    {
     "data": {
      "text/html": [
       "<pre>Parsing completed. Parsed 515 lines in 0.050716 secs.</pre>"
      ],
      "text/plain": [
       "Parsing completed. Parsed 515 lines in 0.050716 secs."
      ]
     },
     "metadata": {},
     "output_type": "display_data"
    },
    {
     "data": {
      "text/html": [
       "<div style=\"max-height:1000px;max-width:1500px;overflow:auto;\"><table frame=\"box\" rules=\"cols\">\n",
       "    <tr>\n",
       "        <th style=\"padding-left: 1em; padding-right: 1em; text-align: center\">contents</th>\n",
       "        <th style=\"padding-left: 1em; padding-right: 1em; text-align: center\">date</th>\n",
       "        <th style=\"padding-left: 1em; padding-right: 1em; text-align: center\">day</th>\n",
       "        <th style=\"padding-left: 1em; padding-right: 1em; text-align: center\">month</th>\n",
       "        <th style=\"padding-left: 1em; padding-right: 1em; text-align: center\">related</th>\n",
       "        <th style=\"padding-left: 1em; padding-right: 1em; text-align: center\">title</th>\n",
       "    </tr>\n",
       "    <tr>\n",
       "        <td style=\"padding-left: 1em; padding-right: 1em; text-align: center; vertical-align: top\">据中国江西网报道，6月27日，南昌市公安局红谷滩分<br>局透露，为进一步深化南昌市户籍制度改革工作 ...</td>\n",
       "        <td style=\"padding-left: 1em; padding-right: 1em; text-align: center; vertical-align: top\">20180627</td>\n",
       "        <td style=\"padding-left: 1em; padding-right: 1em; text-align: center; vertical-align: top\">27</td>\n",
       "        <td style=\"padding-left: 1em; padding-right: 1em; text-align: center; vertical-align: top\">6</td>\n",
       "        <td style=\"padding-left: 1em; padding-right: 1em; text-align: center; vertical-align: top\">[]</td>\n",
       "        <td style=\"padding-left: 1em; padding-right: 1em; text-align: center; vertical-align: top\">江西南昌放开非户籍人口落户<br>领取居住证满半年即可申请 ...</td>\n",
       "    </tr>\n",
       "    <tr>\n",
       "        <td style=\"padding-left: 1em; padding-right: 1em; text-align: center; vertical-align: top\">足球场上的大热必死，用经济学的语言说是冲高回落。虽<br>然经济学家们深谙风险对冲之道，但在看球时， ...</td>\n",
       "        <td style=\"padding-left: 1em; padding-right: 1em; text-align: center; vertical-align: top\">20180630</td>\n",
       "        <td style=\"padding-left: 1em; padding-right: 1em; text-align: center; vertical-align: top\">30</td>\n",
       "        <td style=\"padding-left: 1em; padding-right: 1em; text-align: center; vertical-align: top\">6</td>\n",
       "        <td style=\"padding-left: 1em; padding-right: 1em; text-align: center; vertical-align: top\">[高盛, 银行]</td>\n",
       "        <td style=\"padding-left: 1em; padding-right: 1em; text-align: center; vertical-align: top\">投行眼里的世界杯</td>\n",
       "    </tr>\n",
       "    <tr>\n",
       "        <td style=\"padding-left: 1em; padding-right: 1em; text-align: center; vertical-align: top\">据中国人民银行网站消息，中国人民银行货币政策委员会<br>2018年第二季度例会于6月27日在北京召 ...</td>\n",
       "        <td style=\"padding-left: 1em; padding-right: 1em; text-align: center; vertical-align: top\">20180628</td>\n",
       "        <td style=\"padding-left: 1em; padding-right: 1em; text-align: center; vertical-align: top\">28</td>\n",
       "        <td style=\"padding-left: 1em; padding-right: 1em; text-align: center; vertical-align: top\">6</td>\n",
       "        <td style=\"padding-left: 1em; padding-right: 1em; text-align: center; vertical-align: top\">[]</td>\n",
       "        <td style=\"padding-left: 1em; padding-right: 1em; text-align: center; vertical-align: top\">央行：把握好结构性去杠杆的力度和节奏</td>\n",
       "    </tr>\n",
       "    <tr>\n",
       "        <td style=\"padding-left: 1em; padding-right: 1em; text-align: center; vertical-align: top\">北京6月27日讯今日，中国政府网官方微博发布博文“<br>快快快看！这里有份国务院政策利好，用一个字 ...</td>\n",
       "        <td style=\"padding-left: 1em; padding-right: 1em; text-align: center; vertical-align: top\">20180627</td>\n",
       "        <td style=\"padding-left: 1em; padding-right: 1em; text-align: center; vertical-align: top\">27</td>\n",
       "        <td style=\"padding-left: 1em; padding-right: 1em; text-align: center; vertical-align: top\">6</td>\n",
       "        <td style=\"padding-left: 1em; padding-right: 1em; text-align: center; vertical-align: top\">[微博]</td>\n",
       "        <td style=\"padding-left: 1em; padding-right: 1em; text-align: center; vertical-align: top\">“中小微企业日”  闪送却调皮了一下</td>\n",
       "    </tr>\n",
       "    <tr>\n",
       "        <td style=\"padding-left: 1em; padding-right: 1em; text-align: center; vertical-align: top\">中国人民银行行长易纲29日表示，小微企业金融服务需<br>要全社会共同努力，切实把货币政策、差异化监 ...</td>\n",
       "        <td style=\"padding-left: 1em; padding-right: 1em; text-align: center; vertical-align: top\">20180630</td>\n",
       "        <td style=\"padding-left: 1em; padding-right: 1em; text-align: center; vertical-align: top\">30</td>\n",
       "        <td style=\"padding-left: 1em; padding-right: 1em; text-align: center; vertical-align: top\">6</td>\n",
       "        <td style=\"padding-left: 1em; padding-right: 1em; text-align: center; vertical-align: top\">[银行]</td>\n",
       "        <td style=\"padding-left: 1em; padding-right: 1em; text-align: center; vertical-align: top\">央行行长：小微企业金融服务需要全社会共同努力</td>\n",
       "    </tr>\n",
       "    <tr>\n",
       "        <td style=\"padding-left: 1em; padding-right: 1em; text-align: center; vertical-align: top\">2018年6月30日国家统计局服务业调查中心和中国<br>物流与采购联合会发布了中国采购经理指数。对 ...</td>\n",
       "        <td style=\"padding-left: 1em; padding-right: 1em; text-align: center; vertical-align: top\">20180630</td>\n",
       "        <td style=\"padding-left: 1em; padding-right: 1em; text-align: center; vertical-align: top\">30</td>\n",
       "        <td style=\"padding-left: 1em; padding-right: 1em; text-align: center; vertical-align: top\">6</td>\n",
       "        <td style=\"padding-left: 1em; padding-right: 1em; text-align: center; vertical-align: top\">[银行]</td>\n",
       "        <td style=\"padding-left: 1em; padding-right: 1em; text-align: center; vertical-align: top\">统计局解读：非制造业商务活动指数持续上升</td>\n",
       "    </tr>\n",
       "    <tr>\n",
       "        <td style=\"padding-left: 1em; padding-right: 1em; text-align: center; vertical-align: top\">6月30日，国家发展改革委、商务部以第19号令，发<br>布了《自由贸易试验区外商投资准入特别管理措 ...</td>\n",
       "        <td style=\"padding-left: 1em; padding-right: 1em; text-align: center; vertical-align: top\">20180630</td>\n",
       "        <td style=\"padding-left: 1em; padding-right: 1em; text-align: center; vertical-align: top\">30</td>\n",
       "        <td style=\"padding-left: 1em; padding-right: 1em; text-align: center; vertical-align: top\">6</td>\n",
       "        <td style=\"padding-left: 1em; padding-right: 1em; text-align: center; vertical-align: top\">[]</td>\n",
       "        <td style=\"padding-left: 1em; padding-right: 1em; text-align: center; vertical-align: top\">2018年版自贸试验区外资准入负面清单出炉！</td>\n",
       "    </tr>\n",
       "    <tr>\n",
       "        <td style=\"padding-left: 1em; padding-right: 1em; text-align: center; vertical-align: top\">6月29日，中国人民银行办公厅发布关于支付机构客户<br>备付金全部集中交存有关事宜的通知。通知明确 ...</td>\n",
       "        <td style=\"padding-left: 1em; padding-right: 1em; text-align: center; vertical-align: top\">20180630</td>\n",
       "        <td style=\"padding-left: 1em; padding-right: 1em; text-align: center; vertical-align: top\">30</td>\n",
       "        <td style=\"padding-left: 1em; padding-right: 1em; text-align: center; vertical-align: top\">6</td>\n",
       "        <td style=\"padding-left: 1em; padding-right: 1em; text-align: center; vertical-align: top\">[银行]</td>\n",
       "        <td style=\"padding-left: 1em; padding-right: 1em; text-align: center; vertical-align: top\">央行：将按月提高支付机构客户备付金集中交存比例</td>\n",
       "    </tr>\n",
       "    <tr>\n",
       "        <td style=\"padding-left: 1em; padding-right: 1em; text-align: center; vertical-align: top\">6月26日，东丽区召开环境保护专题会议，研究进一步<br>改善东丽区生态环境，加强环境保护的工作举措 ...</td>\n",
       "        <td style=\"padding-left: 1em; padding-right: 1em; text-align: center; vertical-align: top\">20180628</td>\n",
       "        <td style=\"padding-left: 1em; padding-right: 1em; text-align: center; vertical-align: top\">28</td>\n",
       "        <td style=\"padding-left: 1em; padding-right: 1em; text-align: center; vertical-align: top\">6</td>\n",
       "        <td style=\"padding-left: 1em; padding-right: 1em; text-align: center; vertical-align: top\">[强生]</td>\n",
       "        <td style=\"padding-left: 1em; padding-right: 1em; text-align: center; vertical-align: top\">天津东丽区加强环境保护 改善生态环境</td>\n",
       "    </tr>\n",
       "    <tr>\n",
       "        <td style=\"padding-left: 1em; padding-right: 1em; text-align: center; vertical-align: top\">外管局：3月末中国银行业对外金融净负债2817亿美<br>元，其中，人民币净负债2841亿美元，外币 ...</td>\n",
       "        <td style=\"padding-left: 1em; padding-right: 1em; text-align: center; vertical-align: top\">20180627</td>\n",
       "        <td style=\"padding-left: 1em; padding-right: 1em; text-align: center; vertical-align: top\">27</td>\n",
       "        <td style=\"padding-left: 1em; padding-right: 1em; text-align: center; vertical-align: top\">6</td>\n",
       "        <td style=\"padding-left: 1em; padding-right: 1em; text-align: center; vertical-align: top\">[]</td>\n",
       "        <td style=\"padding-left: 1em; padding-right: 1em; text-align: center; vertical-align: top\">外管局：3月末中国银行业对外金融净负债2817亿美<br>元 ...</td>\n",
       "    </tr>\n",
       "</table>\n",
       "<table frame=\"box\" rules=\"cols\">\n",
       "    <tr>\n",
       "        <th style=\"padding-left: 1em; padding-right: 1em; text-align: center\">year</th>\n",
       "    </tr>\n",
       "    <tr>\n",
       "        <td style=\"padding-left: 1em; padding-right: 1em; text-align: center; vertical-align: top\">2018</td>\n",
       "    </tr>\n",
       "    <tr>\n",
       "        <td style=\"padding-left: 1em; padding-right: 1em; text-align: center; vertical-align: top\">2018</td>\n",
       "    </tr>\n",
       "    <tr>\n",
       "        <td style=\"padding-left: 1em; padding-right: 1em; text-align: center; vertical-align: top\">2018</td>\n",
       "    </tr>\n",
       "    <tr>\n",
       "        <td style=\"padding-left: 1em; padding-right: 1em; text-align: center; vertical-align: top\">2018</td>\n",
       "    </tr>\n",
       "    <tr>\n",
       "        <td style=\"padding-left: 1em; padding-right: 1em; text-align: center; vertical-align: top\">2018</td>\n",
       "    </tr>\n",
       "    <tr>\n",
       "        <td style=\"padding-left: 1em; padding-right: 1em; text-align: center; vertical-align: top\">2018</td>\n",
       "    </tr>\n",
       "    <tr>\n",
       "        <td style=\"padding-left: 1em; padding-right: 1em; text-align: center; vertical-align: top\">2018</td>\n",
       "    </tr>\n",
       "    <tr>\n",
       "        <td style=\"padding-left: 1em; padding-right: 1em; text-align: center; vertical-align: top\">2018</td>\n",
       "    </tr>\n",
       "    <tr>\n",
       "        <td style=\"padding-left: 1em; padding-right: 1em; text-align: center; vertical-align: top\">2018</td>\n",
       "    </tr>\n",
       "    <tr>\n",
       "        <td style=\"padding-left: 1em; padding-right: 1em; text-align: center; vertical-align: top\">2018</td>\n",
       "    </tr>\n",
       "</table>\n",
       "[515 rows x 7 columns]<br/>Note: Only the head of the SFrame is printed.<br/>You can use print_rows(num_rows=m, num_columns=n) to print more rows and columns.\n",
       "</div>"
      ],
      "text/plain": [
       "Columns:\n",
       "\tcontents\tstr\n",
       "\tdate\tint\n",
       "\tday\tint\n",
       "\tmonth\tint\n",
       "\trelated\tlist\n",
       "\ttitle\tstr\n",
       "\tyear\tint\n",
       "\n",
       "Rows: 515\n",
       "\n",
       "Data:\n",
       "+---------------------------------------------------------+----------+-----+-------+\n",
       "|                         contents                        |   date   | day | month |\n",
       "+---------------------------------------------------------+----------+-----+-------+\n",
       "|   据中国江西网报道，6月27日，南昌市公安局红谷滩分局...  | 20180627 |  27 |   6   |\n",
       "| 足球场上的大热必死，用经济学的语言说是冲高回落。虽然... | 20180630 |  30 |   6   |\n",
       "|  据中国人民银行网站消息，中国人民银行货币政策委员会2... | 20180628 |  28 |   6   |\n",
       "|   北京6月27日讯今日，中国政府网官方微博发布博文“快...   | 20180627 |  27 |   6   |\n",
       "|  中国人民银行行长易纲29日表示，小微企业金融服务需要...  | 20180630 |  30 |   6   |\n",
       "|     2018年6月30日国家统计局服务业调查中心和中国物...    | 20180630 |  30 |   6   |\n",
       "|    6月30日，国家发展改革委、商务部以第19号令，发布...   | 20180630 |  30 |   6   |\n",
       "|   6月29日，中国人民银行办公厅发布关于支付机构客户备...  | 20180630 |  30 |   6   |\n",
       "|   6月26日，东丽区召开环境保护专题会议，研究进一步改...  | 20180628 |  28 |   6   |\n",
       "|    外管局：3月末中国银行业对外金融净负债2817亿美元...   | 20180627 |  27 |   6   |\n",
       "+---------------------------------------------------------+----------+-----+-------+\n",
       "+--------------+-----------------------------------------------------+------+\n",
       "|   related    |                        title                        | year |\n",
       "+--------------+-----------------------------------------------------+------+\n",
       "|      []      | 江西南昌放开非户籍人口落户 领取居住证满半年即可申请 | 2018 |\n",
       "| [高盛, 银行] |                   投行眼里的世界杯                  | 2018 |\n",
       "|      []      |         央行：把握好结构性去杠杆的力度和节奏        | 2018 |\n",
       "|    [微博]    |           “中小微企业日”  闪送却调皮了一下          | 2018 |\n",
       "|    [银行]    |     央行行长：小微企业金融服务需要全社会共同努力    | 2018 |\n",
       "|    [银行]    |       统计局解读：非制造业商务活动指数持续上升      | 2018 |\n",
       "|      []      |       2018年版自贸试验区外资准入负面清单出炉！      | 2018 |\n",
       "|    [银行]    |    央行：将按月提高支付机构客户备付金集中交存比例   | 2018 |\n",
       "|    [强生]    |         天津东丽区加强环境保护 改善生态环境         | 2018 |\n",
       "|      []      |   外管局：3月末中国银行业对外金融净负债2817亿美元   | 2018 |\n",
       "+--------------+-----------------------------------------------------+------+\n",
       "[515 rows x 7 columns]\n",
       "Note: Only the head of the SFrame is printed.\n",
       "You can use print_rows(num_rows=m, num_columns=n) to print more rows and columns."
      ]
     },
     "execution_count": 2,
     "metadata": {},
     "output_type": "execute_result"
    }
   ],
   "source": [
    "news = tc.SFrame('../DataSets/Eastmoney/News/China/CHINA20180701-0848.csv')\n",
    "news"
   ]
  },
  {
   "cell_type": "markdown",
   "metadata": {},
   "source": [
    "# 检查数据纯净度"
   ]
  },
  {
   "cell_type": "code",
   "execution_count": 3,
   "metadata": {
    "scrolled": false
   },
   "outputs": [
    {
     "name": "stdout",
     "output_type": "stream",
     "text": [
      "据国家统计局30日消息，2018年6月份，中国制造业采购经理指数(PMI)为51.5%，比上月回落0.4个百分点，仍高于上半年均值0.2个百分点，制造业总体继续保持扩张态势。从企业规模看，大型企业PMI为52.9%，比上月回落0.2个百分点，保持在临界点之上；中型企业PMI为49.9%，比上月下降1.1个百分点，落至临界点以下；小型企业PMI为49.8%，比上月回升0.2个百分点，仍低于临界点。从分类指数看，在构成制造业PMI的5个分类指数中，生产指数、新订单指数和供应商配送时间指数高于临界点，原材料库存指数和从业人员指数低于临界点。生产指数为53.6%，低于上月0.5个百分点，仍处于扩张区间，表明制造业生产保持增长，增速有所放缓。新订单指数为53.2%，比上月回落0.6个百分点，继续高于临界点，表明制造业市场需求保持扩张，增幅有所收窄。原材料库存指数为48.8%，比上月下降0.8个百分点，位于临界点以下，表明制造业主要原材料库存量继续减少。从业人员指数为49.0%，微低于上月0.1个百分点，位于临界点以下，表明制造业企业用工量收缩。供应商配送时间指数为50.2%，高于上月0.1个百分点，位于临界点之上，表明制造业原材料供应商交货时间有所加快。\n",
      "\n",
      "中华人民共和国国家发展和改革委员会中华人民共和国商务部令第18号《外商投资准入特别管理措施(负面清单)(2018年版)》已经党中央、国务院同意，现予以发布，自2018年7月28日起施行。2017年6月28日国家发展和改革委员会、商务部发布的《外商投资产业指导目录(2017年修订)》中的外商投资准入特别管理措施(外商投资准入负面清单)同时废止，鼓励外商投资产业目录继续执行。国家发展和改革委员会主任：何立峰商务部部长：钟山2018年6月28日外商投资准入特别管理措施(负面清单)(2018 年版)说明一、《外商投资准入特别管理措施(负面清单)》(《外商投资准入负面清单》)统一列出股权要求、高管要求等外商投资准入方面的特别管理措施。《外商投资准入负面清单》之外的领域，按照内外资一致原则实施管理。二、《外商投资准入负面清单》对部分领域列出了取消或放宽准入限制的过渡期，过渡期满后将按时取消或放宽其准入限制。三、境外投资者不得作为个体工商户、个人独资企业投资人、农民专业合作社成员，从事投资经营活动。四、境外投资者不得投资《外商投资准入负面清单》中禁止外商投资的领域；投资《外商投资准入负面清单》之内的非禁止投资领域，须进行外资准入许可；投资有股权要求的领域，不得设立外商投资合伙企业。五、境内公司、企业或自然人以其在境外合法设立或控制的公司并购与其有关联关系的境内公司，涉及外商投资项目和企业设立及变更事项的，按照现行规定办理。六、《外商投资准入负面清单》中未列出的文化、金融等领域与行政审批、资质条件、国家安全等相关措施，按照现行规定执行。七、《内地与香港关于建立更紧密经贸关系的安排》及其后续协议、《内地与澳门关于建立更紧密经贸关系的安排》及其后续协议、《海峡两岸经济合作框架协议》及其后续协议、我国与有关国家签订的自由贸易区协议和投资协定、我国参加的国际条约对符合条件的投资者有更优惠开放措施的，按照相关协议或协定的规定执行。在自由贸易试验区等特殊经济区域对符合条件的投资者实施更优惠开放措施的，按照相关规定执行。八、《外商投资准入负面清单》由发展改革委、商务部会同有关部门负责解释。\n",
      "\n",
      "央视网消息：今年以来，我国就业形势继续保持稳中向好态势，市场用工需求旺盛，重点群体就业基本稳定，失业率稳中有降，在一定程度上推动了经济的平稳发展。人力资源和社会保障部最新公布数据显示，今年1至5月，我国城镇新增就业人数达到613万人，比去年同期增加14万人。国家统计局公布的5月份全国城镇调查失业率为4.8%，比去年同期下降0.1个百分点，处于近年来最低位。中国劳动和社会保障科学研究院副院长莫荣：“就业指标它是一个滞后指标，经济先期指标向好，我们后边就业指标也向好，那么我们一定可以肯定地说，我们的经济在向好，结构在向好。”经济结构的合理化调整，新动能、新产业的发展也为就业形势持续向好提供了“助推剂”。1至5月份，我国新登记企业265万户，同比增长12.3%，日均新登记1.76万户，更多人被吸纳进新的就业形态，就业市场呈现供需两旺。人力资源和社会保障部数据显示，今年一季度，100个城市公共就业服务机构市场求人倍率为1.23，岗位需求大于求职人数。更多的人不仅获得了就业，就业人员的工资也稳步提高，今年至6月1日，全国共有8个地区调整了最低工资标准，平均调增幅度为12.3%。中国劳动和社会保障科学研究院企业薪酬研究室主任刘军胜：“收入和经济增长实现基本同步以后，两者进入一个良性的互动循环。满足人民群众日益增长的美好生活需要。”今年以来，重点群体就业总体平稳。截至4月1日，总量达到820万人的高校毕业生签约率与去年同期基本持平，13个省份毕业生签约率同比上升。一季度末，外出务工农村劳动力总量超1.7亿人(17441万人)，比去年同期增加188万人。截至5月末，就业扶贫已累计帮扶781万贫困劳动力实现就业。积极的就业政策、提高就业技能培训的次数和质量等政策，拉动了就业数量，也为实现更高质量就业提供了有力保障。\n",
      "\n"
     ]
    }
   ],
   "source": [
    "# 随机人工检查数据纯净度\n",
    "\n",
    "def showContents(number_to_show, total_amount):\n",
    "    counter = 0\n",
    "    while counter < number_to_show:\n",
    "        print(news['contents'][int(random.uniform(0, total_amount - 1))])\n",
    "        print('')\n",
    "        counter += 1\n",
    "    \n",
    "showContents(3, len(news['contents']))"
   ]
  },
  {
   "cell_type": "markdown",
   "metadata": {},
   "source": [
    "# 自然语言识别"
   ]
  },
  {
   "cell_type": "code",
   "execution_count": null,
   "metadata": {},
   "outputs": [],
   "source": []
  }
 ],
 "metadata": {
  "kernelspec": {
   "display_name": "Python 3",
   "language": "python",
   "name": "python3"
  },
  "language_info": {
   "codemirror_mode": {
    "name": "ipython",
    "version": 3
   },
   "file_extension": ".py",
   "mimetype": "text/x-python",
   "name": "python",
   "nbconvert_exporter": "python",
   "pygments_lexer": "ipython3",
   "version": "3.6.5"
  }
 },
 "nbformat": 4,
 "nbformat_minor": 2
}
