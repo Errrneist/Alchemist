{
 "cells": [
  {
   "cell_type": "markdown",
   "metadata": {},
   "source": [
    "# 自然语言识别处理单元\n",
    "## [拂晓工作室](https://github.com/Errrneist/Alchemist)\n",
    "* 此程序可用于识别文字中的语言以及深度分析新闻概况"
   ]
  },
  {
   "cell_type": "markdown",
   "metadata": {},
   "source": [
    "# 参考资料\n",
    "* [1] [SFrame入门](https://apple.github.io/turicreate/docs/api/generated/turicreate.SFrame.html#turicreate.SFrame)\n",
    "* [2] [从字符串中删除子字符串](https://stackoverflow.com/questions/31273642/better-way-to-remove-multiple-words-from-a-string)\n",
    "* [3] [用Python分析《红楼梦》 - 楼宇](https://zhuanlan.zhihu.com/p/29209681)\n",
    "* [4] [使用pyltp包进行中文分词实例](https://blog.csdn.net/sinat_26917383/article/details/77067515)\n",
    "* [5] [pyltp技术文档](http://pyltp.readthedocs.io/zh_CN/latest/api.html#id15)\n",
    "* [6] [pyltp介绍文档一](https://www.ltp-cloud.com/intro/#introduction )\n",
    "* [7] [pyltp介绍文档二](http://ltp.readthedocs.io/zh_CN/latest/appendix.html#id5)\n",
    "* [8] [pyltp深度训练模型](https://pan.baidu.com/share/link?shareid=1988562907&uk=2738088569#list/path=/)\n"
   ]
  },
  {
   "cell_type": "markdown",
   "metadata": {},
   "source": [
    "# 导入库"
   ]
  },
  {
   "cell_type": "code",
   "execution_count": 18,
   "metadata": {},
   "outputs": [],
   "source": [
    "# 导入库\n",
    "import urllib\n",
    "import re\n",
    "import pymysql\n",
    "import os\n",
    "import csv\n",
    "import time\n",
    "import random\n",
    "import datetime\n",
    "# import pyltp\n",
    "import turicreate as tc\n",
    "from bs4 import BeautifulSoup"
   ]
  },
  {
   "cell_type": "markdown",
   "metadata": {},
   "source": [
    "# 载入数据"
   ]
  },
  {
   "cell_type": "code",
   "execution_count": 74,
   "metadata": {},
   "outputs": [
    {
     "data": {
      "text/html": [
       "<pre>Finished parsing file /Users/hongjunwu/Documents/GitHub/Alchemist/DataSets/Eastmoney/News/China/CHINA20180701-0848.csv</pre>"
      ],
      "text/plain": [
       "Finished parsing file /Users/hongjunwu/Documents/GitHub/Alchemist/DataSets/Eastmoney/News/China/CHINA20180701-0848.csv"
      ]
     },
     "metadata": {},
     "output_type": "display_data"
    },
    {
     "data": {
      "text/html": [
       "<pre>Parsing completed. Parsed 100 lines in 0.053261 secs.</pre>"
      ],
      "text/plain": [
       "Parsing completed. Parsed 100 lines in 0.053261 secs."
      ]
     },
     "metadata": {},
     "output_type": "display_data"
    },
    {
     "name": "stdout",
     "output_type": "stream",
     "text": [
      "------------------------------------------------------\n",
      "Inferred types from first 100 line(s) of file as \n",
      "column_type_hints=[str,int,int,int,list,str,int]\n",
      "If parsing fails due to incorrect types, you can correct\n",
      "the inferred type list above and pass it to read_csv in\n",
      "the column_type_hints argument\n",
      "------------------------------------------------------\n"
     ]
    },
    {
     "data": {
      "text/html": [
       "<pre>Finished parsing file /Users/hongjunwu/Documents/GitHub/Alchemist/DataSets/Eastmoney/News/China/CHINA20180701-0848.csv</pre>"
      ],
      "text/plain": [
       "Finished parsing file /Users/hongjunwu/Documents/GitHub/Alchemist/DataSets/Eastmoney/News/China/CHINA20180701-0848.csv"
      ]
     },
     "metadata": {},
     "output_type": "display_data"
    },
    {
     "data": {
      "text/html": [
       "<pre>Parsing completed. Parsed 515 lines in 0.039952 secs.</pre>"
      ],
      "text/plain": [
       "Parsing completed. Parsed 515 lines in 0.039952 secs."
      ]
     },
     "metadata": {},
     "output_type": "display_data"
    },
    {
     "data": {
      "text/html": [
       "<div style=\"max-height:1000px;max-width:1500px;overflow:auto;\"><table frame=\"box\" rules=\"cols\">\n",
       "    <tr>\n",
       "        <th style=\"padding-left: 1em; padding-right: 1em; text-align: center\">contents</th>\n",
       "        <th style=\"padding-left: 1em; padding-right: 1em; text-align: center\">date</th>\n",
       "        <th style=\"padding-left: 1em; padding-right: 1em; text-align: center\">day</th>\n",
       "        <th style=\"padding-left: 1em; padding-right: 1em; text-align: center\">month</th>\n",
       "        <th style=\"padding-left: 1em; padding-right: 1em; text-align: center\">related</th>\n",
       "        <th style=\"padding-left: 1em; padding-right: 1em; text-align: center\">title</th>\n",
       "    </tr>\n",
       "    <tr>\n",
       "        <td style=\"padding-left: 1em; padding-right: 1em; text-align: center; vertical-align: top\">据中国江西网报道，6月27日，南昌市公安局红谷滩分<br>局透露，为进一步深化南昌市户籍制度改革工作 ...</td>\n",
       "        <td style=\"padding-left: 1em; padding-right: 1em; text-align: center; vertical-align: top\">20180627</td>\n",
       "        <td style=\"padding-left: 1em; padding-right: 1em; text-align: center; vertical-align: top\">27</td>\n",
       "        <td style=\"padding-left: 1em; padding-right: 1em; text-align: center; vertical-align: top\">6</td>\n",
       "        <td style=\"padding-left: 1em; padding-right: 1em; text-align: center; vertical-align: top\">[]</td>\n",
       "        <td style=\"padding-left: 1em; padding-right: 1em; text-align: center; vertical-align: top\">江西南昌放开非户籍人口落户<br>领取居住证满半年即可申请 ...</td>\n",
       "    </tr>\n",
       "    <tr>\n",
       "        <td style=\"padding-left: 1em; padding-right: 1em; text-align: center; vertical-align: top\">足球场上的大热必死，用经济学的语言说是冲高回落。虽<br>然经济学家们深谙风险对冲之道，但在看球时， ...</td>\n",
       "        <td style=\"padding-left: 1em; padding-right: 1em; text-align: center; vertical-align: top\">20180630</td>\n",
       "        <td style=\"padding-left: 1em; padding-right: 1em; text-align: center; vertical-align: top\">30</td>\n",
       "        <td style=\"padding-left: 1em; padding-right: 1em; text-align: center; vertical-align: top\">6</td>\n",
       "        <td style=\"padding-left: 1em; padding-right: 1em; text-align: center; vertical-align: top\">[高盛, 银行]</td>\n",
       "        <td style=\"padding-left: 1em; padding-right: 1em; text-align: center; vertical-align: top\">投行眼里的世界杯</td>\n",
       "    </tr>\n",
       "    <tr>\n",
       "        <td style=\"padding-left: 1em; padding-right: 1em; text-align: center; vertical-align: top\">据中国人民银行网站消息，中国人民银行货币政策委员会<br>2018年第二季度例会于6月27日在北京召 ...</td>\n",
       "        <td style=\"padding-left: 1em; padding-right: 1em; text-align: center; vertical-align: top\">20180628</td>\n",
       "        <td style=\"padding-left: 1em; padding-right: 1em; text-align: center; vertical-align: top\">28</td>\n",
       "        <td style=\"padding-left: 1em; padding-right: 1em; text-align: center; vertical-align: top\">6</td>\n",
       "        <td style=\"padding-left: 1em; padding-right: 1em; text-align: center; vertical-align: top\">[]</td>\n",
       "        <td style=\"padding-left: 1em; padding-right: 1em; text-align: center; vertical-align: top\">央行：把握好结构性去杠杆的力度和节奏</td>\n",
       "    </tr>\n",
       "    <tr>\n",
       "        <td style=\"padding-left: 1em; padding-right: 1em; text-align: center; vertical-align: top\">北京6月27日讯今日，中国政府网官方微博发布博文“<br>快快快看！这里有份国务院政策利好，用一个字 ...</td>\n",
       "        <td style=\"padding-left: 1em; padding-right: 1em; text-align: center; vertical-align: top\">20180627</td>\n",
       "        <td style=\"padding-left: 1em; padding-right: 1em; text-align: center; vertical-align: top\">27</td>\n",
       "        <td style=\"padding-left: 1em; padding-right: 1em; text-align: center; vertical-align: top\">6</td>\n",
       "        <td style=\"padding-left: 1em; padding-right: 1em; text-align: center; vertical-align: top\">[微博]</td>\n",
       "        <td style=\"padding-left: 1em; padding-right: 1em; text-align: center; vertical-align: top\">“中小微企业日”  闪送却调皮了一下</td>\n",
       "    </tr>\n",
       "    <tr>\n",
       "        <td style=\"padding-left: 1em; padding-right: 1em; text-align: center; vertical-align: top\">中国人民银行行长易纲29日表示，小微企业金融服务需<br>要全社会共同努力，切实把货币政策、差异化监 ...</td>\n",
       "        <td style=\"padding-left: 1em; padding-right: 1em; text-align: center; vertical-align: top\">20180630</td>\n",
       "        <td style=\"padding-left: 1em; padding-right: 1em; text-align: center; vertical-align: top\">30</td>\n",
       "        <td style=\"padding-left: 1em; padding-right: 1em; text-align: center; vertical-align: top\">6</td>\n",
       "        <td style=\"padding-left: 1em; padding-right: 1em; text-align: center; vertical-align: top\">[银行]</td>\n",
       "        <td style=\"padding-left: 1em; padding-right: 1em; text-align: center; vertical-align: top\">央行行长：小微企业金融服务需要全社会共同努力</td>\n",
       "    </tr>\n",
       "    <tr>\n",
       "        <td style=\"padding-left: 1em; padding-right: 1em; text-align: center; vertical-align: top\">2018年6月30日国家统计局服务业调查中心和中国<br>物流与采购联合会发布了中国采购经理指数。对 ...</td>\n",
       "        <td style=\"padding-left: 1em; padding-right: 1em; text-align: center; vertical-align: top\">20180630</td>\n",
       "        <td style=\"padding-left: 1em; padding-right: 1em; text-align: center; vertical-align: top\">30</td>\n",
       "        <td style=\"padding-left: 1em; padding-right: 1em; text-align: center; vertical-align: top\">6</td>\n",
       "        <td style=\"padding-left: 1em; padding-right: 1em; text-align: center; vertical-align: top\">[银行]</td>\n",
       "        <td style=\"padding-left: 1em; padding-right: 1em; text-align: center; vertical-align: top\">统计局解读：非制造业商务活动指数持续上升</td>\n",
       "    </tr>\n",
       "    <tr>\n",
       "        <td style=\"padding-left: 1em; padding-right: 1em; text-align: center; vertical-align: top\">6月30日，国家发展改革委、商务部以第19号令，发<br>布了《自由贸易试验区外商投资准入特别管理措 ...</td>\n",
       "        <td style=\"padding-left: 1em; padding-right: 1em; text-align: center; vertical-align: top\">20180630</td>\n",
       "        <td style=\"padding-left: 1em; padding-right: 1em; text-align: center; vertical-align: top\">30</td>\n",
       "        <td style=\"padding-left: 1em; padding-right: 1em; text-align: center; vertical-align: top\">6</td>\n",
       "        <td style=\"padding-left: 1em; padding-right: 1em; text-align: center; vertical-align: top\">[]</td>\n",
       "        <td style=\"padding-left: 1em; padding-right: 1em; text-align: center; vertical-align: top\">2018年版自贸试验区外资准入负面清单出炉！</td>\n",
       "    </tr>\n",
       "    <tr>\n",
       "        <td style=\"padding-left: 1em; padding-right: 1em; text-align: center; vertical-align: top\">6月29日，中国人民银行办公厅发布关于支付机构客户<br>备付金全部集中交存有关事宜的通知。通知明确 ...</td>\n",
       "        <td style=\"padding-left: 1em; padding-right: 1em; text-align: center; vertical-align: top\">20180630</td>\n",
       "        <td style=\"padding-left: 1em; padding-right: 1em; text-align: center; vertical-align: top\">30</td>\n",
       "        <td style=\"padding-left: 1em; padding-right: 1em; text-align: center; vertical-align: top\">6</td>\n",
       "        <td style=\"padding-left: 1em; padding-right: 1em; text-align: center; vertical-align: top\">[银行]</td>\n",
       "        <td style=\"padding-left: 1em; padding-right: 1em; text-align: center; vertical-align: top\">央行：将按月提高支付机构客户备付金集中交存比例</td>\n",
       "    </tr>\n",
       "    <tr>\n",
       "        <td style=\"padding-left: 1em; padding-right: 1em; text-align: center; vertical-align: top\">6月26日，东丽区召开环境保护专题会议，研究进一步<br>改善东丽区生态环境，加强环境保护的工作举措 ...</td>\n",
       "        <td style=\"padding-left: 1em; padding-right: 1em; text-align: center; vertical-align: top\">20180628</td>\n",
       "        <td style=\"padding-left: 1em; padding-right: 1em; text-align: center; vertical-align: top\">28</td>\n",
       "        <td style=\"padding-left: 1em; padding-right: 1em; text-align: center; vertical-align: top\">6</td>\n",
       "        <td style=\"padding-left: 1em; padding-right: 1em; text-align: center; vertical-align: top\">[强生]</td>\n",
       "        <td style=\"padding-left: 1em; padding-right: 1em; text-align: center; vertical-align: top\">天津东丽区加强环境保护 改善生态环境</td>\n",
       "    </tr>\n",
       "    <tr>\n",
       "        <td style=\"padding-left: 1em; padding-right: 1em; text-align: center; vertical-align: top\">外管局：3月末中国银行业对外金融净负债2817亿美<br>元，其中，人民币净负债2841亿美元，外币 ...</td>\n",
       "        <td style=\"padding-left: 1em; padding-right: 1em; text-align: center; vertical-align: top\">20180627</td>\n",
       "        <td style=\"padding-left: 1em; padding-right: 1em; text-align: center; vertical-align: top\">27</td>\n",
       "        <td style=\"padding-left: 1em; padding-right: 1em; text-align: center; vertical-align: top\">6</td>\n",
       "        <td style=\"padding-left: 1em; padding-right: 1em; text-align: center; vertical-align: top\">[]</td>\n",
       "        <td style=\"padding-left: 1em; padding-right: 1em; text-align: center; vertical-align: top\">外管局：3月末中国银行业对外金融净负债2817亿美<br>元 ...</td>\n",
       "    </tr>\n",
       "</table>\n",
       "<table frame=\"box\" rules=\"cols\">\n",
       "    <tr>\n",
       "        <th style=\"padding-left: 1em; padding-right: 1em; text-align: center\">year</th>\n",
       "    </tr>\n",
       "    <tr>\n",
       "        <td style=\"padding-left: 1em; padding-right: 1em; text-align: center; vertical-align: top\">2018</td>\n",
       "    </tr>\n",
       "    <tr>\n",
       "        <td style=\"padding-left: 1em; padding-right: 1em; text-align: center; vertical-align: top\">2018</td>\n",
       "    </tr>\n",
       "    <tr>\n",
       "        <td style=\"padding-left: 1em; padding-right: 1em; text-align: center; vertical-align: top\">2018</td>\n",
       "    </tr>\n",
       "    <tr>\n",
       "        <td style=\"padding-left: 1em; padding-right: 1em; text-align: center; vertical-align: top\">2018</td>\n",
       "    </tr>\n",
       "    <tr>\n",
       "        <td style=\"padding-left: 1em; padding-right: 1em; text-align: center; vertical-align: top\">2018</td>\n",
       "    </tr>\n",
       "    <tr>\n",
       "        <td style=\"padding-left: 1em; padding-right: 1em; text-align: center; vertical-align: top\">2018</td>\n",
       "    </tr>\n",
       "    <tr>\n",
       "        <td style=\"padding-left: 1em; padding-right: 1em; text-align: center; vertical-align: top\">2018</td>\n",
       "    </tr>\n",
       "    <tr>\n",
       "        <td style=\"padding-left: 1em; padding-right: 1em; text-align: center; vertical-align: top\">2018</td>\n",
       "    </tr>\n",
       "    <tr>\n",
       "        <td style=\"padding-left: 1em; padding-right: 1em; text-align: center; vertical-align: top\">2018</td>\n",
       "    </tr>\n",
       "    <tr>\n",
       "        <td style=\"padding-left: 1em; padding-right: 1em; text-align: center; vertical-align: top\">2018</td>\n",
       "    </tr>\n",
       "</table>\n",
       "[515 rows x 7 columns]<br/>Note: Only the head of the SFrame is printed.<br/>You can use print_rows(num_rows=m, num_columns=n) to print more rows and columns.\n",
       "</div>"
      ],
      "text/plain": [
       "Columns:\n",
       "\tcontents\tstr\n",
       "\tdate\tint\n",
       "\tday\tint\n",
       "\tmonth\tint\n",
       "\trelated\tlist\n",
       "\ttitle\tstr\n",
       "\tyear\tint\n",
       "\n",
       "Rows: 515\n",
       "\n",
       "Data:\n",
       "+---------------------------------------------------------+----------+-----+-------+\n",
       "|                         contents                        |   date   | day | month |\n",
       "+---------------------------------------------------------+----------+-----+-------+\n",
       "|   据中国江西网报道，6月27日，南昌市公安局红谷滩分局...  | 20180627 |  27 |   6   |\n",
       "| 足球场上的大热必死，用经济学的语言说是冲高回落。虽然... | 20180630 |  30 |   6   |\n",
       "|  据中国人民银行网站消息，中国人民银行货币政策委员会2... | 20180628 |  28 |   6   |\n",
       "|   北京6月27日讯今日，中国政府网官方微博发布博文“快...   | 20180627 |  27 |   6   |\n",
       "|  中国人民银行行长易纲29日表示，小微企业金融服务需要...  | 20180630 |  30 |   6   |\n",
       "|     2018年6月30日国家统计局服务业调查中心和中国物...    | 20180630 |  30 |   6   |\n",
       "|    6月30日，国家发展改革委、商务部以第19号令，发布...   | 20180630 |  30 |   6   |\n",
       "|   6月29日，中国人民银行办公厅发布关于支付机构客户备...  | 20180630 |  30 |   6   |\n",
       "|   6月26日，东丽区召开环境保护专题会议，研究进一步改...  | 20180628 |  28 |   6   |\n",
       "|    外管局：3月末中国银行业对外金融净负债2817亿美元...   | 20180627 |  27 |   6   |\n",
       "+---------------------------------------------------------+----------+-----+-------+\n",
       "+--------------+-----------------------------------------------------+------+\n",
       "|   related    |                        title                        | year |\n",
       "+--------------+-----------------------------------------------------+------+\n",
       "|      []      | 江西南昌放开非户籍人口落户 领取居住证满半年即可申请 | 2018 |\n",
       "| [高盛, 银行] |                   投行眼里的世界杯                  | 2018 |\n",
       "|      []      |         央行：把握好结构性去杠杆的力度和节奏        | 2018 |\n",
       "|    [微博]    |           “中小微企业日”  闪送却调皮了一下          | 2018 |\n",
       "|    [银行]    |     央行行长：小微企业金融服务需要全社会共同努力    | 2018 |\n",
       "|    [银行]    |       统计局解读：非制造业商务活动指数持续上升      | 2018 |\n",
       "|      []      |       2018年版自贸试验区外资准入负面清单出炉！      | 2018 |\n",
       "|    [银行]    |    央行：将按月提高支付机构客户备付金集中交存比例   | 2018 |\n",
       "|    [强生]    |         天津东丽区加强环境保护 改善生态环境         | 2018 |\n",
       "|      []      |   外管局：3月末中国银行业对外金融净负债2817亿美元   | 2018 |\n",
       "+--------------+-----------------------------------------------------+------+\n",
       "[515 rows x 7 columns]\n",
       "Note: Only the head of the SFrame is printed.\n",
       "You can use print_rows(num_rows=m, num_columns=n) to print more rows and columns."
      ]
     },
     "execution_count": 74,
     "metadata": {},
     "output_type": "execute_result"
    }
   ],
   "source": [
    "news = tc.SFrame('../DataSets/Eastmoney/News/China/CHINA20180701-0848.csv')\n",
    "news"
   ]
  },
  {
   "cell_type": "markdown",
   "metadata": {},
   "source": [
    "# 检查数据纯净度"
   ]
  },
  {
   "cell_type": "code",
   "execution_count": 75,
   "metadata": {
    "scrolled": false
   },
   "outputs": [
    {
     "name": "stdout",
     "output_type": "stream",
     "text": [
      "据国家统计局30日消息，2018年6月份，中国制造业采购经理指数(PMI)为51.5%，比上月回落0.4个百分点，仍高于上半年均值0.2个百分点，制造业总体继续保持扩张态势。从企业规模看，大型企业PMI为52.9%，比上月回落0.2个百分点，保持在临界点之上；中型企业PMI为49.9%，比上月下降1.1个百分点，落至临界点以下；小型企业PMI为49.8%，比上月回升0.2个百分点，仍低于临界点。从分类指数看，在构成制造业PMI的5个分类指数中，生产指数、新订单指数和供应商配送时间指数高于临界点，原材料库存指数和从业人员指数低于临界点。生产指数为53.6%，低于上月0.5个百分点，仍处于扩张区间，表明制造业生产保持增长，增速有所放缓。新订单指数为53.2%，比上月回落0.6个百分点，继续高于临界点，表明制造业市场需求保持扩张，增幅有所收窄。原材料库存指数为48.8%，比上月下降0.8个百分点，位于临界点以下，表明制造业主要原材料库存量继续减少。从业人员指数为49.0%，微低于上月0.1个百分点，位于临界点以下，表明制造业企业用工量收缩。供应商配送时间指数为50.2%，高于上月0.1个百分点，位于临界点之上，表明制造业原材料供应商交货时间有所加快。\n",
      "\n",
      "北京市16个区与内蒙古自治区31个国贫旗县日前分别签订了《京蒙劳务协作扶贫行动协议》。按照协议，北京16个区将帮助内蒙古自治区国贫旗县有转移意愿的劳动力实现转移就业，并协助内蒙古输出人员开展职业培训，提供职业指导帮助，推动内蒙古脱贫攻坚。内蒙古自治区人社厅相关负责人告诉中国经济时报记者，京蒙劳务协作专项扶贫行动是促进内蒙古深入实施京蒙对口帮扶、开展人力资源社会保障脱贫攻坚的重要举措。根据协议内容，内蒙古签约地区负责摸清本地区现有转移就业意愿和能力的劳动力，特别是建档立卡贫困劳动力的基本情况、就业意愿及培训需求，形成“求职需求清单”。北京签约方将根据“求职需求清单”，组织发动管理规范、岗位适合、待遇较好、社会责任感较强的企业定向筛选和开发岗位，形成“岗位供给清单”。最终签约双方建立区域劳动力供求信息收集、分析、评估和定期发布制度，通过举办劳动力信息推介会和用人单位招聘会等形式，实现人力资源与岗位需求有效对接。\n",
      "\n",
      "近年来，青岛开发区紧紧围绕推动转型升级和创新发展主线，创新外资利用方式，推动开发区工作再上新台阶。在商务部发布的2017年国家级经济技术开发区综合发展水平考核评价中，青岛开发区综合排名位列第五，这是青岛开发区连续12次跻身全国综合评价前五强。在2017年被列入考核的五大类指标中，青岛开发区产业集聚、科技创新、生态环保、行政效能四大类指标处于全国领先水平。考核的53项指标中，有41项指标优于全国平均水平，产业基础类指标位居全国前五强，利用外资和对外贸易均进入全国前十位。布局高端新兴产业2017年，青岛经济技术开发区实现地区生产总值2155亿元，同比增长10%；规模工业产值3701亿元，同比增长0.2%；固定资产投资991亿元，增长0.2%；进出口总额1298亿元，同比增长6.9%，其中出口629亿元，增长4.7%；实际利用外资12亿美元，同比增长1.8%。这些骄人成绩的背后离不开青岛开发区多年来坚持“双措并举”优化产业布局，大力发展高端新兴业态，重点打造高端装备制造产业园、智慧物流产业园、生命健康产业园等现代化智能园区，高端制造和新兴产业项目。这些不仅成为外资实际到账的“压舱石”，更进一步提升了港口物流、汽车制造等传统产业集群发展活力。产业转型正带动区域经济新一轮的升级发展。青岛开发区瞄准智能制造领域，升级高端装备产业智能化。推进中的山东省机器人智慧产业园计划投资120亿元，规划占地2000亩，总建筑面积240万平方米，项目一期总投资13亿元。产业园将打造以研究开发、制造工业机器人和服务机器人为主，兼具机器人研发、机器人科普教育、机器人孵化、机器人展览等多功能的省内最大的智能机器人孵化基地。在物流领域，青岛开发区依托港口物流传统优势，重点吸引高端现代物流业项目。正在建设的香港胜狮太平货柜冷箱项目总投资2亿美元，拥有世界领先的现代物流冷链技术，预计投产后年产6万个标准冷藏箱，产值30亿元，利税2.5亿元，实现就业2500人。青岛开发区突出生命健康产业发展，区内高端医疗服务和生物医药企业聚集。总投资4亿美元的澳大利亚国际健康产业园项目占地600亩，将打造成集养老居住、休闲养生、康复护理等功能于一体的综合性养老服务机构。正在洽谈推进的复旦大学国际医疗器械研发制造产业园项目，主要建设国家级医疗器械研发中心、医疗器械技术转化公共服务平台、医疗器械创新(创业)国际交流和培训中心及国际产业园区，将打造国际一流的以心血管等领域为主的医疗器械创新创业孵化器及创业者培训基地。青岛开发区还致力于改造提升汽车产业链，打造“千亿级”产业集群。在青岛开发区，先后有日本住野精密汽车零部件、韩国世亚总部及研发中心等一系列高端汽车配套项目落户。开发区将形成以上汽通用五菱整车为龙头、配套产业并进发展、产值过千亿元的汽车产业集群。在致力于带动区域经济增长的同时，青岛开发区坚持绿色发展理念。以绿化提升城市品质，全区林木绿化率35.6%，城区绿化覆盖率45.8%。区内人文环境浓厚，基层文化服务网络健全，已形成15分钟文化圈。优化营商环境发掘引资潜力在汲取上海自贸试验区改革经验的基础上，青岛开发区以便利化为导向，完善项目行政审批机制；发挥先行先试优势，实施审批和监管分离，在全省率先成立首家行政审批局，实现“一个窗口受理，一枚印章审批”的集中审批运行模式。在服务方面，青岛开发区完善投产运营项目日常服务机制；加大企业运营服务，定期走访了解，建立政银企平台，着力解决企业运营过程中的资金、用工、配套等方面问题，优化营商环境，促进老树发新芽。2016年以来，香港胜狮太平货柜、葡萄牙泰纳瑞斯等10余个项目实现增资，总投资规模超过10亿美元。目前，青岛开发区已有近60个国家和地区的客商来区投资，累计引进投资过千万美元项目520个、世界500强投资项目75个。\n",
      "\n"
     ]
    }
   ],
   "source": [
    "# 随机人工检查数据纯净度\n",
    "\n",
    "def showContents(number_to_show, total_amount):\n",
    "    counter = 0\n",
    "    while counter < number_to_show:\n",
    "        print(news['contents'][int(random.uniform(0, total_amount - 1))])\n",
    "        print('')\n",
    "        counter += 1\n",
    "    \n",
    "showContents(3, len(news['contents']))"
   ]
  },
  {
   "cell_type": "markdown",
   "metadata": {},
   "source": [
    "# 自然语言识别"
   ]
  },
  {
   "cell_type": "code",
   "execution_count": null,
   "metadata": {},
   "outputs": [],
   "source": []
  }
 ],
 "metadata": {
  "kernelspec": {
   "display_name": "Python 3",
   "language": "python",
   "name": "python3"
  },
  "language_info": {
   "codemirror_mode": {
    "name": "ipython",
    "version": 3
   },
   "file_extension": ".py",
   "mimetype": "text/x-python",
   "name": "python",
   "nbconvert_exporter": "python",
   "pygments_lexer": "ipython3",
   "version": "3.6.5"
  }
 },
 "nbformat": 4,
 "nbformat_minor": 2
}
