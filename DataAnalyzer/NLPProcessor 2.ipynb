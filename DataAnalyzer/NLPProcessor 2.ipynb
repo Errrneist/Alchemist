{
 "cells": [
  {
   "cell_type": "markdown",
   "metadata": {},
   "source": [
    "# 自然语言识别处理单元\n",
    "## [拂晓工作室](https://github.com/Errrneist/Alchemist)\n",
    "* 此程序可用于识别文字中的语言以及深度分析新闻概况"
   ]
  },
  {
   "cell_type": "markdown",
   "metadata": {},
   "source": [
    "# 参考资料\n",
    "* [1] [SFrame入门](https://apple.github.io/turicreate/docs/api/generated/turicreate.SFrame.html#turicreate.SFrame)\n",
    "* [2] [从字符串中删除子字符串](https://stackoverflow.com/questions/31273642/better-way-to-remove-multiple-words-from-a-string)\n",
    "* [3] [用Python分析《红楼梦》 - 楼宇](https://zhuanlan.zhihu.com/p/29209681)\n",
    "* [4] [使用pyltp包进行中文分词实例](https://blog.csdn.net/sinat_26917383/article/details/77067515)\n",
    "* [5] [pyltp技术文档](http://pyltp.readthedocs.io/zh_CN/latest/api.html#id15)\n",
    "* [6] [pyltp介绍文档一](https://www.ltp-cloud.com/intro/#introduction )\n",
    "* [7] [pyltp介绍文档二](http://ltp.readthedocs.io/zh_CN/latest/appendix.html#id5)\n",
    "* [8] [pyltp深度训练模型](https://pan.baidu.com/share/link?shareid=1988562907&uk=2738088569#list/path=/)\n"
   ]
  },
  {
   "cell_type": "markdown",
   "metadata": {},
   "source": [
    "# 导入库"
   ]
  },
  {
   "cell_type": "code",
   "execution_count": 1,
   "metadata": {},
   "outputs": [
    {
     "name": "stderr",
     "output_type": "stream",
     "text": [
      "/Users/hongjunwu/anaconda3/lib/python3.6/site-packages/h5py/__init__.py:36: FutureWarning: Conversion of the second argument of issubdtype from `float` to `np.floating` is deprecated. In future, it will be treated as `np.float64 == np.dtype(float).type`.\n",
      "  from ._conv import register_converters as _register_converters\n"
     ]
    }
   ],
   "source": [
    "# 导入库\n",
    "import urllib\n",
    "import re\n",
    "import pymysql\n",
    "import os\n",
    "import csv\n",
    "import time\n",
    "import datetime\n",
    "# import pyltp\n",
    "import turicreate as tc\n",
    "from bs4 import BeautifulSoup"
   ]
  },
  {
   "cell_type": "code",
   "execution_count": 2,
   "metadata": {},
   "outputs": [
    {
     "data": {
      "text/html": [
       "<pre>Finished parsing file /Users/hongjunwu/Documents/GitHub/Alchemist/DataSets/Eastmoney/China/20180630-2015.csv</pre>"
      ],
      "text/plain": [
       "Finished parsing file /Users/hongjunwu/Documents/GitHub/Alchemist/DataSets/Eastmoney/China/20180630-2015.csv"
      ]
     },
     "metadata": {},
     "output_type": "display_data"
    },
    {
     "data": {
      "text/html": [
       "<pre>Parsing completed. Parsed 100 lines in 0.064344 secs.</pre>"
      ],
      "text/plain": [
       "Parsing completed. Parsed 100 lines in 0.064344 secs."
      ]
     },
     "metadata": {},
     "output_type": "display_data"
    },
    {
     "name": "stdout",
     "output_type": "stream",
     "text": [
      "------------------------------------------------------\n",
      "Inferred types from first 100 line(s) of file as \n",
      "column_type_hints=[str,int,int,list,str,int]\n",
      "If parsing fails due to incorrect types, you can correct\n",
      "the inferred type list above and pass it to read_csv in\n",
      "the column_type_hints argument\n",
      "------------------------------------------------------\n"
     ]
    },
    {
     "data": {
      "text/html": [
       "<pre>Finished parsing file /Users/hongjunwu/Documents/GitHub/Alchemist/DataSets/Eastmoney/China/20180630-2015.csv</pre>"
      ],
      "text/plain": [
       "Finished parsing file /Users/hongjunwu/Documents/GitHub/Alchemist/DataSets/Eastmoney/China/20180630-2015.csv"
      ]
     },
     "metadata": {},
     "output_type": "display_data"
    },
    {
     "data": {
      "text/html": [
       "<pre>Parsing completed. Parsed 515 lines in 0.036906 secs.</pre>"
      ],
      "text/plain": [
       "Parsing completed. Parsed 515 lines in 0.036906 secs."
      ]
     },
     "metadata": {},
     "output_type": "display_data"
    }
   ],
   "source": [
    "news = tc.SFrame('../DataSets/Eastmoney/China/20180630-2015.csv')"
   ]
  },
  {
   "cell_type": "code",
   "execution_count": 5,
   "metadata": {},
   "outputs": [
    {
     "data": {
      "text/html": [
       "<div style=\"max-height:1000px;max-width:1500px;overflow:auto;\"><table frame=\"box\" rules=\"cols\">\n",
       "    <tr>\n",
       "        <th style=\"padding-left: 1em; padding-right: 1em; text-align: center\">contents</th>\n",
       "        <th style=\"padding-left: 1em; padding-right: 1em; text-align: center\">day</th>\n",
       "        <th style=\"padding-left: 1em; padding-right: 1em; text-align: center\">month</th>\n",
       "        <th style=\"padding-left: 1em; padding-right: 1em; text-align: center\">related</th>\n",
       "    </tr>\n",
       "    <tr>\n",
       "        <td style=\"padding-left: 1em; padding-right: 1em; text-align: center; vertical-align: top\">中国人大网6月29日透露，第十三届全国人大常委会第<br>三次会议日前已对《中华人民共和国个人所得税 ...</td>\n",
       "        <td style=\"padding-left: 1em; padding-right: 1em; text-align: center; vertical-align: top\">29</td>\n",
       "        <td style=\"padding-left: 1em; padding-right: 1em; text-align: center; vertical-align: top\">6</td>\n",
       "        <td style=\"padding-left: 1em; padding-right: 1em; text-align: center; vertical-align: top\">[]</td>\n",
       "    </tr>\n",
       "    <tr>\n",
       "        <td style=\"padding-left: 1em; padding-right: 1em; text-align: center; vertical-align: top\">中国经济导报中国发展网粤工商马思泳记者皮泽红报道近<br>日，广东省工商局等16部门联合发布了《广东 ...</td>\n",
       "        <td style=\"padding-left: 1em; padding-right: 1em; text-align: center; vertical-align: top\">29</td>\n",
       "        <td style=\"padding-left: 1em; padding-right: 1em; text-align: center; vertical-align: top\">6</td>\n",
       "        <td style=\"padding-left: 1em; padding-right: 1em; text-align: center; vertical-align: top\">[房地产]</td>\n",
       "    </tr>\n",
       "    <tr>\n",
       "        <td style=\"padding-left: 1em; padding-right: 1em; text-align: center; vertical-align: top\">【22项重大举措 新外资准入负面清单释放开放新信号<br>】2018年版外商投资准入负面清单，在一、 ...</td>\n",
       "        <td style=\"padding-left: 1em; padding-right: 1em; text-align: center; vertical-align: top\">29</td>\n",
       "        <td style=\"padding-left: 1em; padding-right: 1em; text-align: center; vertical-align: top\">6</td>\n",
       "        <td style=\"padding-left: 1em; padding-right: 1em; text-align: center; vertical-align: top\">[]</td>\n",
       "    </tr>\n",
       "    <tr>\n",
       "        <td style=\"padding-left: 1em; padding-right: 1em; text-align: center; vertical-align: top\">国家市场监管总局昨日通报称，北京市交管局在交通违章<br>罚款管理中未经公开竞争性程序指定工商银行作 ...</td>\n",
       "        <td style=\"padding-left: 1em; padding-right: 1em; text-align: center; vertical-align: top\">28</td>\n",
       "        <td style=\"padding-left: 1em; padding-right: 1em; text-align: center; vertical-align: top\">6</td>\n",
       "        <td style=\"padding-left: 1em; padding-right: 1em; text-align: center; vertical-align: top\">[工商银行, 银行, 工商银行]</td>\n",
       "    </tr>\n",
       "    <tr>\n",
       "        <td style=\"padding-left: 1em; padding-right: 1em; text-align: center; vertical-align: top\">内蒙古自治区党委书记、自治区协调联络工作领导小组组<br>长李纪恒主持召开中央环境保护督察“回头看” ...</td>\n",
       "        <td style=\"padding-left: 1em; padding-right: 1em; text-align: center; vertical-align: top\">28</td>\n",
       "        <td style=\"padding-left: 1em; padding-right: 1em; text-align: center; vertical-align: top\">6</td>\n",
       "        <td style=\"padding-left: 1em; padding-right: 1em; text-align: center; vertical-align: top\">[]</td>\n",
       "    </tr>\n",
       "    <tr>\n",
       "        <td style=\"padding-left: 1em; padding-right: 1em; text-align: center; vertical-align: top\">【商务部：中欧经贸合作将为全球经济复苏带来“暖流”<br>】商务部新闻发言人高峰28日说，中欧双方在 ...</td>\n",
       "        <td style=\"padding-left: 1em; padding-right: 1em; text-align: center; vertical-align: top\">28</td>\n",
       "        <td style=\"padding-left: 1em; padding-right: 1em; text-align: center; vertical-align: top\">6</td>\n",
       "        <td style=\"padding-left: 1em; padding-right: 1em; text-align: center; vertical-align: top\">[]</td>\n",
       "    </tr>\n",
       "    <tr>\n",
       "        <td style=\"padding-left: 1em; padding-right: 1em; text-align: center; vertical-align: top\">城市副中心与廊坊北三县地区如何协同发展？城市副中心<br>如何辐射带动北三县？京津冀区域协同发展示范 ...</td>\n",
       "        <td style=\"padding-left: 1em; padding-right: 1em; text-align: center; vertical-align: top\">27</td>\n",
       "        <td style=\"padding-left: 1em; padding-right: 1em; text-align: center; vertical-align: top\">6</td>\n",
       "        <td style=\"padding-left: 1em; padding-right: 1em; text-align: center; vertical-align: top\">[房地产]</td>\n",
       "    </tr>\n",
       "    <tr>\n",
       "        <td style=\"padding-left: 1em; padding-right: 1em; text-align: center; vertical-align: top\">【石家庄：允许高库存地区商服用地改性为住宅 比例不<br>超过七成】6月29日，河北省石家庄市人民政 ...</td>\n",
       "        <td style=\"padding-left: 1em; padding-right: 1em; text-align: center; vertical-align: top\">29</td>\n",
       "        <td style=\"padding-left: 1em; padding-right: 1em; text-align: center; vertical-align: top\">6</td>\n",
       "        <td style=\"padding-left: 1em; padding-right: 1em; text-align: center; vertical-align: top\">[房地产]</td>\n",
       "    </tr>\n",
       "    <tr>\n",
       "        <td style=\"padding-left: 1em; padding-right: 1em; text-align: center; vertical-align: top\">据新华社报道，针对近期房地产市场乱象，为严厉打击侵<br>害群众利益的违法违规行为，住房和城乡建设部 ...</td>\n",
       "        <td style=\"padding-left: 1em; padding-right: 1em; text-align: center; vertical-align: top\">28</td>\n",
       "        <td style=\"padding-left: 1em; padding-right: 1em; text-align: center; vertical-align: top\">6</td>\n",
       "        <td style=\"padding-left: 1em; padding-right: 1em; text-align: center; vertical-align: top\">[房地产]</td>\n",
       "    </tr>\n",
       "    <tr>\n",
       "        <td style=\"padding-left: 1em; padding-right: 1em; text-align: center; vertical-align: top\">正式获批为国家中心城市，可以称得上是西安今年最为重<br>大的利好之一。在国家发改委和住建部正式批复 ...</td>\n",
       "        <td style=\"padding-left: 1em; padding-right: 1em; text-align: center; vertical-align: top\">29</td>\n",
       "        <td style=\"padding-left: 1em; padding-right: 1em; text-align: center; vertical-align: top\">6</td>\n",
       "        <td style=\"padding-left: 1em; padding-right: 1em; text-align: center; vertical-align: top\">[长和]</td>\n",
       "    </tr>\n",
       "</table>\n",
       "<table frame=\"box\" rules=\"cols\">\n",
       "    <tr>\n",
       "        <th style=\"padding-left: 1em; padding-right: 1em; text-align: center\">title</th>\n",
       "        <th style=\"padding-left: 1em; padding-right: 1em; text-align: center\">year</th>\n",
       "    </tr>\n",
       "    <tr>\n",
       "        <td style=\"padding-left: 1em; padding-right: 1em; text-align: center; vertical-align: top\">个税法修正案草案已通过人大审议<br>正式面向社会征求意见 ...</td>\n",
       "        <td style=\"padding-left: 1em; padding-right: 1em; text-align: center; vertical-align: top\">2018</td>\n",
       "    </tr>\n",
       "    <tr>\n",
       "        <td style=\"padding-left: 1em; padding-right: 1em; text-align: center; vertical-align: top\">广东将实施全国统一“多证合一”改革</td>\n",
       "        <td style=\"padding-left: 1em; padding-right: 1em; text-align: center; vertical-align: top\">2018</td>\n",
       "    </tr>\n",
       "    <tr>\n",
       "        <td style=\"padding-left: 1em; padding-right: 1em; text-align: center; vertical-align: top\">22项重大举措 新外资准入负面清单释放开放新信号</td>\n",
       "        <td style=\"padding-left: 1em; padding-right: 1em; text-align: center; vertical-align: top\">2018</td>\n",
       "    </tr>\n",
       "    <tr>\n",
       "        <td style=\"padding-left: 1em; padding-right: 1em; text-align: center; vertical-align: top\">北京交管局：多渠道告知不再强制使用牡丹卡</td>\n",
       "        <td style=\"padding-left: 1em; padding-right: 1em; text-align: center; vertical-align: top\">2018</td>\n",
       "    </tr>\n",
       "    <tr>\n",
       "        <td style=\"padding-left: 1em; padding-right: 1em; text-align: center; vertical-align: top\">内蒙古自治区党委书记李纪恒强调支持配合中央环保督察<br>组工作 ...</td>\n",
       "        <td style=\"padding-left: 1em; padding-right: 1em; text-align: center; vertical-align: top\">2018</td>\n",
       "    </tr>\n",
       "    <tr>\n",
       "        <td style=\"padding-left: 1em; padding-right: 1em; text-align: center; vertical-align: top\">商务部：中欧经贸合作将为全球经济复苏带来“暖流”</td>\n",
       "        <td style=\"padding-left: 1em; padding-right: 1em; text-align: center; vertical-align: top\">2018</td>\n",
       "    </tr>\n",
       "    <tr>\n",
       "        <td style=\"padding-left: 1em; padding-right: 1em; text-align: center; vertical-align: top\">推动城市副中心与廊坊北三县地区统筹发展<br>建设京津冀区域协同发展示范区 ...</td>\n",
       "        <td style=\"padding-left: 1em; padding-right: 1em; text-align: center; vertical-align: top\">2018</td>\n",
       "    </tr>\n",
       "    <tr>\n",
       "        <td style=\"padding-left: 1em; padding-right: 1em; text-align: center; vertical-align: top\">石家庄：允许高库存地区商服用地改性为住宅<br>比例不超过七成 ...</td>\n",
       "        <td style=\"padding-left: 1em; padding-right: 1em; text-align: center; vertical-align: top\">2018</td>\n",
       "    </tr>\n",
       "    <tr>\n",
       "        <td style=\"padding-left: 1em; padding-right: 1em; text-align: center; vertical-align: top\">住建部等七部门重拳出击整治房地产市场乱象</td>\n",
       "        <td style=\"padding-left: 1em; padding-right: 1em; text-align: center; vertical-align: top\">2018</td>\n",
       "    </tr>\n",
       "    <tr>\n",
       "        <td style=\"padding-left: 1em; padding-right: 1em; text-align: center; vertical-align: top\">西安跻身国家中心城市阵营<br>诸多重大战略机遇赋能新发展 ...</td>\n",
       "        <td style=\"padding-left: 1em; padding-right: 1em; text-align: center; vertical-align: top\">2018</td>\n",
       "    </tr>\n",
       "</table>\n",
       "[515 rows x 6 columns]<br/>Note: Only the head of the SFrame is printed.<br/>You can use print_rows(num_rows=m, num_columns=n) to print more rows and columns.\n",
       "</div>"
      ],
      "text/plain": [
       "Columns:\n",
       "\tcontents\tstr\n",
       "\tday\tint\n",
       "\tmonth\tint\n",
       "\trelated\tlist\n",
       "\ttitle\tstr\n",
       "\tyear\tint\n",
       "\n",
       "Rows: 515\n",
       "\n",
       "Data:\n",
       "+---------------------------------------------------------+-----+-------+\n",
       "|                         contents                        | day | month |\n",
       "+---------------------------------------------------------+-----+-------+\n",
       "|   中国人大网6月29日透露，第十三届全国人大常委会第三...  |  29 |   6   |\n",
       "| 中国经济导报中国发展网粤工商马思泳记者皮泽红报道近日... |  29 |   6   |\n",
       "|   【22项重大举措 新外资准入负面清单释放开放新信号】...  |  29 |   6   |\n",
       "| 国家市场监管总局昨日通报称，北京市交管局在交通违章罚... |  28 |   6   |\n",
       "| 内蒙古自治区党委书记、自治区协调联络工作领导小组组长... |  28 |   6   |\n",
       "|  【商务部：中欧经贸合作将为全球经济复苏带来“暖流”】...  |  28 |   6   |\n",
       "| 城市副中心与廊坊北三县地区如何协同发展？城市副中心如... |  27 |   6   |\n",
       "|  【石家庄：允许高库存地区商服用地改性为住宅 比例不超... |  29 |   6   |\n",
       "| 据新华社报道，针对近期房地产市场乱象，为严厉打击侵害... |  28 |   6   |\n",
       "| 正式获批为国家中心城市，可以称得上是西安今年最为重大... |  29 |   6   |\n",
       "+---------------------------------------------------------+-----+-------+\n",
       "+----------------------------+----------------------------------------------------------+\n",
       "|          related           |                          title                           |\n",
       "+----------------------------+----------------------------------------------------------+\n",
       "|             []             |   个税法修正案草案已通过人大审议 正式面向社会征求意见    |\n",
       "|          [房地产]          |             广东将实施全国统一“多证合一”改革             |\n",
       "|             []             |      22项重大举措 新外资准入负面清单释放开放新信号       |\n",
       "| [工商银行, 银行, 工商银行] |         北京交管局：多渠道告知不再强制使用牡丹卡         |\n",
       "|             []             | 内蒙古自治区党委书记李纪恒强调支持配合中央环保督察组工作 |\n",
       "|             []             |      商务部：中欧经贸合作将为全球经济复苏带来“暖流”      |\n",
       "|          [房地产]          |  推动城市副中心与廊坊北三县地区统筹发展  建设京津冀...   |\n",
       "|          [房地产]          | 石家庄：允许高库存地区商服用地改性为住宅 比例不超过七成  |\n",
       "|          [房地产]          |         住建部等七部门重拳出击整治房地产市场乱象         |\n",
       "|           [长和]           |   西安跻身国家中心城市阵营 诸多重大战略机遇赋能新发展    |\n",
       "+----------------------------+----------------------------------------------------------+\n",
       "+------+\n",
       "| year |\n",
       "+------+\n",
       "| 2018 |\n",
       "| 2018 |\n",
       "| 2018 |\n",
       "| 2018 |\n",
       "| 2018 |\n",
       "| 2018 |\n",
       "| 2018 |\n",
       "| 2018 |\n",
       "| 2018 |\n",
       "| 2018 |\n",
       "+------+\n",
       "[515 rows x 6 columns]\n",
       "Note: Only the head of the SFrame is printed.\n",
       "You can use print_rows(num_rows=m, num_columns=n) to print more rows and columns."
      ]
     },
     "execution_count": 5,
     "metadata": {},
     "output_type": "execute_result"
    }
   ],
   "source": [
    "news"
   ]
  },
  {
   "cell_type": "code",
   "execution_count": 3,
   "metadata": {},
   "outputs": [
    {
     "data": {
      "text/plain": [
       "{'contents': '【22项重大举措 新外资准入负面清单释放开放新信号】2018年版外商投资准入负面清单，在一、二、三产业全面放宽市场准入，涉及金融、交通运输、商贸流通、专业服务、制造、基础设施、能源、资源、农业等各领域，共推出22项重大开放措施。（新华社）国家发展改革委、商务部28日对外发布《外商投资准入特别管理措施(负面清单)(2018年版)》，大幅放开22个领域外商投资市场准入。新版外商投资准入负面清单有哪些重大开放举措？以更大力度推动新一轮对外开放意义何在？记者采访了相关人士。22项重大举措推动全方位开放2018年版外商投资准入负面清单，在一、二、三产业全面放宽市场准入，涉及金融、交通运输、商贸流通、专业服务、制造、基础设施、能源、资源、农业等各领域，共推出22项重大开放措施。“修订负面清单，总的原则是以更大力度推进对外开放，不仅是清单长度要缩短，更重要的是推动重点领域开放，推出有标志意义的举措。”国家发展改革委有关负责人说。党的十八大以来，我国逐步形成和完善了自贸试验区的外商投资准入负面清单，并在2017年首次提出在全国范围内实施的外商投资准入负面清单。近年来，外资限制措施已从180项左右减少至60多项，减少近三分之二。2018年版负面清单比2017年版的63条减少了15条，进一步缩小了外商投资审批范围。“对外商投资实行准入前国民待遇加负面清单管理模式，是中国适应经济全球化新形势和国际投资规则变化的制度变革。”国务院新闻办公室28日发表的《中国与世界贸易组织》白皮书这样评价。愈加广阔开放的市场、不断优化的营商环境让中国成为富有吸引力的投资热土。今年1至5月，发达经济体对华投资增长显著。新加坡、韩国、日本、美国、英国等对华实际投入金额同比分别增长33.9%、66.9%、5.1%、16.3%和56.9%。中国美国商会《2018中国商务环境调查报告》显示，约60%受访企业将中国列为全球三大投资目的地之一，74%的会员企业计划于2018年扩大在华投资，比例为近年来最高。中国宏观经济研究院对外经济研究所副研究员李大伟说，此次修订负面清单，再次大幅放宽外资市场准入，不仅取消了汽车、飞机、船舶等制造业领域外资准入限制，还在金融、运输等服务业及种业等领域进一步开放，充分体现了我国外资管理体制更加开放、灵活、高效的改革方向，对构建开放型经济新体制具有重大意义。对汽车、金融领域开放作出整体安排近期，瑞银证券、野村证券、摩根大通等外资机构向中国证监会提交控股合资券商的申请，抢抓中国新一轮开放的重大机遇。与上版负面清单相比，2018年版外商投资准入负面清单，对汽车、金融领域对外开放的路线图和时间表作出明确安排——在汽车领域，2018年取消专用车、新能源汽车整车制造外资股比限制，2020年取消商用车外资股比限制，2022年取消乘用车外资股比限制以及合资企业不超过两家的限制。在金融领域，2018年取消对中资银行的外资单一持股不超过20%，合计持股不超过25%的持股比例限制；2018年将证券公司、证券投资基金管理公司由中方控股改为外资股比不超过51%，2021年取消外资股比限制；2018年将期货公司由中方控股改为外资股比不超过51%，2021年取消外资股比限制；2018年将寿险公司外资股比由50%放宽至51%，2021年取消外资股比限制。“逐步加大开放力度，给予相关行业一定过渡期，进一步增强开放的可预期性。”国家发展改革委有关负责人说。改革开放40年来，正是在与世界的深度互动中，社会主义市场经济体制不断完善，中国企业在激烈的全球竞争中加快成长，中国经济转型升级步伐不断加快。“进入新时代，外商投资呈现出涌向高技术服务业、高端制造业等高端产业的趋势，顺应新趋势加快市场准入改革和优化营商环境，是中国政府按照自身发展逻辑和基于历史经验的主动选择。”中国国际经济交流中心首席研究员张燕生说。高水平开放促高质量发展大幅扩大服务业开放、基本放开制造业、放宽农业和能源资源领域准入……新版负面清单，在与经济高质量发展密切相关的多个领域，推出一系列重磅开放举措。我国经济发展是主动融入经济全球化的过程。“随着产业环境、政策环境、法制环境更加完善，我国已具备高水平发展的基础。”国家发展改革委有关负责人说，通过新的开放措施，将进一步深化我国同其他国家和地区间的投资合作，开展更广泛的资本、技术、管理、人才交流，在更大范围实现互利共赢。大幅放宽汽车等高附加值产品制造业的市场准入，既能直接增加高档汽车等高质量产品的供给，更有利于推动上下游本土企业在和外资企业的竞争和合作中加大研发投入和创新经营理念，有效提升产品和服务的质量与技术水平；大幅放宽物流、专业服务等生产性服务业领域的市场准入，有利于将外资企业在服务环节的优势和本土企业在加工制造环节的优势有机融合，有效促进我国整体制造业转型升级；扩大金融服务业对外开放，对于优化资本配置效率，降低企业融资成本，刺激企业投入更多资源进行创新和改进生产工艺，有效提高供给质量意义重大……“积极引进高质量外资是提升供给质量的必然要求。”李大伟说，不仅能直接扩大消费选择，也将产生一定的“鲶鱼效应”，激励本土企业生产更高品质的产品，更好满足人民日益增长的美好生活需要。外商直接投资规模从1992年起连续26年居发展中国家首位；加入世贸组织后，外商直接投资规模从2001年的468.8亿美元增加到2017年的1363.2亿美元，年均增长6.9%……过去40年中国经济发展是在开放条件下取得的，未来中国经济实现高质量发展也必须在更加开放条件下进行。国家发展改革委有关负责人说，面临国际环境深刻变化，特别是贸易保护主义抬头，中国将以更大力度推进开放，以开放促改革、促发展、促创新，加快向高质量发展，也将推进经济全球化深入发展。市场解读>>>负面清单再缩短 重点领域更开放——新版外商投资准入负面清单释放开放新信号 2018年版负面清单发布 汽车、金融领域对外开放路线图时间表明确 新华时评：负面清单越来越少 开放红利越来越多 图解负面清单>>>图解：2018年版外商投资准入特别管理措施(负面清单)',\n",
       " 'day': 29,\n",
       " 'month': 6,\n",
       " 'related': [],\n",
       " 'title': '22项重大举措 新外资准入负面清单释放开放新信号',\n",
       " 'year': 2018}"
      ]
     },
     "execution_count": 3,
     "metadata": {},
     "output_type": "execute_result"
    }
   ],
   "source": [
    "news[2]"
   ]
  },
  {
   "cell_type": "code",
   "execution_count": null,
   "metadata": {},
   "outputs": [],
   "source": []
  }
 ],
 "metadata": {
  "kernelspec": {
   "display_name": "Python 3",
   "language": "python",
   "name": "python3"
  },
  "language_info": {
   "codemirror_mode": {
    "name": "ipython",
    "version": 3
   },
   "file_extension": ".py",
   "mimetype": "text/x-python",
   "name": "python",
   "nbconvert_exporter": "python",
   "pygments_lexer": "ipython3",
   "version": "3.6.5"
  }
 },
 "nbformat": 4,
 "nbformat_minor": 2
}
