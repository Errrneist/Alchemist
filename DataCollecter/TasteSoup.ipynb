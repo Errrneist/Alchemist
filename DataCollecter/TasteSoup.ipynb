{
 "cells": [
  {
   "cell_type": "markdown",
   "metadata": {
    "collapsed": true
   },
   "source": [
    "# BeautifulSoup测试\n",
    "## 拂晓工作室\n",
    "### 测试单个网页的提取工作！\n",
    "* [1] bs4的使用方法：https://qiita.com/rusarusa/items/d7f014ba80d6fe7a3e07\n",
    "* [2] re的使用方法：https://stackoverflow.com/questions/23669024/how-to-strip-a-specific-word-from-a-string\n",
    "* [3] str.replace的使用方法：https://www.tutorialspoint.com/python/string_replace.htm\n",
    "* [4] BS4中文文档：https://www.crummy.com/software/BeautifulSoup/bs4/doc.zh/"
   ]
  },
  {
   "cell_type": "code",
   "execution_count": 19,
   "metadata": {},
   "outputs": [],
   "source": [
    "from bs4 import BeautifulSoup\n",
    "import urllib.request\n",
    "import re"
   ]
  },
  {
   "cell_type": "code",
   "execution_count": 109,
   "metadata": {},
   "outputs": [],
   "source": [
    "url = 'http://finance.eastmoney.com/news/1350,20180628896937771.html'\n",
    "req = urllib.request.Request(url)\n",
    "response = urllib.request.urlopen(req)\n",
    "html = response.read()\n",
    "soup = BeautifulSoup(html, \"lxml\")"
   ]
  },
  {
   "cell_type": "code",
   "execution_count": 110,
   "metadata": {},
   "outputs": [
    {
     "name": "stdout",
     "output_type": "stream",
     "text": [
      "新兴际华两年输出四位央企正职高管 系央企改革试点之一\n"
     ]
    }
   ],
   "source": [
    "# 获得文章的标题\n",
    "title = soup.find('h1').get_text()\n",
    "print(title)"
   ]
  },
  {
   "cell_type": "code",
   "execution_count": 111,
   "metadata": {},
   "outputs": [
    {
     "name": "stdout",
     "output_type": "stream",
     "text": [
      "2018年06月28日 21:43\n"
     ]
    }
   ],
   "source": [
    "# 获得文章的发表时间\n",
    "time = content = soup.find(class_=\"time\").get_text()\n",
    "print(time)"
   ]
  },
  {
   "cell_type": "code",
   "execution_count": 112,
   "metadata": {},
   "outputs": [
    {
     "name": "stdout",
     "output_type": "stream",
     "text": [
      "\n\n\n　　在国务院国资委监管的中央企业中，作为“后来者”的新兴际华集团有限公司(下称新兴际华)算不上显眼。过去两年，这家从整体亏损的军需企业转型而来的世界500强企业，已向其他央企输出四位正职高管。从新兴际华赴一汽集团出任总经理的奚国华，是其中最新的一例。\n　　6月27日，中国第一汽车集团有限公司(下称一汽集团)召开领导班子扩大会议。中央组织部有关干部局负责同志宣布了中央关于一汽集团总经理任职的决定：奚国华任一汽集团董事、总经理、党委副书记。现年54岁的奚国华拥有超过25年的轨道交通装备行业经验，曾担任原北车集团副总经理兼总工程师等职。2015年南北车合并后，奚国华履新中国中车集团公司副董事长、党委副书记等职务。\n　　8个月之前的2017年10月，奚国华调任新兴际华集团有限公司董事长、党委书记。在此之前，原董事长刘明忠已兼任中国第一重型机械集团公司(下称中国一重)董事长、党委书记17个月之久。一人兼任两家央企董事长，这在国资委成立以来实属罕见，一度引发新兴际华将与中国一重合并重组的市场猜想。随着奚国华到任、刘明忠结束兼任，上述重组猜想也宣告破灭。\n　　相比奚国华，现年59岁的中国一重董事长、党委书记刘明忠在新兴际华的工作经历要丰富得多，时间长达20年。官网资料显示，新兴际华集团有限公司的前身为新兴铸管集团，由解放军总后勤部原生产部及所辖军需企事业单位整编重组脱钩而来。2001年10月，新兴铸管集团由军队移交国家管理，进入中央企业序列，并于2010年12月更名为“新兴际华集团有限公司”。\n　　刘明忠出身于钢铁冶金专业，毕业后进入军工炼铁厂，从技术员一路擢升为副厂长。2000年10月，新兴铸管集团与总后生产部门一套机构两块牌子、整体接收总后军需生产系统军需企事业单位重组新集团时，78家企事业单位亏损额高达24.62亿元，亏损面超过60%。这很可能让刚刚壮健起来的新兴铸管血流不止——合并报表后，集团净亏8100万。\n　　“十五”期间，刘明忠开始对内部产业结构大动手术，并构建了个专业化板块公司，对所属企业进行专业化管理。在其掌舵新兴铸管期间，通过加强技术创新，该公司离心球墨铸铁管及管件的生产规模和产品规格型号及配套能力居世界首位，产品技术水平及产品质量居行业领先，钢铁生产工序主要经济技术指标位于全国同行业前列。\n　　目前，新兴际华集团旗下有冶金、轻纺、装备、医药、应急、服务六大板块，资产规模逾千亿，在《财富》杂志2017年世界500强榜单中排名第322位，拥有新兴铸管(000778.SZ)和际华股份(601718.SH)两家上市公司。奚国华在今年3月曾表示，未来新兴际华每个业务板块都会有一个上市公司。\n　　值得注意的是，新兴际华于2005年成为中央企业董事会试点单位之一。2014年，新兴际华又被国务院国资委选为中央企业董事会行使高级管理人员选聘、业绩考核和薪酬管理职权试点单位之一。公开资料显示，自2005年以来，新兴际华逐步把“财”权交给制度、把“人”权交给市场，推行用人“内部市场化”，全员竞聘上岗。目前，新兴际华的二三级企业经理层已全部实现了市场化选聘和契约化管理。\n　　据奚国华今年3月介绍，新兴际华采取小总部大产业的组织架构，总部只有67个人，放权授权各个板块经营。同时，新兴际华利用不同板块的领导交叉、合议来加强二级公司董事会的建设。\n　　除刘明忠、奚国华外，中国煤炭地质总局现任党委书记、局长赵平曾于2014年8月至2016年6月担任新兴际华党委常委、纪委书记。中国化学工程集团有限公司现任董事长、党委书记戴和根曾于2016年4月至2017年10月任新兴际华集团有限公司党委书记、副董事长。\n\n\n\r\n                (责任编辑：DF142)\r\n            \n\n"
     ]
    }
   ],
   "source": [
    "# 获得文章的内容\n",
    "content = soup.find(id=\"ContentBody\").get_text()\n",
    "print(content)"
   ]
  },
  {
   "cell_type": "code",
   "execution_count": 115,
   "metadata": {},
   "outputs": [
    {
     "name": "stdout",
     "output_type": "stream",
     "text": [
      "[<a class=\"keytip\" href=\"http://quote.eastmoney.com/sh601718.html\" target=\"_blank\">际华集团</a>, <a class=\"keytip\" href=\"http://quote.eastmoney.com/web/r/003705\" target=\"_blank\">国华</a>, <a class=\"keytip\" href=\"http://quote.eastmoney.com/sh601766.html\" target=\"_blank\">中国中车</a>, <a class=\"keytip\" href=\"http://quote.eastmoney.com/sh601106.html\" target=\"_blank\">中国一重</a>, <a class=\"keytip\" href=\"http://quote.eastmoney.com/sz000778.html\" target=\"_blank\">新兴铸管</a>, <a class=\"keytip\" href=\"http://quote.eastmoney.com/sh601117.html\" target=\"_blank\">中国化学</a>]\n"
     ]
    }
   ],
   "source": [
    "# 获得相关的股票\n",
    "related_stocks = soup.find_all(class_='keytip')\n",
    "# related_stocks = soup.find(id=\"ContentBody\").get_text()\n",
    "print(related_stocks)"
   ]
  },
  {
   "cell_type": "code",
   "execution_count": null,
   "metadata": {},
   "outputs": [],
   "source": []
  }
 ],
 "metadata": {
  "kernelspec": {
   "display_name": "Python 2",
   "language": "python",
   "name": "python2"
  },
  "language_info": {
   "codemirror_mode": {
    "name": "ipython",
    "version": 2
   },
   "file_extension": ".py",
   "mimetype": "text/x-python",
   "name": "python",
   "nbconvert_exporter": "python",
   "pygments_lexer": "ipython2",
   "version": "2.7.6"
  }
 },
 "nbformat": 4,
 "nbformat_minor": 0
}
