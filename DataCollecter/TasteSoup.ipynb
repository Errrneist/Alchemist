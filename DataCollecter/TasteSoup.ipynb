{
 "cells": [
  {
   "cell_type": "markdown",
   "metadata": {
    "collapsed": true
   },
   "source": [
    "# BeautifulSoup测试\n",
    "## 拂晓工作室\n",
    "### 测试BS4的功能\n",
    "* [1] bs4的使用方法：https://qiita.com/rusarusa/items/d7f014ba80d6fe7a3e07\n",
    "* [2] re的使用方法：https://stackoverflow.com/questions/23669024/how-to-strip-a-specific-word-from-a-string\n",
    "* [3] str.replace的使用方法：https://www.tutorialspoint.com/python/string_replace.htm\n",
    "* [4] BS4中文文档：https://www.crummy.com/software/BeautifulSoup/bs4/doc.zh/"
   ]
  },
  {
   "cell_type": "code",
   "execution_count": 19,
   "metadata": {},
   "outputs": [],
   "source": [
    "from bs4 import BeautifulSoup\n",
    "import urllib.request\n",
    "import re"
   ]
  },
  {
   "cell_type": "code",
   "execution_count": 2,
   "metadata": {},
   "outputs": [],
   "source": [
    "url = 'http://finance.eastmoney.com/news/1350,20180628896846297.html'\n",
    "req = urllib.request.Request(url)\n",
    "response = urllib.request.urlopen(req)\n",
    "html = response.read()\n",
    "soup = BeautifulSoup(html, \"lxml\")"
   ]
  },
  {
   "cell_type": "code",
   "execution_count": 107,
   "metadata": {},
   "outputs": [
    {
     "name": "stdout",
     "output_type": "stream",
     "text": [
      "王受文：没有一个WTO成员因为中国入世而吃亏\n"
     ]
    }
   ],
   "source": [
    "title = soup.find('h1').get_text()\n",
    "print(title)"
   ]
  },
  {
   "cell_type": "code",
   "execution_count": 106,
   "metadata": {},
   "outputs": [
    {
     "name": "stdout",
     "output_type": "stream",
     "text": [
      "\n\n\n　　6月28日，国务院新闻办公室发表《中国与世界贸易组织》白皮书并举行新闻发布会。商务部副部长兼国际贸易谈判副代表王受文在答问中表示，没有一个WTO成员因为中国加入世贸之后经济恶化或者吃亏，在中国加入世贸组织以后，又有24个经济体加入了世贸组织，他们也从中国巨大的市场中获得了机会。\n　　“中国加入世贸组织以后，开放了我们的商品市场，开放了我们的货物市场，开放了我们的投资市场。这些开放为全世界的贸易伙伴，不论是发达成员还是发展中成员，都带来了巨大的机会。可以说中国加入世贸，为中国、为我们的贸易伙伴创造了互利共赢、共同发展的机遇。”王受文说。\n　　王受文指出，美国是中国的一个非常重要的贸易伙伴。2001年，美国对中国的出口只有260亿美元，占到美国全部出口的只有2%。当时，中国是美国的第11大出口市场，可以说无足轻重。去年，中国已经成为了美国的第3大出口市场，对华出口已经占到美国出口的8%，将近1500亿美元。可以看出来，中国加入世贸给美国出口带来了机遇。\n　　王受文强调，从2008年到2017年，美国对中国的货物出口增长86%，但同期，美国对其他世界市场出口只增长了21%。就服务来说，2007年到2016年，美国对中国的服务出口增长了3倍，但对其他市场服务业的出口只增长了50%。\n　　王受文还指出，由于中国市场开放，越来越多的美资企业在中国创业，在中国投资，在中国发展。2001年，美资企业在中国市场销售额只有3600万人民币，在2016年已经增长到6000亿美元。\n　　至于美国政府反复强调的知识产权，王受文指出，2001年，中国对全世界支付的知识产权使用费只有19亿美元，但2017年，中国对美国支付的知识产权使用费就是71.3亿美元。\n　　中国加入世贸也给很多发展中国家带来了机遇。据介绍，中国加入世贸以后，向与中国建交的最不发达国家给予了97%的税目免关税的待遇。“中国成了最不发达国家最大的出口市场，占到这些最不发达国家出口的20%。”\n　　据国际组织测算，2002年以来，中国的经济增长对世界经济的平均贡献率接近30%。2001年到2017年，中国的货物进口增长平均是13.5%，是世界进口增长速度的两倍。同期，中国服务贸易进口平均增长16.7%，是世界平均水平的2.7倍。\n\n\n\n\r\n                (责任编辑：DF385)\r\n            \n\n"
     ]
    }
   ],
   "source": [
    "content = soup.find(id=\"ContentBody\").get_text()\n",
    "print(content)"
   ]
  },
  {
   "cell_type": "code",
   "execution_count": null,
   "metadata": {},
   "outputs": [],
   "source": []
  }
 ],
 "metadata": {
  "kernelspec": {
   "display_name": "Python 2",
   "language": "python",
   "name": "python2"
  },
  "language_info": {
   "codemirror_mode": {
    "name": "ipython",
    "version": 2
   },
   "file_extension": ".py",
   "mimetype": "text/x-python",
   "name": "python",
   "nbconvert_exporter": "python",
   "pygments_lexer": "ipython2",
   "version": "2.7.6"
  }
 },
 "nbformat": 4,
 "nbformat_minor": 0
}
