{
 "cells": [
  {
   "cell_type": "markdown",
   "metadata": {
    "collapsed": true
   },
   "source": [
    "# BeautifulSoup测试\n",
    "## 拂晓工作室\n",
    "### 测试单个网页的提取工作！\n",
    "* [1] bs4的使用方法：https://qiita.com/rusarusa/items/d7f014ba80d6fe7a3e07\n",
    "* [2] re的使用方法：https://stackoverflow.com/questions/23669024/how-to-strip-a-specific-word-from-a-string\n",
    "* [3] str.replace的使用方法：https://www.tutorialspoint.com/python/string_replace.htm\n",
    "* [4] BS4中文文档：https://www.crummy.com/software/BeautifulSoup/bs4/doc.zh/\n",
    "* [5] Cutting and slicing strings in python: https://www.pythoncentral.io/cutting-and-slicing-strings-in-python/"
   ]
  },
  {
   "cell_type": "code",
   "execution_count": 1,
   "metadata": {},
   "outputs": [],
   "source": [
    "from bs4 import BeautifulSoup\n",
    "import urllib.request\n",
    "import re"
   ]
  },
  {
   "cell_type": "code",
   "execution_count": 7,
   "metadata": {},
   "outputs": [],
   "source": [
    "url = 'http://finance.eastmoney.com/news/1350,20180629897023420.html'\n",
    "req = urllib.request.Request(url)\n",
    "response = urllib.request.urlopen(req)\n",
    "html = response.read()\n",
    "soup = BeautifulSoup(html, \"lxml\")"
   ]
  },
  {
   "cell_type": "code",
   "execution_count": 8,
   "metadata": {},
   "outputs": [
    {
     "name": "stdout",
     "output_type": "stream",
     "text": [
      "央行：松紧适度 保持流动性合理充裕\n"
     ]
    }
   ],
   "source": [
    "# 获得文章的标题\n",
    "title = soup.find('h1').get_text()\n",
    "print(title)"
   ]
  },
  {
   "cell_type": "code",
   "execution_count": 13,
   "metadata": {},
   "outputs": [
    {
     "name": "stdout",
     "output_type": "stream",
     "text": [
      "2018年06月29日 06:38 2018 06 29\n"
     ]
    }
   ],
   "source": [
    "# 获得文章的发表时间\n",
    "time = content = soup.find(class_=\"time\").get_text()\n",
    "year = time[0:4]\n",
    "month = time[5:7]\n",
    "day = time[8:10]\n",
    "print(time,year,month,day)\n"
   ]
  },
  {
   "cell_type": "code",
   "execution_count": 10,
   "metadata": {},
   "outputs": [
    {
     "name": "stdout",
     "output_type": "stream",
     "text": [
      "中国人民银行货币政策委员会2018年第二季度(总第81次)例会于6月27日在北京召开。会议指出，要继续密切关注国际国内经济金融走势，加强形势预判和前瞻性预调微调。稳健的货币政策保持中性，要松紧适度，管好货币供给总闸门，保持流动性合理充裕，引导货币信贷及社会融资规模合理增长。\n　　会议还表示，继续深化金融体制改革，健全货币政策和宏观审慎政策双支柱调控框架，疏通货币政策传导渠道。按照深化供给侧结构性改革的要求，优化融资结构和信贷结构，提升金融服务实体经济能力。主动有序扩大金融对外开放，增强金融业发展活力和韧性。\n　　会议强调，坚持稳中求进工作总基调，综合运用多种货币政策工具，把握好结构性去杠杆的力度和节奏，促进经济平稳健康发展，稳定市场预期，打好防范化解金融风险攻坚战，守住不发生系统性金融风险的底线。\n　　会议还分析了国内外经济金融形势。会议认为，当前我国经济基本面良好，经济增长保持韧性，总供求总体平衡，增长动力加快转换。内需对经济的拉动不断上升，外贸依存度显著下降，应对外部冲击的能力增强。稳健中性的货币政策取得了较好成效，结构性去杠杆稳步推进，金融风险防控成效初显，金融对实体经济的支持力度较为稳固。国内经济金融领域的结构调整出现积极变化，但仍存在一些深层次问题和突出矛盾，国际经济金融形势更加错综复杂，面临一些严峻挑战和不确定性。\n　　本次会议由中国人民银行行长兼货币政策委员会主席易纲主持，货币政策委员会委员连维良、刘伟(财政部)、陈雨露、刘国强、宁吉喆、郭树清、刘士余、潘功胜、田国立、刘世锦、马骏出席会议。丁学东、刘伟(中国人民大学)因公务请假。中国人民银行上海总部、天津分行、西安分行负责同志列席会议。\n"
     ]
    }
   ],
   "source": [
    "# 获得文章的内容\n",
    "content = soup.find(id=\"ContentBody\").get_text()\n",
    "index = re.search('责任编辑', content).span()[0]-1\n",
    "content = content[0:index].strip()\n",
    "print(content)"
   ]
  },
  {
   "cell_type": "code",
   "execution_count": 11,
   "metadata": {},
   "outputs": [
    {
     "name": "stdout",
     "output_type": "stream",
     "text": [
      "['银行', '和信贷']\n"
     ]
    }
   ],
   "source": [
    "# 获得相关的股票单\n",
    "related_stock = soup.find_all(class_='keytip')\n",
    "related_stocks = []\n",
    "# print(related_stocks)\n",
    "for each in related_stock:\n",
    "    stock = each.get_text()\n",
    "    related_stocks.append(stock)\n",
    "    # print(each.get('href'))  #大概不需要URL\n",
    "print(related_stocks)"
   ]
  },
  {
   "cell_type": "code",
   "execution_count": null,
   "metadata": {},
   "outputs": [],
   "source": []
  }
 ],
 "metadata": {
  "kernelspec": {
   "display_name": "Python 2",
   "language": "python",
   "name": "python2"
  },
  "language_info": {
   "codemirror_mode": {
    "name": "ipython",
    "version": 2
   },
   "file_extension": ".py",
   "mimetype": "text/x-python",
   "name": "python",
   "nbconvert_exporter": "python",
   "pygments_lexer": "ipython2",
   "version": "2.7.6"
  }
 },
 "nbformat": 4,
 "nbformat_minor": 0
}
