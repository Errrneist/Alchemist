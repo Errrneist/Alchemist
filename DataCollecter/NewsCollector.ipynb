{
 "cells": [
  {
   "cell_type": "code",
   "execution_count": 1,
   "metadata": {},
   "outputs": [],
   "source": [
    "# -*- coding: utf-8 -*-"
   ]
  },
  {
   "cell_type": "markdown",
   "metadata": {
    "collapsed": true
   },
   "source": [
    "# 东方财富网国内新闻数据抓取器\n",
    "## 拂晓工作室\n",
    "### 此程序将爬取某个板块所有最近的新闻并存进CSV！"
   ]
  },
  {
   "cell_type": "markdown",
   "metadata": {},
   "source": [
    "# 参考资料\n",
    "* [1] BeautifulSoup的例子：https://qiita.com/rusarusa/items/d7f014ba80d6fe7a3e07\n",
    "* [2] BeautifulSoup的文档：https://www.cnblogs.com/zhaof/p/6930955.html\n",
    "* [3] 暴力安装BS4: https://github.com/ipython/ipython/issues/10684\n",
    "* [4] CSV文档：https://docs.python.org/2/library/csv.html\n",
    "* [5] CSV使用实例：https://blog.csdn.net/waple_0820/article/details/70049953\n",
    "* [6] 如何解决list重复元素的问题：https://stackoverflow.com/questions/7961363/removing-duplicates-in-lists\n",
    "* [7] 解决CSV文件中文乱码的问题：https://blog.csdn.net/fwj_ntu/article/details/78563962\n",
    "* [8] 在macOS下解决中文乱码问题：http://blog.sina.com.cn/s/blog_69e225900102w2mc.html"
   ]
  },
  {
   "cell_type": "code",
   "execution_count": 2,
   "metadata": {},
   "outputs": [
    {
     "name": "stderr",
     "output_type": "stream",
     "text": [
      "/Users/hongjunwu/anaconda3/lib/python3.6/site-packages/h5py/__init__.py:36: FutureWarning: Conversion of the second argument of issubdtype from `float` to `np.floating` is deprecated. In future, it will be treated as `np.float64 == np.dtype(float).type`.\n  from ._conv import register_converters as _register_converters\n"
     ]
    }
   ],
   "source": [
    "# -*- coding: utf-8 -*-\n",
    "# 导入库\n",
    "import urllib\n",
    "import re\n",
    "import pandas as pd\n",
    "import pymysql\n",
    "import os\n",
    "import turicreate as tc\n",
    "import csv\n",
    "from bs4 import BeautifulSoup\n"
   ]
  },
  {
   "cell_type": "code",
   "execution_count": 3,
   "metadata": {},
   "outputs": [],
   "source": [
    "# 新闻板块(同时也会加入热门新闻的数据)\n",
    "china = 'cgnjj'  # 国内\n",
    "international = 'cgjjj'  # 国际\n",
    "\n",
    "# 定义基本常量\n",
    "url = 'http://finance.eastmoney.com/news/' + china + '.html' # 主目录地址 更换不同主目录以爬取不同板块内容 (BAD)\n",
    "csv_filepath = '../Datasets/Eastmoney/news/'  # 存储数据文件地址"
   ]
  },
  {
   "cell_type": "code",
   "execution_count": 4,
   "metadata": {},
   "outputs": [
    {
     "name": "stdout",
     "output_type": "stream",
     "text": [
      "成功创建包含 25 个页面链接的目录！\n"
     ]
    }
   ],
   "source": [
    "# 创建一个二十五页的list\n",
    "page_list = []\n",
    "counter = 1\n",
    "\n",
    "while counter <= 25:\n",
    "    pageurl = 'http://finance.eastmoney.com/news/' + china\n",
    "    if counter != 1:\n",
    "        pageurl = pageurl + '_' + str(counter) + '.html'\n",
    "        page_list.append(pageurl)\n",
    "    else:\n",
    "        pageurl = pageurl + '.html'\n",
    "        page_list.append(pageurl)\n",
    "    counter += 1\n",
    "    \n",
    "print('成功创建包含 ' + str(len(page_list)) + ' 个页面链接的目录！')"
   ]
  },
  {
   "cell_type": "code",
   "execution_count": 5,
   "metadata": {},
   "outputs": [
    {
     "name": "stdout",
     "output_type": "stream",
     "text": [
      "成功创建包含 20 个class的目录！\n"
     ]
    }
   ],
   "source": [
    "# 创建一个包含20个class的list\n",
    "counter = 0\n",
    "class_list = []\n",
    "\n",
    "while counter < 20:\n",
    "    class_list.append('newsTr' + str(counter))\n",
    "    counter += 1\n",
    "    \n",
    "print('成功创建包含 ' + str(len(class_list)) + ' 个class的目录！')\n",
    "# print(class_list)  # Debug"
   ]
  },
  {
   "cell_type": "code",
   "execution_count": 7,
   "metadata": {},
   "outputs": [
    {
     "name": "stdout",
     "output_type": "stream",
     "text": [
      "-----------------获取所有文章超链接程序-----------------\n分析任务开始！\n"
     ]
    },
    {
     "name": "stdout",
     "output_type": "stream",
     "text": [
      "第1页分析完成！现在一共有38篇文章的数据！\n"
     ]
    },
    {
     "name": "stdout",
     "output_type": "stream",
     "text": [
      "第2页分析完成！现在一共有76篇文章的数据！\n"
     ]
    },
    {
     "name": "stdout",
     "output_type": "stream",
     "text": [
      "第3页分析完成！现在一共有112篇文章的数据！\n"
     ]
    },
    {
     "name": "stdout",
     "output_type": "stream",
     "text": [
      "第4页分析完成！现在一共有148篇文章的数据！\n"
     ]
    },
    {
     "name": "stdout",
     "output_type": "stream",
     "text": [
      "第5页分析完成！现在一共有192篇文章的数据！\n"
     ]
    },
    {
     "name": "stdout",
     "output_type": "stream",
     "text": [
      "第6页分析完成！现在一共有230篇文章的数据！\n"
     ]
    },
    {
     "name": "stdout",
     "output_type": "stream",
     "text": [
      "第7页分析完成！现在一共有268篇文章的数据！\n"
     ]
    },
    {
     "name": "stdout",
     "output_type": "stream",
     "text": [
      "第8页分析完成！现在一共有304篇文章的数据！\n"
     ]
    },
    {
     "name": "stdout",
     "output_type": "stream",
     "text": [
      "第9页分析完成！现在一共有341篇文章的数据！\n"
     ]
    },
    {
     "name": "stdout",
     "output_type": "stream",
     "text": [
      "第10页分析完成！现在一共有377篇文章的数据！\n"
     ]
    },
    {
     "name": "stdout",
     "output_type": "stream",
     "text": [
      "第11页分析完成！现在一共有414篇文章的数据！\n"
     ]
    },
    {
     "name": "stdout",
     "output_type": "stream",
     "text": [
      "第12页分析完成！现在一共有453篇文章的数据！\n"
     ]
    },
    {
     "name": "stdout",
     "output_type": "stream",
     "text": [
      "第13页分析完成！现在一共有493篇文章的数据！\n"
     ]
    },
    {
     "name": "stdout",
     "output_type": "stream",
     "text": [
      "第14页分析完成！现在一共有531篇文章的数据！\n"
     ]
    },
    {
     "name": "stdout",
     "output_type": "stream",
     "text": [
      "第15页分析完成！现在一共有568篇文章的数据！\n"
     ]
    },
    {
     "name": "stdout",
     "output_type": "stream",
     "text": [
      "第16页分析完成！现在一共有606篇文章的数据！\n"
     ]
    },
    {
     "name": "stdout",
     "output_type": "stream",
     "text": [
      "第17页分析完成！现在一共有642篇文章的数据！\n"
     ]
    },
    {
     "name": "stdout",
     "output_type": "stream",
     "text": [
      "第18页分析完成！现在一共有678篇文章的数据！\n"
     ]
    },
    {
     "name": "stdout",
     "output_type": "stream",
     "text": [
      "第19页分析完成！现在一共有714篇文章的数据！\n"
     ]
    },
    {
     "name": "stdout",
     "output_type": "stream",
     "text": [
      "第20页分析完成！现在一共有759篇文章的数据！\n"
     ]
    },
    {
     "name": "stdout",
     "output_type": "stream",
     "text": [
      "第21页分析完成！现在一共有799篇文章的数据！\n"
     ]
    },
    {
     "name": "stdout",
     "output_type": "stream",
     "text": [
      "第22页分析完成！现在一共有835篇文章的数据！\n"
     ]
    },
    {
     "name": "stdout",
     "output_type": "stream",
     "text": [
      "第23页分析完成！现在一共有871篇文章的数据！\n"
     ]
    },
    {
     "name": "stdout",
     "output_type": "stream",
     "text": [
      "第24页分析完成！现在一共有907篇文章的数据！\n"
     ]
    },
    {
     "name": "stdout",
     "output_type": "stream",
     "text": [
      "第25页分析完成！现在一共有943篇文章的数据！\n全部分析完成！正在查重...\n任务完成！共获得了516篇文章的数据！\n---------------------------------------------\n"
     ]
    }
   ],
   "source": [
    "# 初始化urllist\n",
    "urllist = []\n",
    "year = '2018'  # Separate parameter\n",
    "counter = 1\n",
    "\n",
    "# 创造urllist\n",
    "print('-----------------获取所有文章超链接程序-----------------')\n",
    "print('分析任务开始！')\n",
    "for url in page_list:\n",
    "    req = urllib.request.Request(url)\n",
    "    response = urllib.request.urlopen(req)\n",
    "    html = response.read()\n",
    "    soup = BeautifulSoup(html, \"lxml\")\n",
    "    for each_url in soup.find_all('a', href=True):\n",
    "        if 'http://finance.eastmoney.com/news/' in each_url['href']:\n",
    "            if year in each_url['href']:\n",
    "                urllist.append(each_url['href'])   \n",
    "    print('第' + str(counter) + '页分析完成！现在一共有' + str(len(urllist)) + '篇文章的数据！')\n",
    "    counter += 1\n",
    "\n",
    "urllist = list(set(urllist))\n",
    "print('全部分析完成！正在查重...')\n",
    "print('任务完成！共获得了' + str(len(urllist)) + '篇文章的数据！')\n",
    "print('---------------------------------------------')"
   ]
  },
  {
   "cell_type": "code",
   "execution_count": 36,
   "metadata": {},
   "outputs": [],
   "source": [
    "# 抓取新闻URL函数\n",
    "def collectNews(url, counter):\n",
    "    # 准备工作\n",
    "    print('正在准备分析……')\n",
    "    req = urllib.request.Request(url)\n",
    "    print('req创建完成!')\n",
    "    response = urllib.request.urlopen(req)\n",
    "    print('response创建完成！')\n",
    "    html = response.read()\n",
    "    print('html创建完成！')\n",
    "    soup = BeautifulSoup(html, \"lxml\")\n",
    "    print('soup创建完成！')\n",
    "    print('分析准备完成！')\n",
    "    \n",
    "    # 获得文章的发表时间 \n",
    "    time = soup.find(class_=\"time\").get_text()\n",
    "    print('时间获取完成！')\n",
    "    \n",
    "    # 获得文章的内容\n",
    "    content = soup.find(id=\"ContentBody\").get_text() \n",
    "    content = content[0:re.search('责任编辑', content).span()[0]-1].strip()\n",
    "    print('文章内容获取完成！')\n",
    "    \n",
    "    # 获得相关的股票单\n",
    "    related_stocks = []\n",
    "    for each in soup.find_all(class_='keytip'): \n",
    "        related_stocks.append(each.get_text())\n",
    "    print('相关股票单获取完成！')\n",
    "    \n",
    "    '''\n",
    "    # 将list处理成String 中间用&分割\n",
    "    print('正在处理股票单……')\n",
    "    related_stocks_string = ''\n",
    "    for stock in related_stocks:\n",
    "        related_stocks.append('&')\n",
    "        related_stocks.append(stock)\n",
    "    print('股票单处理完成！')\n",
    "    '''\n",
    "        \n",
    "    # 写入csv\n",
    "    print('正在写入csv……')\n",
    "    with open(\"../DataSets/Eastmoney/news/RecentStockNews.csv\", \"a\") as csvfile: \n",
    "        writer = csv.writer(csvfile)\n",
    "        writer.writerow([counter, \n",
    "                         time[0:4], time[0:4], time[8:10], \n",
    "                         soup.find('h1').get_text(), \n",
    "                         content, \n",
    "                         related_stocks])\n",
    "    print('csv写入完成！')\n",
    "    \n",
    "    # 释放内存\n",
    "    del(req, response, html, soup, time, content, related_stocks)\n",
    "    \n",
    "    # 刷新计数 \n",
    "    counter += 1\n",
    "    print('计数刷新完成！准备进行下一轮计算……')\n",
    "    return counter"
   ]
  },
  {
   "cell_type": "code",
   "execution_count": 37,
   "metadata": {},
   "outputs": [],
   "source": [
    "# -*- coding: utf-8 -*-\n",
    "# 创建csv文件\n",
    "with open(\"../DataSets/Eastmoney/news/RecentStockNews.csv\", \"w\") as csvfile: \n",
    "    writer = csv.writer(csvfile)\n",
    "\n",
    "    # 先写入columns_name\n",
    "    writer.writerow([\"index\", \"year\", \"month\", \"day\", \"title\", \"contents\", \"related_stocks\"])"
   ]
  },
  {
   "cell_type": "code",
   "execution_count": 42,
   "metadata": {},
   "outputs": [
    {
     "name": "stdout",
     "output_type": "stream",
     "text": [
      "=============================================\n正在分析第1篇文章.\n--------------------------------------------------------\n正在准备分析……\nreq创建完成!\n"
     ]
    },
    {
     "name": "stdout",
     "output_type": "stream",
     "text": [
      "response创建完成！\n"
     ]
    },
    {
     "name": "stdout",
     "output_type": "stream",
     "text": [
      "html创建完成！\nsoup创建完成！\n分析准备完成！\n时间获取完成！\n文章内容获取完成！\n相关股票单获取完成！\n正在写入csv……\ncsv写入完成！\n计数刷新完成！准备进行下一轮计算……\n=============================================\n正在分析第2篇文章.\n--------------------------------------------------------\n正在准备分析……\nreq创建完成!\n"
     ]
    },
    {
     "name": "stdout",
     "output_type": "stream",
     "text": [
      "response创建完成！\n"
     ]
    },
    {
     "name": "stdout",
     "output_type": "stream",
     "text": [
      "html创建完成！\nsoup创建完成！\n分析准备完成！\n时间获取完成！\n文章内容获取完成！\n相关股票单获取完成！\n正在写入csv……\ncsv写入完成！\n计数刷新完成！准备进行下一轮计算……\n=============================================\n正在分析第3篇文章.\n--------------------------------------------------------\n正在准备分析……\nreq创建完成!\n"
     ]
    },
    {
     "name": "stdout",
     "output_type": "stream",
     "text": [
      "response创建完成！\n"
     ]
    },
    {
     "name": "stdout",
     "output_type": "stream",
     "text": [
      "html创建完成！\nsoup创建完成！\n分析准备完成！\n时间获取完成！\n文章内容获取完成！\n相关股票单获取完成！\n正在写入csv……\ncsv写入完成！\n计数刷新完成！准备进行下一轮计算……\n=============================================\n正在分析第4篇文章.\n--------------------------------------------------------\n正在准备分析……\nreq创建完成!\n"
     ]
    },
    {
     "name": "stdout",
     "output_type": "stream",
     "text": [
      "response创建完成！\n"
     ]
    },
    {
     "name": "stdout",
     "output_type": "stream",
     "text": [
      "html创建完成！\nsoup创建完成！\n分析准备完成！\n时间获取完成！\n文章内容获取完成！\n相关股票单获取完成！\n正在写入csv……\ncsv写入完成！\n计数刷新完成！准备进行下一轮计算……\n=============================================\n正在分析第5篇文章.\n--------------------------------------------------------\n正在准备分析……\nreq创建完成!\n"
     ]
    },
    {
     "name": "stdout",
     "output_type": "stream",
     "text": [
      "response创建完成！\n"
     ]
    },
    {
     "name": "stdout",
     "output_type": "stream",
     "text": [
      "html创建完成！\nsoup创建完成！\n分析准备完成！\n时间获取完成！\n文章内容获取完成！\n相关股票单获取完成！\n正在写入csv……\ncsv写入完成！\n计数刷新完成！准备进行下一轮计算……\n=============================================\n正在分析第6篇文章.\n--------------------------------------------------------\n正在准备分析……\nreq创建完成!\n"
     ]
    },
    {
     "name": "stdout",
     "output_type": "stream",
     "text": [
      "response创建完成！\n"
     ]
    },
    {
     "name": "stdout",
     "output_type": "stream",
     "text": [
      "html创建完成！\nsoup创建完成！\n分析准备完成！\n时间获取完成！\n文章内容获取完成！\n相关股票单获取完成！\n正在写入csv……\ncsv写入完成！\n计数刷新完成！准备进行下一轮计算……\n=============================================\n正在分析第7篇文章.\n--------------------------------------------------------\n正在准备分析……\nreq创建完成!\n"
     ]
    },
    {
     "name": "stdout",
     "output_type": "stream",
     "text": [
      "response创建完成！\n"
     ]
    },
    {
     "name": "stdout",
     "output_type": "stream",
     "text": [
      "html创建完成！\nsoup创建完成！\n分析准备完成！\n时间获取完成！\n文章内容获取完成！\n相关股票单获取完成！\n正在写入csv……\ncsv写入完成！\n计数刷新完成！准备进行下一轮计算……\n=============================================\n正在分析第8篇文章.\n--------------------------------------------------------\n正在准备分析……\nreq创建完成!\n"
     ]
    },
    {
     "name": "stdout",
     "output_type": "stream",
     "text": [
      "response创建完成！\n"
     ]
    },
    {
     "name": "stdout",
     "output_type": "stream",
     "text": [
      "html创建完成！\nsoup创建完成！\n分析准备完成！\n时间获取完成！\n文章内容获取完成！\n相关股票单获取完成！\n正在写入csv……\ncsv写入完成！\n计数刷新完成！准备进行下一轮计算……\n=============================================\n正在分析第9篇文章.\n--------------------------------------------------------\n正在准备分析……\nreq创建完成!\n"
     ]
    },
    {
     "name": "stdout",
     "output_type": "stream",
     "text": [
      "response创建完成！\n"
     ]
    },
    {
     "name": "stdout",
     "output_type": "stream",
     "text": [
      "html创建完成！\nsoup创建完成！\n分析准备完成！\n时间获取完成！\n文章内容获取完成！\n相关股票单获取完成！\n正在写入csv……\ncsv写入完成！\n计数刷新完成！准备进行下一轮计算……\n=============================================\n正在分析第10篇文章.\n--------------------------------------------------------\n正在准备分析……\nreq创建完成!\n"
     ]
    },
    {
     "name": "stdout",
     "output_type": "stream",
     "text": [
      "response创建完成！\n"
     ]
    },
    {
     "name": "stdout",
     "output_type": "stream",
     "text": [
      "html创建完成！\nsoup创建完成！\n分析准备完成！\n时间获取完成！\n文章内容获取完成！\n相关股票单获取完成！\n正在写入csv……\ncsv写入完成！\n计数刷新完成！准备进行下一轮计算……\n=============================================\n正在分析第11篇文章.\n--------------------------------------------------------\n正在准备分析……\nreq创建完成!\n"
     ]
    },
    {
     "name": "stdout",
     "output_type": "stream",
     "text": [
      "response创建完成！\n"
     ]
    },
    {
     "name": "stdout",
     "output_type": "stream",
     "text": [
      "html创建完成！\nsoup创建完成！\n分析准备完成！\n时间获取完成！\n文章内容获取完成！\n相关股票单获取完成！\n正在写入csv……\ncsv写入完成！\n计数刷新完成！准备进行下一轮计算……\n=============================================\n正在分析第12篇文章.\n--------------------------------------------------------\n正在准备分析……\nreq创建完成!\n"
     ]
    },
    {
     "name": "stdout",
     "output_type": "stream",
     "text": [
      "response创建完成！\n"
     ]
    },
    {
     "name": "stdout",
     "output_type": "stream",
     "text": [
      "html创建完成！\nsoup创建完成！\n分析准备完成！\n时间获取完成！\n文章内容获取完成！\n相关股票单获取完成！\n正在写入csv……\ncsv写入完成！\n计数刷新完成！准备进行下一轮计算……\n=============================================\n正在分析第13篇文章.\n--------------------------------------------------------\n正在准备分析……\nreq创建完成!\n"
     ]
    },
    {
     "name": "stdout",
     "output_type": "stream",
     "text": [
      "response创建完成！\n"
     ]
    },
    {
     "name": "stdout",
     "output_type": "stream",
     "text": [
      "html创建完成！\nsoup创建完成！\n分析准备完成！\n时间获取完成！\n文章内容获取完成！\n相关股票单获取完成！\n正在写入csv……\ncsv写入完成！\n计数刷新完成！准备进行下一轮计算……\n=============================================\n正在分析第14篇文章.\n--------------------------------------------------------\n正在准备分析……\nreq创建完成!\n"
     ]
    },
    {
     "name": "stdout",
     "output_type": "stream",
     "text": [
      "response创建完成！\n"
     ]
    },
    {
     "name": "stdout",
     "output_type": "stream",
     "text": [
      "html创建完成！\nsoup创建完成！\n分析准备完成！\n时间获取完成！\n文章内容获取完成！\n相关股票单获取完成！\n正在写入csv……\ncsv写入完成！\n计数刷新完成！准备进行下一轮计算……\n=============================================\n正在分析第15篇文章.\n--------------------------------------------------------\n正在准备分析……\nreq创建完成!\n"
     ]
    },
    {
     "name": "stdout",
     "output_type": "stream",
     "text": [
      "response创建完成！\n"
     ]
    },
    {
     "name": "stdout",
     "output_type": "stream",
     "text": [
      "html创建完成！\nsoup创建完成！\n分析准备完成！\n时间获取完成！\n文章内容获取完成！\n相关股票单获取完成！\n正在写入csv……\ncsv写入完成！\n计数刷新完成！准备进行下一轮计算……\n=============================================\n正在分析第16篇文章.\n--------------------------------------------------------\n正在准备分析……\nreq创建完成!\n"
     ]
    },
    {
     "name": "stdout",
     "output_type": "stream",
     "text": [
      "response创建完成！\n"
     ]
    },
    {
     "name": "stdout",
     "output_type": "stream",
     "text": [
      "html创建完成！\nsoup创建完成！\n分析准备完成！\n时间获取完成！\n文章内容获取完成！\n相关股票单获取完成！\n正在写入csv……\ncsv写入完成！\n计数刷新完成！准备进行下一轮计算……\n=============================================\n正在分析第17篇文章.\n--------------------------------------------------------\n正在准备分析……\nreq创建完成!\n"
     ]
    },
    {
     "name": "stdout",
     "output_type": "stream",
     "text": [
      "response创建完成！\n"
     ]
    },
    {
     "name": "stdout",
     "output_type": "stream",
     "text": [
      "html创建完成！\nsoup创建完成！\n分析准备完成！\n时间获取完成！\n文章内容获取完成！\n相关股票单获取完成！\n正在写入csv……\ncsv写入完成！\n计数刷新完成！准备进行下一轮计算……\n=============================================\n正在分析第18篇文章.\n--------------------------------------------------------\n正在准备分析……\nreq创建完成!\n"
     ]
    },
    {
     "name": "stdout",
     "output_type": "stream",
     "text": [
      "response创建完成！\n"
     ]
    },
    {
     "name": "stdout",
     "output_type": "stream",
     "text": [
      "html创建完成！\nsoup创建完成！\n分析准备完成！\n时间获取完成！\n文章内容获取完成！\n相关股票单获取完成！\n正在写入csv……\ncsv写入完成！\n计数刷新完成！准备进行下一轮计算……\n=============================================\n正在分析第19篇文章.\n--------------------------------------------------------\n正在准备分析……\nreq创建完成!\n"
     ]
    },
    {
     "name": "stdout",
     "output_type": "stream",
     "text": [
      "response创建完成！\n"
     ]
    },
    {
     "name": "stdout",
     "output_type": "stream",
     "text": [
      "html创建完成！\nsoup创建完成！\n分析准备完成！\n时间获取完成！\n文章内容获取完成！\n相关股票单获取完成！\n正在写入csv……\ncsv写入完成！\n计数刷新完成！准备进行下一轮计算……\n=============================================\n正在分析第20篇文章.\n--------------------------------------------------------\n正在准备分析……\nreq创建完成!\n"
     ]
    },
    {
     "name": "stdout",
     "output_type": "stream",
     "text": [
      "response创建完成！\n"
     ]
    },
    {
     "name": "stdout",
     "output_type": "stream",
     "text": [
      "html创建完成！\nsoup创建完成！\n分析准备完成！\n时间获取完成！\n文章内容获取完成！\n相关股票单获取完成！\n正在写入csv……\ncsv写入完成！\n计数刷新完成！准备进行下一轮计算……\n=============================================\n正在分析第21篇文章.\n--------------------------------------------------------\n正在准备分析……\nreq创建完成!\n"
     ]
    },
    {
     "name": "stdout",
     "output_type": "stream",
     "text": [
      "response创建完成！\n"
     ]
    },
    {
     "name": "stdout",
     "output_type": "stream",
     "text": [
      "html创建完成！\nsoup创建完成！\n分析准备完成！\n时间获取完成！\n文章内容获取完成！\n相关股票单获取完成！\n正在写入csv……\ncsv写入完成！\n计数刷新完成！准备进行下一轮计算……\n=============================================\n正在分析第22篇文章.\n--------------------------------------------------------\n正在准备分析……\nreq创建完成!\n"
     ]
    },
    {
     "name": "stdout",
     "output_type": "stream",
     "text": [
      "response创建完成！\n"
     ]
    },
    {
     "name": "stdout",
     "output_type": "stream",
     "text": [
      "html创建完成！\nsoup创建完成！\n分析准备完成！\n时间获取完成！\n文章内容获取完成！\n相关股票单获取完成！\n正在写入csv……\ncsv写入完成！\n计数刷新完成！准备进行下一轮计算……\n=============================================\n正在分析第23篇文章.\n--------------------------------------------------------\n正在准备分析……\nreq创建完成!\n"
     ]
    },
    {
     "name": "stdout",
     "output_type": "stream",
     "text": [
      "response创建完成！\n"
     ]
    },
    {
     "name": "stdout",
     "output_type": "stream",
     "text": [
      "html创建完成！\nsoup创建完成！\n分析准备完成！\n时间获取完成！\n文章内容获取完成！\n相关股票单获取完成！\n正在写入csv……\ncsv写入完成！\n计数刷新完成！准备进行下一轮计算……\n=============================================\n正在分析第24篇文章.\n--------------------------------------------------------\n正在准备分析……\nreq创建完成!\n"
     ]
    },
    {
     "name": "stdout",
     "output_type": "stream",
     "text": [
      "response创建完成！\n"
     ]
    },
    {
     "name": "stdout",
     "output_type": "stream",
     "text": [
      "html创建完成！\nsoup创建完成！\n分析准备完成！\n时间获取完成！\n文章内容获取完成！\n相关股票单获取完成！\n正在写入csv……\ncsv写入完成！\n计数刷新完成！准备进行下一轮计算……\n=============================================\n正在分析第25篇文章.\n--------------------------------------------------------\n正在准备分析……\nreq创建完成!\n"
     ]
    },
    {
     "name": "stdout",
     "output_type": "stream",
     "text": [
      "response创建完成！\n"
     ]
    },
    {
     "name": "stdout",
     "output_type": "stream",
     "text": [
      "html创建完成！\nsoup创建完成！\n分析准备完成！\n时间获取完成！\n文章内容获取完成！\n相关股票单获取完成！\n正在写入csv……\ncsv写入完成！\n计数刷新完成！准备进行下一轮计算……\n=============================================\n正在分析第26篇文章.\n--------------------------------------------------------\n正在准备分析……\nreq创建完成!\n"
     ]
    },
    {
     "name": "stdout",
     "output_type": "stream",
     "text": [
      "response创建完成！\n"
     ]
    },
    {
     "name": "stdout",
     "output_type": "stream",
     "text": [
      "html创建完成！\nsoup创建完成！\n分析准备完成！\n时间获取完成！\n文章内容获取完成！\n相关股票单获取完成！\n正在写入csv……\ncsv写入完成！\n计数刷新完成！准备进行下一轮计算……\n=============================================\n正在分析第27篇文章.\n--------------------------------------------------------\n正在准备分析……\nreq创建完成!\n"
     ]
    },
    {
     "name": "stdout",
     "output_type": "stream",
     "text": [
      "response创建完成！\n"
     ]
    },
    {
     "name": "stdout",
     "output_type": "stream",
     "text": [
      "html创建完成！\nsoup创建完成！\n分析准备完成！\n时间获取完成！\n文章内容获取完成！\n相关股票单获取完成！\n正在写入csv……\ncsv写入完成！\n计数刷新完成！准备进行下一轮计算……\n=============================================\n正在分析第28篇文章.\n--------------------------------------------------------\n正在准备分析……\nreq创建完成!\n"
     ]
    },
    {
     "name": "stdout",
     "output_type": "stream",
     "text": [
      "response创建完成！\n"
     ]
    },
    {
     "name": "stdout",
     "output_type": "stream",
     "text": [
      "html创建完成！\nsoup创建完成！\n分析准备完成！\n时间获取完成！\n文章内容获取完成！\n相关股票单获取完成！\n正在写入csv……\ncsv写入完成！\n计数刷新完成！准备进行下一轮计算……\n=============================================\n正在分析第29篇文章.\n--------------------------------------------------------\n正在准备分析……\nreq创建完成!\n"
     ]
    },
    {
     "name": "stdout",
     "output_type": "stream",
     "text": [
      "response创建完成！\n"
     ]
    },
    {
     "name": "stdout",
     "output_type": "stream",
     "text": [
      "html创建完成！\nsoup创建完成！\n分析准备完成！\n时间获取完成！\n文章内容获取完成！\n相关股票单获取完成！\n正在写入csv……\ncsv写入完成！\n计数刷新完成！准备进行下一轮计算……\n=============================================\n正在分析第30篇文章.\n--------------------------------------------------------\n正在准备分析……\nreq创建完成!\n"
     ]
    },
    {
     "name": "stdout",
     "output_type": "stream",
     "text": [
      "response创建完成！\n"
     ]
    },
    {
     "name": "stdout",
     "output_type": "stream",
     "text": [
      "html创建完成！\nsoup创建完成！\n分析准备完成！\n时间获取完成！\n文章内容获取完成！\n相关股票单获取完成！\n正在写入csv……\ncsv写入完成！\n计数刷新完成！准备进行下一轮计算……\n=============================================\n正在分析第31篇文章.\n--------------------------------------------------------\n正在准备分析……\nreq创建完成!\n"
     ]
    },
    {
     "name": "stdout",
     "output_type": "stream",
     "text": [
      "response创建完成！\n"
     ]
    },
    {
     "name": "stdout",
     "output_type": "stream",
     "text": [
      "html创建完成！\nsoup创建完成！\n分析准备完成！\n时间获取完成！\n文章内容获取完成！\n相关股票单获取完成！\n正在写入csv……\ncsv写入完成！\n计数刷新完成！准备进行下一轮计算……\n=============================================\n正在分析第32篇文章.\n--------------------------------------------------------\n正在准备分析……\nreq创建完成!\n"
     ]
    },
    {
     "name": "stdout",
     "output_type": "stream",
     "text": [
      "response创建完成！\n"
     ]
    },
    {
     "name": "stdout",
     "output_type": "stream",
     "text": [
      "html创建完成！\nsoup创建完成！\n分析准备完成！\n时间获取完成！\n文章内容获取完成！\n相关股票单获取完成！\n正在写入csv……\ncsv写入完成！\n计数刷新完成！准备进行下一轮计算……\n=============================================\n正在分析第33篇文章.\n--------------------------------------------------------\n正在准备分析……\nreq创建完成!\n"
     ]
    },
    {
     "name": "stdout",
     "output_type": "stream",
     "text": [
      "response创建完成！\n"
     ]
    },
    {
     "name": "stdout",
     "output_type": "stream",
     "text": [
      "html创建完成！\nsoup创建完成！\n分析准备完成！\n时间获取完成！\n文章内容获取完成！\n相关股票单获取完成！\n正在写入csv……\ncsv写入完成！\n计数刷新完成！准备进行下一轮计算……\n=============================================\n正在分析第34篇文章.\n--------------------------------------------------------\n正在准备分析……\nreq创建完成!\n"
     ]
    },
    {
     "name": "stdout",
     "output_type": "stream",
     "text": [
      "response创建完成！\n"
     ]
    },
    {
     "name": "stdout",
     "output_type": "stream",
     "text": [
      "html创建完成！\nsoup创建完成！\n分析准备完成！\n时间获取完成！\n文章内容获取完成！\n相关股票单获取完成！\n正在写入csv……\ncsv写入完成！\n计数刷新完成！准备进行下一轮计算……\n=============================================\n正在分析第35篇文章.\n--------------------------------------------------------\n正在准备分析……\nreq创建完成!\n"
     ]
    },
    {
     "name": "stdout",
     "output_type": "stream",
     "text": [
      "response创建完成！\n"
     ]
    },
    {
     "name": "stdout",
     "output_type": "stream",
     "text": [
      "html创建完成！\nsoup创建完成！\n分析准备完成！\n时间获取完成！\n文章内容获取完成！\n相关股票单获取完成！\n正在写入csv……\ncsv写入完成！\n计数刷新完成！准备进行下一轮计算……\n=============================================\n正在分析第36篇文章.\n--------------------------------------------------------\n正在准备分析……\nreq创建完成!\n"
     ]
    },
    {
     "name": "stdout",
     "output_type": "stream",
     "text": [
      "response创建完成！\n"
     ]
    },
    {
     "name": "stdout",
     "output_type": "stream",
     "text": [
      "html创建完成！\nsoup创建完成！\n分析准备完成！\n时间获取完成！\n文章内容获取完成！\n相关股票单获取完成！\n正在写入csv……\ncsv写入完成！\n计数刷新完成！准备进行下一轮计算……\n=============================================\n正在分析第37篇文章.\n--------------------------------------------------------\n正在准备分析……\nreq创建完成!\n"
     ]
    },
    {
     "name": "stdout",
     "output_type": "stream",
     "text": [
      "response创建完成！\n"
     ]
    },
    {
     "name": "stdout",
     "output_type": "stream",
     "text": [
      "html创建完成！\nsoup创建完成！\n分析准备完成！\n时间获取完成！\n文章内容获取完成！\n相关股票单获取完成！\n正在写入csv……\ncsv写入完成！\n计数刷新完成！准备进行下一轮计算……\n=============================================\n正在分析第38篇文章.\n--------------------------------------------------------\n正在准备分析……\nreq创建完成!\n"
     ]
    },
    {
     "name": "stdout",
     "output_type": "stream",
     "text": [
      "response创建完成！\n"
     ]
    },
    {
     "name": "stdout",
     "output_type": "stream",
     "text": [
      "html创建完成！\nsoup创建完成！\n分析准备完成！\n时间获取完成！\n文章内容获取完成！\n相关股票单获取完成！\n正在写入csv……\ncsv写入完成！\n计数刷新完成！准备进行下一轮计算……\n=============================================\n正在分析第39篇文章.\n--------------------------------------------------------\n正在准备分析……\nreq创建完成!\n"
     ]
    },
    {
     "name": "stdout",
     "output_type": "stream",
     "text": [
      "response创建完成！\n"
     ]
    },
    {
     "name": "stdout",
     "output_type": "stream",
     "text": [
      "html创建完成！\nsoup创建完成！\n分析准备完成！\n时间获取完成！\n文章内容获取完成！\n相关股票单获取完成！\n正在写入csv……\ncsv写入完成！\n计数刷新完成！准备进行下一轮计算……\n=============================================\n正在分析第40篇文章.\n--------------------------------------------------------\n正在准备分析……\nreq创建完成!\n"
     ]
    },
    {
     "name": "stdout",
     "output_type": "stream",
     "text": [
      "response创建完成！\n"
     ]
    },
    {
     "name": "stdout",
     "output_type": "stream",
     "text": [
      "html创建完成！\nsoup创建完成！\n分析准备完成！\n时间获取完成！\n文章内容获取完成！\n相关股票单获取完成！\n正在写入csv……\ncsv写入完成！\n计数刷新完成！准备进行下一轮计算……\n=============================================\n正在分析第41篇文章.\n--------------------------------------------------------\n正在准备分析……\nreq创建完成!\n"
     ]
    },
    {
     "name": "stdout",
     "output_type": "stream",
     "text": [
      "response创建完成！\n"
     ]
    },
    {
     "name": "stdout",
     "output_type": "stream",
     "text": [
      "html创建完成！\nsoup创建完成！\n分析准备完成！\n时间获取完成！\n文章内容获取完成！\n相关股票单获取完成！\n正在写入csv……\ncsv写入完成！\n计数刷新完成！准备进行下一轮计算……\n=============================================\n正在分析第42篇文章.\n--------------------------------------------------------\n正在准备分析……\nreq创建完成!\n"
     ]
    },
    {
     "name": "stdout",
     "output_type": "stream",
     "text": [
      "response创建完成！\n"
     ]
    },
    {
     "name": "stdout",
     "output_type": "stream",
     "text": [
      "html创建完成！\nsoup创建完成！\n分析准备完成！\n时间获取完成！\n文章内容获取完成！\n相关股票单获取完成！\n正在写入csv……\ncsv写入完成！\n计数刷新完成！准备进行下一轮计算……\n=============================================\n正在分析第43篇文章.\n--------------------------------------------------------\n正在准备分析……\nreq创建完成!\n"
     ]
    },
    {
     "name": "stdout",
     "output_type": "stream",
     "text": [
      "response创建完成！\n"
     ]
    },
    {
     "name": "stdout",
     "output_type": "stream",
     "text": [
      "html创建完成！\nsoup创建完成！\n分析准备完成！\n时间获取完成！\n文章内容获取完成！\n相关股票单获取完成！\n正在写入csv……\ncsv写入完成！\n计数刷新完成！准备进行下一轮计算……\n=============================================\n正在分析第44篇文章.\n--------------------------------------------------------\n正在准备分析……\nreq创建完成!\n"
     ]
    },
    {
     "name": "stdout",
     "output_type": "stream",
     "text": [
      "response创建完成！\n"
     ]
    },
    {
     "name": "stdout",
     "output_type": "stream",
     "text": [
      "html创建完成！\nsoup创建完成！\n分析准备完成！\n时间获取完成！\n文章内容获取完成！\n相关股票单获取完成！\n正在写入csv……\ncsv写入完成！\n计数刷新完成！准备进行下一轮计算……\n=============================================\n正在分析第45篇文章.\n--------------------------------------------------------\n正在准备分析……\nreq创建完成!\n"
     ]
    },
    {
     "name": "stdout",
     "output_type": "stream",
     "text": [
      "response创建完成！\n"
     ]
    },
    {
     "name": "stdout",
     "output_type": "stream",
     "text": [
      "html创建完成！\nsoup创建完成！\n分析准备完成！\n时间获取完成！\n文章内容获取完成！\n相关股票单获取完成！\n正在写入csv……\ncsv写入完成！\n计数刷新完成！准备进行下一轮计算……\n=============================================\n正在分析第46篇文章.\n--------------------------------------------------------\n正在准备分析……\nreq创建完成!\n"
     ]
    },
    {
     "name": "stdout",
     "output_type": "stream",
     "text": [
      "response创建完成！\n"
     ]
    },
    {
     "name": "stdout",
     "output_type": "stream",
     "text": [
      "html创建完成！\nsoup创建完成！\n分析准备完成！\n时间获取完成！\n文章内容获取完成！\n相关股票单获取完成！\n正在写入csv……\ncsv写入完成！\n计数刷新完成！准备进行下一轮计算……\n=============================================\n正在分析第47篇文章.\n--------------------------------------------------------\n正在准备分析……\nreq创建完成!\n"
     ]
    },
    {
     "name": "stdout",
     "output_type": "stream",
     "text": [
      "response创建完成！\n"
     ]
    },
    {
     "ename": "KeyboardInterrupt",
     "evalue": "",
     "traceback": [
      "\u001b[0;31m---------------------------------------------------------------------------\u001b[0m",
      "\u001b[0;31mKeyboardInterrupt\u001b[0m                         Traceback (most recent call last)",
      "\u001b[0;32m<ipython-input-42-17447539de26>\u001b[0m in \u001b[0;36m<module>\u001b[0;34m()\u001b[0m\n\u001b[1;32m      9\u001b[0m     \u001b[0mprint\u001b[0m\u001b[0;34m(\u001b[0m\u001b[0;34m'正在分析第'\u001b[0m \u001b[0;34m+\u001b[0m \u001b[0mstr\u001b[0m\u001b[0;34m(\u001b[0m\u001b[0mcounter\u001b[0m\u001b[0;34m)\u001b[0m \u001b[0;34m+\u001b[0m \u001b[0;34m'篇文章.'\u001b[0m\u001b[0;34m)\u001b[0m\u001b[0;34m\u001b[0m\u001b[0m\n\u001b[1;32m     10\u001b[0m     \u001b[0mprint\u001b[0m\u001b[0;34m(\u001b[0m\u001b[0;34m'--------------------------------------------------------'\u001b[0m\u001b[0;34m)\u001b[0m\u001b[0;34m\u001b[0m\u001b[0m\n\u001b[0;32m---> 11\u001b[0;31m     \u001b[0mcounter\u001b[0m \u001b[0;34m=\u001b[0m \u001b[0mcollectNews\u001b[0m\u001b[0;34m(\u001b[0m\u001b[0meach_article\u001b[0m\u001b[0;34m,\u001b[0m \u001b[0mcounter\u001b[0m\u001b[0;34m)\u001b[0m\u001b[0;34m\u001b[0m\u001b[0m\n\u001b[0m",
      "\u001b[0;32m<ipython-input-36-a6703aad72ac>\u001b[0m in \u001b[0;36mcollectNews\u001b[0;34m(url, counter)\u001b[0m\n\u001b[1;32m      7\u001b[0m     \u001b[0mresponse\u001b[0m \u001b[0;34m=\u001b[0m \u001b[0murllib\u001b[0m\u001b[0;34m.\u001b[0m\u001b[0mrequest\u001b[0m\u001b[0;34m.\u001b[0m\u001b[0murlopen\u001b[0m\u001b[0;34m(\u001b[0m\u001b[0mreq\u001b[0m\u001b[0;34m)\u001b[0m\u001b[0;34m\u001b[0m\u001b[0m\n\u001b[1;32m      8\u001b[0m     \u001b[0mprint\u001b[0m\u001b[0;34m(\u001b[0m\u001b[0;34m'response创建完成！'\u001b[0m\u001b[0;34m)\u001b[0m\u001b[0;34m\u001b[0m\u001b[0m\n\u001b[0;32m----> 9\u001b[0;31m     \u001b[0mhtml\u001b[0m \u001b[0;34m=\u001b[0m \u001b[0mresponse\u001b[0m\u001b[0;34m.\u001b[0m\u001b[0mread\u001b[0m\u001b[0;34m(\u001b[0m\u001b[0;34m)\u001b[0m\u001b[0;34m\u001b[0m\u001b[0m\n\u001b[0m\u001b[1;32m     10\u001b[0m     \u001b[0mprint\u001b[0m\u001b[0;34m(\u001b[0m\u001b[0;34m'html创建完成！'\u001b[0m\u001b[0;34m)\u001b[0m\u001b[0;34m\u001b[0m\u001b[0m\n\u001b[1;32m     11\u001b[0m     \u001b[0msoup\u001b[0m \u001b[0;34m=\u001b[0m \u001b[0mBeautifulSoup\u001b[0m\u001b[0;34m(\u001b[0m\u001b[0mhtml\u001b[0m\u001b[0;34m,\u001b[0m \u001b[0;34m\"lxml\"\u001b[0m\u001b[0;34m)\u001b[0m\u001b[0;34m\u001b[0m\u001b[0m\n",
      "\u001b[0;32m~/anaconda3/lib/python3.6/http/client.py\u001b[0m in \u001b[0;36mread\u001b[0;34m(self, amt)\u001b[0m\n\u001b[1;32m    460\u001b[0m             \u001b[0;32melse\u001b[0m\u001b[0;34m:\u001b[0m\u001b[0;34m\u001b[0m\u001b[0m\n\u001b[1;32m    461\u001b[0m                 \u001b[0;32mtry\u001b[0m\u001b[0;34m:\u001b[0m\u001b[0;34m\u001b[0m\u001b[0m\n\u001b[0;32m--> 462\u001b[0;31m                     \u001b[0ms\u001b[0m \u001b[0;34m=\u001b[0m \u001b[0mself\u001b[0m\u001b[0;34m.\u001b[0m\u001b[0m_safe_read\u001b[0m\u001b[0;34m(\u001b[0m\u001b[0mself\u001b[0m\u001b[0;34m.\u001b[0m\u001b[0mlength\u001b[0m\u001b[0;34m)\u001b[0m\u001b[0;34m\u001b[0m\u001b[0m\n\u001b[0m\u001b[1;32m    463\u001b[0m                 \u001b[0;32mexcept\u001b[0m \u001b[0mIncompleteRead\u001b[0m\u001b[0;34m:\u001b[0m\u001b[0;34m\u001b[0m\u001b[0m\n\u001b[1;32m    464\u001b[0m                     \u001b[0mself\u001b[0m\u001b[0;34m.\u001b[0m\u001b[0m_close_conn\u001b[0m\u001b[0;34m(\u001b[0m\u001b[0;34m)\u001b[0m\u001b[0;34m\u001b[0m\u001b[0m\n",
      "\u001b[0;32m~/anaconda3/lib/python3.6/http/client.py\u001b[0m in \u001b[0;36m_safe_read\u001b[0;34m(self, amt)\u001b[0m\n\u001b[1;32m    610\u001b[0m         \u001b[0ms\u001b[0m \u001b[0;34m=\u001b[0m \u001b[0;34m[\u001b[0m\u001b[0;34m]\u001b[0m\u001b[0;34m\u001b[0m\u001b[0m\n\u001b[1;32m    611\u001b[0m         \u001b[0;32mwhile\u001b[0m \u001b[0mamt\u001b[0m \u001b[0;34m>\u001b[0m \u001b[0;36m0\u001b[0m\u001b[0;34m:\u001b[0m\u001b[0;34m\u001b[0m\u001b[0m\n\u001b[0;32m--> 612\u001b[0;31m             \u001b[0mchunk\u001b[0m \u001b[0;34m=\u001b[0m \u001b[0mself\u001b[0m\u001b[0;34m.\u001b[0m\u001b[0mfp\u001b[0m\u001b[0;34m.\u001b[0m\u001b[0mread\u001b[0m\u001b[0;34m(\u001b[0m\u001b[0mmin\u001b[0m\u001b[0;34m(\u001b[0m\u001b[0mamt\u001b[0m\u001b[0;34m,\u001b[0m \u001b[0mMAXAMOUNT\u001b[0m\u001b[0;34m)\u001b[0m\u001b[0;34m)\u001b[0m\u001b[0;34m\u001b[0m\u001b[0m\n\u001b[0m\u001b[1;32m    613\u001b[0m             \u001b[0;32mif\u001b[0m \u001b[0;32mnot\u001b[0m \u001b[0mchunk\u001b[0m\u001b[0;34m:\u001b[0m\u001b[0;34m\u001b[0m\u001b[0m\n\u001b[1;32m    614\u001b[0m                 \u001b[0;32mraise\u001b[0m \u001b[0mIncompleteRead\u001b[0m\u001b[0;34m(\u001b[0m\u001b[0;34mb''\u001b[0m\u001b[0;34m.\u001b[0m\u001b[0mjoin\u001b[0m\u001b[0;34m(\u001b[0m\u001b[0ms\u001b[0m\u001b[0;34m)\u001b[0m\u001b[0;34m,\u001b[0m \u001b[0mamt\u001b[0m\u001b[0;34m)\u001b[0m\u001b[0;34m\u001b[0m\u001b[0m\n",
      "\u001b[0;32m~/anaconda3/lib/python3.6/socket.py\u001b[0m in \u001b[0;36mreadinto\u001b[0;34m(self, b)\u001b[0m\n\u001b[1;32m    584\u001b[0m         \u001b[0;32mwhile\u001b[0m \u001b[0;32mTrue\u001b[0m\u001b[0;34m:\u001b[0m\u001b[0;34m\u001b[0m\u001b[0m\n\u001b[1;32m    585\u001b[0m             \u001b[0;32mtry\u001b[0m\u001b[0;34m:\u001b[0m\u001b[0;34m\u001b[0m\u001b[0m\n\u001b[0;32m--> 586\u001b[0;31m                 \u001b[0;32mreturn\u001b[0m \u001b[0mself\u001b[0m\u001b[0;34m.\u001b[0m\u001b[0m_sock\u001b[0m\u001b[0;34m.\u001b[0m\u001b[0mrecv_into\u001b[0m\u001b[0;34m(\u001b[0m\u001b[0mb\u001b[0m\u001b[0;34m)\u001b[0m\u001b[0;34m\u001b[0m\u001b[0m\n\u001b[0m\u001b[1;32m    587\u001b[0m             \u001b[0;32mexcept\u001b[0m \u001b[0mtimeout\u001b[0m\u001b[0;34m:\u001b[0m\u001b[0;34m\u001b[0m\u001b[0m\n\u001b[1;32m    588\u001b[0m                 \u001b[0mself\u001b[0m\u001b[0;34m.\u001b[0m\u001b[0m_timeout_occurred\u001b[0m \u001b[0;34m=\u001b[0m \u001b[0;32mTrue\u001b[0m\u001b[0;34m\u001b[0m\u001b[0m\n",
      "\u001b[0;31mKeyboardInterrupt\u001b[0m: "
     ],
     "output_type": "error"
    }
   ],
   "source": [
    "# Index Counter\n",
    "counter = 1\n",
    "total = len(urllist)\n",
    "\n",
    "# 扒取资料\n",
    "for each_article in urllist:\n",
    "    # print(each_article)\n",
    "    print('=============================================')\n",
    "    print('正在获取第' + str(counter) + '篇文章.')\n",
    "    print('--------------------------------------------------------')\n",
    "    counter = collectNews(each_article, counter) "
   ]
  },
  {
   "cell_type": "markdown",
   "metadata": {},
   "source": [
    "# =========================TRASHYARD========================="
   ]
  },
  {
   "cell_type": "code",
   "execution_count": 29,
   "metadata": {},
   "outputs": [],
   "source": [
    "# 抓取新闻URL函数\n",
    "def collectNews(url, counter):\n",
    "    # 准备工作\n",
    "    req = urllib.request.Request(url)\n",
    "    response = urllib.request.urlopen(req)\n",
    "    html = response.read()\n",
    "    soup = BeautifulSoup(html, \"lxml\")\n",
    "    \n",
    "    # 获得文章的标题\n",
    "    title = soup.find('h1').get_text()\n",
    "    # print(title)  # Debug\n",
    "    \n",
    "    # 获得文章的发表时间\n",
    "    time = content = soup.find(class_=\"time\").get_text()\n",
    "    year = time[0:4]\n",
    "    month = time[5:7]\n",
    "    day = time[8:10]\n",
    "    # print(time,year,month,day)  # Debug\n",
    "    \n",
    "    # 获得文章的内容\n",
    "    content = soup.find(id=\"ContentBody\").get_text()\n",
    "    index = re.search('责任编辑', content).span()[0]-1\n",
    "    content = content[0:index].strip()\n",
    "    # print(content)  # Debug\n",
    "    \n",
    "    # 获得相关的股票单\n",
    "    related_stock = soup.find_all(class_='keytip')\n",
    "    related_stocks = []\n",
    "    for each in related_stock:\n",
    "        stock = each.get_text()\n",
    "        related_stocks.append(stock)\n",
    "        # print(each.get('href'))  #大概不需要URL\n",
    "    # print(related_stocks)  # Debug\n",
    "    \n",
    "    # 将list处理成String 中间用&分割\n",
    "    related_stocks_string = ''\n",
    "    for stock in related_stocks:\n",
    "        related_stocks.append('&')\n",
    "        related_stocks.append(stock)\n",
    "        \n",
    "    # 写入csv\n",
    "    with open(\"../DataSets/Eastmoney/news/RecentStockNews.csv\",\"w\") as csvfile: \n",
    "        writer = csv.writer(csvfile)\n",
    "        writer.writerow([counter, year, month, day, title, content, related_stocks_string])\n",
    "    \n",
    "    # 刷新计数\n",
    "    counter += 1\n",
    "    return counter"
   ]
  }
 ],
 "metadata": {
  "kernelspec": {
   "display_name": "Python 3",
   "language": "python",
   "name": "python3"
  }
 },
 "nbformat": 4,
 "nbformat_minor": 1
}
