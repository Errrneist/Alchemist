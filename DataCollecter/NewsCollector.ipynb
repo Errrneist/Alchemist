{
 "cells": [
  {
   "cell_type": "code",
   "execution_count": 10,
   "metadata": {},
   "outputs": [],
   "source": [
    "# -*- coding: utf-8 -*-"
   ]
  },
  {
   "cell_type": "markdown",
   "metadata": {
    "collapsed": true
   },
   "source": [
    "# 东方财富网国内新闻数据抓取器\n",
    "## 拂晓工作室\n",
    "### 此程序将爬取某个板块所有最近的新闻并存进CSV！"
   ]
  },
  {
   "cell_type": "markdown",
   "metadata": {},
   "source": [
    "# 参考资料\n",
    "* [1] BeautifulSoup的例子：https://qiita.com/rusarusa/items/d7f014ba80d6fe7a3e07\n",
    "* [2] BeautifulSoup的文档：https://www.cnblogs.com/zhaof/p/6930955.html\n",
    "* [3] 暴力安装BS4: https://github.com/ipython/ipython/issues/10684\n",
    "* [4] CSV文档：https://docs.python.org/2/library/csv.html\n",
    "* [5] CSV使用实例：https://blog.csdn.net/waple_0820/article/details/70049953\n",
    "* [6] 如何解决list重复元素的问题：https://stackoverflow.com/questions/7961363/removing-duplicates-in-lists\n",
    "* [7] 解决CSV文件中文乱码的问题：https://blog.csdn.net/fwj_ntu/article/details/78563962"
   ]
  },
  {
   "cell_type": "code",
   "execution_count": 11,
   "metadata": {},
   "outputs": [],
   "source": [
    "# -*- coding: utf-8 -*-\n",
    "# 导入库\n",
    "import urllib\n",
    "import re\n",
    "import pandas as pd\n",
    "import pymysql\n",
    "import os\n",
    "import turicreate as tc\n",
    "import csv\n",
    "from bs4 import BeautifulSoup\n"
   ]
  },
  {
   "cell_type": "code",
   "execution_count": 12,
   "metadata": {},
   "outputs": [],
   "source": [
    "# 新闻板块(同时也会加入热门新闻的数据)\n",
    "china = 'cgnjj'  # 国内\n",
    "international = 'cgjjj'  # 国际\n",
    "\n",
    "# 定义基本常量\n",
    "url = 'http://finance.eastmoney.com/news/' + china + '.html' # 主目录地址 更换不同主目录以爬取不同板块内容 (BAD)\n",
    "csv_filepath = '../Datasets/Eastmoney/news/'  # 存储数据文件地址"
   ]
  },
  {
   "cell_type": "code",
   "execution_count": 13,
   "metadata": {},
   "outputs": [
    {
     "name": "stdout",
     "output_type": "stream",
     "text": [
      "成功创建包含 25 个页面链接的目录！\n"
     ]
    }
   ],
   "source": [
    "# 创建一个二十五页的list\n",
    "page_list = []\n",
    "counter = 1\n",
    "\n",
    "while counter <= 25:\n",
    "    pageurl = 'http://finance.eastmoney.com/news/' + china\n",
    "    if counter != 1:\n",
    "        pageurl = pageurl + '_' + str(counter) + '.html'\n",
    "        page_list.append(pageurl)\n",
    "    else:\n",
    "        pageurl = pageurl + '.html'\n",
    "        page_list.append(pageurl)\n",
    "    counter += 1\n",
    "    \n",
    "print('成功创建包含 ' + str(len(page_list)) + ' 个页面链接的目录！')"
   ]
  },
  {
   "cell_type": "code",
   "execution_count": 14,
   "metadata": {},
   "outputs": [
    {
     "name": "stdout",
     "output_type": "stream",
     "text": [
      "成功创建包含 20 个class的目录！\n"
     ]
    }
   ],
   "source": [
    "# 创建一个包含20个class的list\n",
    "counter = 0\n",
    "class_list = []\n",
    "\n",
    "while counter < 20:\n",
    "    class_list.append('newsTr' + str(counter))\n",
    "    counter += 1\n",
    "    \n",
    "print('成功创建包含 ' + str(len(class_list)) + ' 个class的目录！')\n",
    "# print(class_list)  # Debug"
   ]
  },
  {
   "cell_type": "code",
   "execution_count": 15,
   "metadata": {},
   "outputs": [
    {
     "name": "stdout",
     "output_type": "stream",
     "text": [
      "-----------------获取所有文章超链接程序-----------------\n",
      "分析任务开始！\n"
     ]
    },
    {
     "ename": "KeyboardInterrupt",
     "evalue": "",
     "output_type": "error",
     "traceback": [
      "\u001b[0;31m---------------------------------------------------------------------------\u001b[0m",
      "\u001b[0;31mKeyboardInterrupt\u001b[0m                         Traceback (most recent call last)",
      "\u001b[0;32m<ipython-input-15-fe63f1c43ad5>\u001b[0m in \u001b[0;36m<module>\u001b[0;34m()\u001b[0m\n\u001b[1;32m     11\u001b[0m     \u001b[0mresponse\u001b[0m \u001b[0;34m=\u001b[0m \u001b[0murllib\u001b[0m\u001b[0;34m.\u001b[0m\u001b[0mrequest\u001b[0m\u001b[0;34m.\u001b[0m\u001b[0murlopen\u001b[0m\u001b[0;34m(\u001b[0m\u001b[0mreq\u001b[0m\u001b[0;34m)\u001b[0m\u001b[0;34m\u001b[0m\u001b[0m\n\u001b[1;32m     12\u001b[0m     \u001b[0mhtml\u001b[0m \u001b[0;34m=\u001b[0m \u001b[0mresponse\u001b[0m\u001b[0;34m.\u001b[0m\u001b[0mread\u001b[0m\u001b[0;34m(\u001b[0m\u001b[0;34m)\u001b[0m\u001b[0;34m\u001b[0m\u001b[0m\n\u001b[0;32m---> 13\u001b[0;31m     \u001b[0msoup\u001b[0m \u001b[0;34m=\u001b[0m \u001b[0mBeautifulSoup\u001b[0m\u001b[0;34m(\u001b[0m\u001b[0mhtml\u001b[0m\u001b[0;34m,\u001b[0m \u001b[0;34m\"lxml\"\u001b[0m\u001b[0;34m)\u001b[0m\u001b[0;34m\u001b[0m\u001b[0m\n\u001b[0m\u001b[1;32m     14\u001b[0m     \u001b[0;32mfor\u001b[0m \u001b[0meach_url\u001b[0m \u001b[0;32min\u001b[0m \u001b[0msoup\u001b[0m\u001b[0;34m.\u001b[0m\u001b[0mfind_all\u001b[0m\u001b[0;34m(\u001b[0m\u001b[0;34m'a'\u001b[0m\u001b[0;34m,\u001b[0m \u001b[0mhref\u001b[0m\u001b[0;34m=\u001b[0m\u001b[0;32mTrue\u001b[0m\u001b[0;34m)\u001b[0m\u001b[0;34m:\u001b[0m\u001b[0;34m\u001b[0m\u001b[0m\n\u001b[1;32m     15\u001b[0m         \u001b[0;32mif\u001b[0m \u001b[0;34m'http://finance.eastmoney.com/news/'\u001b[0m \u001b[0;32min\u001b[0m \u001b[0meach_url\u001b[0m\u001b[0;34m[\u001b[0m\u001b[0;34m'href'\u001b[0m\u001b[0;34m]\u001b[0m\u001b[0;34m:\u001b[0m\u001b[0;34m\u001b[0m\u001b[0m\n",
      "\u001b[0;32m~/anaconda3/lib/python3.6/site-packages/bs4/__init__.py\u001b[0m in \u001b[0;36m__init__\u001b[0;34m(self, markup, features, builder, parse_only, from_encoding, exclude_encodings, **kwargs)\u001b[0m\n\u001b[1;32m    226\u001b[0m             \u001b[0mself\u001b[0m\u001b[0;34m.\u001b[0m\u001b[0mreset\u001b[0m\u001b[0;34m(\u001b[0m\u001b[0;34m)\u001b[0m\u001b[0;34m\u001b[0m\u001b[0m\n\u001b[1;32m    227\u001b[0m             \u001b[0;32mtry\u001b[0m\u001b[0;34m:\u001b[0m\u001b[0;34m\u001b[0m\u001b[0m\n\u001b[0;32m--> 228\u001b[0;31m                 \u001b[0mself\u001b[0m\u001b[0;34m.\u001b[0m\u001b[0m_feed\u001b[0m\u001b[0;34m(\u001b[0m\u001b[0;34m)\u001b[0m\u001b[0;34m\u001b[0m\u001b[0m\n\u001b[0m\u001b[1;32m    229\u001b[0m                 \u001b[0;32mbreak\u001b[0m\u001b[0;34m\u001b[0m\u001b[0m\n\u001b[1;32m    230\u001b[0m             \u001b[0;32mexcept\u001b[0m \u001b[0mParserRejectedMarkup\u001b[0m\u001b[0;34m:\u001b[0m\u001b[0;34m\u001b[0m\u001b[0m\n",
      "\u001b[0;32m~/anaconda3/lib/python3.6/site-packages/bs4/__init__.py\u001b[0m in \u001b[0;36m_feed\u001b[0;34m(self)\u001b[0m\n\u001b[1;32m    287\u001b[0m         \u001b[0mself\u001b[0m\u001b[0;34m.\u001b[0m\u001b[0mbuilder\u001b[0m\u001b[0;34m.\u001b[0m\u001b[0mreset\u001b[0m\u001b[0;34m(\u001b[0m\u001b[0;34m)\u001b[0m\u001b[0;34m\u001b[0m\u001b[0m\n\u001b[1;32m    288\u001b[0m \u001b[0;34m\u001b[0m\u001b[0m\n\u001b[0;32m--> 289\u001b[0;31m         \u001b[0mself\u001b[0m\u001b[0;34m.\u001b[0m\u001b[0mbuilder\u001b[0m\u001b[0;34m.\u001b[0m\u001b[0mfeed\u001b[0m\u001b[0;34m(\u001b[0m\u001b[0mself\u001b[0m\u001b[0;34m.\u001b[0m\u001b[0mmarkup\u001b[0m\u001b[0;34m)\u001b[0m\u001b[0;34m\u001b[0m\u001b[0m\n\u001b[0m\u001b[1;32m    290\u001b[0m         \u001b[0;31m# Close out any unfinished strings and close all the open tags.\u001b[0m\u001b[0;34m\u001b[0m\u001b[0;34m\u001b[0m\u001b[0m\n\u001b[1;32m    291\u001b[0m         \u001b[0mself\u001b[0m\u001b[0;34m.\u001b[0m\u001b[0mendData\u001b[0m\u001b[0;34m(\u001b[0m\u001b[0;34m)\u001b[0m\u001b[0;34m\u001b[0m\u001b[0m\n",
      "\u001b[0;32m~/anaconda3/lib/python3.6/site-packages/bs4/builder/_lxml.py\u001b[0m in \u001b[0;36mfeed\u001b[0;34m(self, markup)\u001b[0m\n\u001b[1;32m    248\u001b[0m         \u001b[0;32mtry\u001b[0m\u001b[0;34m:\u001b[0m\u001b[0;34m\u001b[0m\u001b[0m\n\u001b[1;32m    249\u001b[0m             \u001b[0mself\u001b[0m\u001b[0;34m.\u001b[0m\u001b[0mparser\u001b[0m \u001b[0;34m=\u001b[0m \u001b[0mself\u001b[0m\u001b[0;34m.\u001b[0m\u001b[0mparser_for\u001b[0m\u001b[0;34m(\u001b[0m\u001b[0mencoding\u001b[0m\u001b[0;34m)\u001b[0m\u001b[0;34m\u001b[0m\u001b[0m\n\u001b[0;32m--> 250\u001b[0;31m             \u001b[0mself\u001b[0m\u001b[0;34m.\u001b[0m\u001b[0mparser\u001b[0m\u001b[0;34m.\u001b[0m\u001b[0mfeed\u001b[0m\u001b[0;34m(\u001b[0m\u001b[0mmarkup\u001b[0m\u001b[0;34m)\u001b[0m\u001b[0;34m\u001b[0m\u001b[0m\n\u001b[0m\u001b[1;32m    251\u001b[0m             \u001b[0mself\u001b[0m\u001b[0;34m.\u001b[0m\u001b[0mparser\u001b[0m\u001b[0;34m.\u001b[0m\u001b[0mclose\u001b[0m\u001b[0;34m(\u001b[0m\u001b[0;34m)\u001b[0m\u001b[0;34m\u001b[0m\u001b[0m\n\u001b[1;32m    252\u001b[0m         \u001b[0;32mexcept\u001b[0m \u001b[0;34m(\u001b[0m\u001b[0mUnicodeDecodeError\u001b[0m\u001b[0;34m,\u001b[0m \u001b[0mLookupError\u001b[0m\u001b[0;34m,\u001b[0m \u001b[0metree\u001b[0m\u001b[0;34m.\u001b[0m\u001b[0mParserError\u001b[0m\u001b[0;34m)\u001b[0m \u001b[0;32mas\u001b[0m \u001b[0me\u001b[0m\u001b[0;34m:\u001b[0m\u001b[0;34m\u001b[0m\u001b[0m\n",
      "\u001b[0;32msrc/lxml/parser.pxi\u001b[0m in \u001b[0;36mlxml.etree._FeedParser.feed\u001b[0;34m()\u001b[0m\n",
      "\u001b[0;32msrc/lxml/parser.pxi\u001b[0m in \u001b[0;36mlxml.etree._FeedParser.feed\u001b[0;34m()\u001b[0m\n",
      "\u001b[0;32msrc/lxml/parsertarget.pxi\u001b[0m in \u001b[0;36mlxml.etree._TargetParserContext._handleParseResult\u001b[0;34m()\u001b[0m\n",
      "\u001b[0;32msrc/lxml/parsertarget.pxi\u001b[0m in \u001b[0;36mlxml.etree._TargetParserContext._handleParseResult\u001b[0;34m()\u001b[0m\n",
      "\u001b[0;32msrc/lxml/etree.pyx\u001b[0m in \u001b[0;36mlxml.etree._ExceptionContext._raise_if_stored\u001b[0;34m()\u001b[0m\n",
      "\u001b[0;32msrc/lxml/saxparser.pxi\u001b[0m in \u001b[0;36mlxml.etree._handleSaxTargetStartNoNs\u001b[0;34m()\u001b[0m\n",
      "\u001b[0;32msrc/lxml/saxparser.pxi\u001b[0m in \u001b[0;36mlxml.etree._callTargetSaxStart\u001b[0;34m()\u001b[0m\n",
      "\u001b[0;32msrc/lxml/parsertarget.pxi\u001b[0m in \u001b[0;36mlxml.etree._PythonSaxParserTarget._handleSaxStart\u001b[0;34m()\u001b[0m\n",
      "\u001b[0;32m~/anaconda3/lib/python3.6/site-packages/bs4/builder/_lxml.py\u001b[0m in \u001b[0;36mstart\u001b[0;34m(self, name, attrs, nsmap)\u001b[0m\n\u001b[1;32m    143\u001b[0m         \u001b[0mself\u001b[0m\u001b[0;34m.\u001b[0m\u001b[0mnsmaps\u001b[0m \u001b[0;34m=\u001b[0m \u001b[0;34m[\u001b[0m\u001b[0mself\u001b[0m\u001b[0;34m.\u001b[0m\u001b[0mDEFAULT_NSMAPS\u001b[0m\u001b[0;34m]\u001b[0m\u001b[0;34m\u001b[0m\u001b[0m\n\u001b[1;32m    144\u001b[0m \u001b[0;34m\u001b[0m\u001b[0m\n\u001b[0;32m--> 145\u001b[0;31m     \u001b[0;32mdef\u001b[0m \u001b[0mstart\u001b[0m\u001b[0;34m(\u001b[0m\u001b[0mself\u001b[0m\u001b[0;34m,\u001b[0m \u001b[0mname\u001b[0m\u001b[0;34m,\u001b[0m \u001b[0mattrs\u001b[0m\u001b[0;34m,\u001b[0m \u001b[0mnsmap\u001b[0m\u001b[0;34m=\u001b[0m\u001b[0;34m{\u001b[0m\u001b[0;34m}\u001b[0m\u001b[0;34m)\u001b[0m\u001b[0;34m:\u001b[0m\u001b[0;34m\u001b[0m\u001b[0m\n\u001b[0m\u001b[1;32m    146\u001b[0m         \u001b[0;31m# Make sure attrs is a mutable dict--lxml may send an immutable dictproxy.\u001b[0m\u001b[0;34m\u001b[0m\u001b[0;34m\u001b[0m\u001b[0m\n\u001b[1;32m    147\u001b[0m         \u001b[0mattrs\u001b[0m \u001b[0;34m=\u001b[0m \u001b[0mdict\u001b[0m\u001b[0;34m(\u001b[0m\u001b[0mattrs\u001b[0m\u001b[0;34m)\u001b[0m\u001b[0;34m\u001b[0m\u001b[0m\n",
      "\u001b[0;31mKeyboardInterrupt\u001b[0m: "
     ]
    }
   ],
   "source": [
    "# 初始化urllist\n",
    "urllist = []\n",
    "year = '2018'  # Separate parameter\n",
    "counter = 1\n",
    "\n",
    "# 创造urllist\n",
    "print('-----------------获取所有文章超链接程序-----------------')\n",
    "print('分析任务开始！')\n",
    "for url in page_list:\n",
    "    req = urllib.request.Request(url)\n",
    "    response = urllib.request.urlopen(req)\n",
    "    html = response.read()\n",
    "    soup = BeautifulSoup(html, \"lxml\")\n",
    "    for each_url in soup.find_all('a', href=True):\n",
    "        if 'http://finance.eastmoney.com/news/' in each_url['href']:\n",
    "            if year in each_url['href']:\n",
    "                urllist.append(each_url['href'])   \n",
    "    print('第' + str(counter) + '页分析完成！现在一共有' + str(len(urllist)) + '篇文章的数据！')\n",
    "    counter += 1\n",
    "\n",
    "urllist = list(set(urllist))\n",
    "print('全部分析完成！正在查重...')\n",
    "print('任务完成！共获得了' + str(len(urllist)) + '篇文章的数据！')\n",
    "print('---------------------------------------------')"
   ]
  },
  {
   "cell_type": "code",
   "execution_count": 7,
   "metadata": {},
   "outputs": [],
   "source": [
    "# 抓取新闻URL函数\n",
    "def collectNews(url, counter):\n",
    "    # 准备工作\n",
    "    req = urllib.request.Request(url)\n",
    "    response = urllib.request.urlopen(req)\n",
    "    html = response.read()\n",
    "    soup = BeautifulSoup(html, \"lxml\")\n",
    "    \n",
    "    # 获得文章的发表时间\n",
    "    time = soup.find(class_=\"time\").get_text()\n",
    "    \n",
    "    # 获得文章的内容\n",
    "    content = soup.find(id=\"ContentBody\").get_text() \n",
    "    content = content[0:re.search('责任编辑', content).span()[0]-1].strip()\n",
    "    print content\n",
    "    \n",
    "    # 获得相关的股票单\n",
    "    related_stocks = []\n",
    "    for each in soup.find_all(class_='keytip'): \n",
    "        related_stocks.append(each.get_text())\n",
    "    \n",
    "    # 将list处理成String 中间用&分割\n",
    "    related_stocks_string = ''\n",
    "    for stock in related_stocks:\n",
    "        related_stocks.append('&')\n",
    "        related_stocks.append(stock)\n",
    "        \n",
    "    # 写入csv\n",
    "    with open(\"../DataSets/Eastmoney/news/RecentStockNews.csv\",\"w\") as csvfile: \n",
    "        writer = csv.writer(csvfile)\n",
    "        writer.writerow([counter, \n",
    "                         time[0:4], time[0:4], time[8:10], \n",
    "                         soup.find('h1').get_text(), \n",
    "                         content, \n",
    "                         related_stocks_string])\n",
    "    # 内存回收\n",
    "    del req\n",
    "    del response\n",
    "    del html\n",
    "    del soup\n",
    "    del time\n",
    "    del content\n",
    "    del related_stocks\n",
    "    del related_stocks_string\n",
    "    del writer\n",
    "    \n",
    "    # 刷新计数\n",
    "    counter += 1\n",
    "    return counter"
   ]
  },
  {
   "cell_type": "code",
   "execution_count": 8,
   "metadata": {},
   "outputs": [],
   "source": [
    "# 创建csv文件\n",
    "with open(\"../DataSets/Eastmoney/news/RecentStockNews.csv\", \"w\") as csvfile: \n",
    "    writer = csv.writer(csvfile)\n",
    "\n",
    "    # 先写入columns_name\n",
    "    writer.writerow([\"index\", \"year\", \"month\", \"day\", \"title\", \"contents\", \"related_stocks\"])"
   ]
  },
  {
   "cell_type": "code",
   "execution_count": null,
   "metadata": {},
   "outputs": [
    {
     "name": "stdout",
     "output_type": "stream",
     "text": [
      "正在分析第1篇文章，共516篇.\n"
     ]
    }
   ],
   "source": [
    "# Index Counter\n",
    "counter = 1\n",
    "total = len(urllist)\n",
    "\n",
    "# 扒取资料\n",
    "for each_article in urllist:\n",
    "    print('正在分析第' + str(counter) + '篇文章，共' + str(total) + '篇.')\n",
    "    counter = collectNews(each_article, counter)"
   ]
  },
  {
   "cell_type": "markdown",
   "metadata": {},
   "source": [
    "# =========================TRASHYARD========================="
   ]
  },
  {
   "cell_type": "code",
   "execution_count": 29,
   "metadata": {},
   "outputs": [],
   "source": [
    "# 抓取新闻URL函数\n",
    "def collectNews(url, counter):\n",
    "    # 准备工作\n",
    "    req = urllib.request.Request(url)\n",
    "    response = urllib.request.urlopen(req)\n",
    "    html = response.read()\n",
    "    soup = BeautifulSoup(html, \"lxml\")\n",
    "    \n",
    "    # 获得文章的标题\n",
    "    title = soup.find('h1').get_text()\n",
    "    # print(title)  # Debug\n",
    "    \n",
    "    # 获得文章的发表时间\n",
    "    time = content = soup.find(class_=\"time\").get_text()\n",
    "    year = time[0:4]\n",
    "    month = time[5:7]\n",
    "    day = time[8:10]\n",
    "    # print(time,year,month,day)  # Debug\n",
    "    \n",
    "    # 获得文章的内容\n",
    "    content = soup.find(id=\"ContentBody\").get_text()\n",
    "    index = re.search('责任编辑', content).span()[0]-1\n",
    "    content = content[0:index].strip()\n",
    "    # print(content)  # Debug\n",
    "    \n",
    "    # 获得相关的股票单\n",
    "    related_stock = soup.find_all(class_='keytip')\n",
    "    related_stocks = []\n",
    "    for each in related_stock:\n",
    "        stock = each.get_text()\n",
    "        related_stocks.append(stock)\n",
    "        # print(each.get('href'))  #大概不需要URL\n",
    "    # print(related_stocks)  # Debug\n",
    "    \n",
    "    # 将list处理成String 中间用&分割\n",
    "    related_stocks_string = ''\n",
    "    for stock in related_stocks:\n",
    "        related_stocks.append('&')\n",
    "        related_stocks.append(stock)\n",
    "        \n",
    "    # 写入csv\n",
    "    with open(\"../DataSets/Eastmoney/news/RecentStockNews.csv\",\"w\") as csvfile: \n",
    "        writer = csv.writer(csvfile)\n",
    "        writer.writerow([counter, year, month, day, title, content, related_stocks_string])\n",
    "    \n",
    "    # 刷新计数\n",
    "    counter += 1\n",
    "    return counter"
   ]
  }
 ],
 "metadata": {
  "kernelspec": {
   "display_name": "Python 3",
   "language": "python",
   "name": "python3"
  }
 },
 "nbformat": 4,
 "nbformat_minor": 1
}
