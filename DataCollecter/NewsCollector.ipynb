{
 "cells": [
  {
   "cell_type": "markdown",
   "metadata": {
    "collapsed": true
   },
   "source": [
    "# 东方财富网国内新闻数据抓取器\n",
    "## 拂晓工作室\n",
    "### 此程序将爬取某个板块所有最近的新闻并存进CSV！"
   ]
  },
  {
   "cell_type": "markdown",
   "metadata": {},
   "source": [
    "# 参考资料\n",
    "* [1] BeautifulSoup的例子：https://qiita.com/rusarusa/items/d7f014ba80d6fe7a3e07\n",
    "* [2] BeautifulSoup的文档：https://www.cnblogs.com/zhaof/p/6930955.html\n",
    "* [3] How to install BS4 aggressively: https://github.com/ipython/ipython/issues/10684\n",
    "* [4] CSV文档：https://docs.python.org/2/library/csv.html\n",
    "* [5] CSV使用实例：https://blog.csdn.net/waple_0820/article/details/70049953"
   ]
  },
  {
   "cell_type": "code",
   "execution_count": 5,
   "metadata": {},
   "outputs": [],
   "source": [
    "# 导入库\n",
    "import urllib\n",
    "import re\n",
    "import pandas as pd\n",
    "import pymysql\n",
    "import os\n",
    "import turicreate\n",
    "import csv\n",
    "from bs4 import BeautifulSoup\n"
   ]
  },
  {
   "cell_type": "code",
   "execution_count": 6,
   "metadata": {},
   "outputs": [],
   "source": [
    "# 新闻板块\n",
    "china = 'cgnjj'  # 国内\n",
    "international = 'cgjjj'  # 国际\n",
    "\n",
    "# 定义基本常量\n",
    "url = 'http://finance.eastmoney.com/news/' + china + '.html' # 主目录地址 更换不同主目录以爬取不同板块内容 (BAD)\n",
    "csv_filepath = '../Datasets/Eastmoney/news/'  # 存储数据文件地址"
   ]
  },
  {
   "cell_type": "code",
   "execution_count": 7,
   "metadata": {},
   "outputs": [
    {
     "name": "stdout",
     "output_type": "stream",
     "text": [
      "成功创建包含 25 个页面链接的目录！\n['http://finance.eastmoney.com/news/cgnjj.html', 'http://finance.eastmoney.com/news/cgnjj_2.html', 'http://finance.eastmoney.com/news/cgnjj_3.html', 'http://finance.eastmoney.com/news/cgnjj_4.html', 'http://finance.eastmoney.com/news/cgnjj_5.html', 'http://finance.eastmoney.com/news/cgnjj_6.html', 'http://finance.eastmoney.com/news/cgnjj_7.html', 'http://finance.eastmoney.com/news/cgnjj_8.html', 'http://finance.eastmoney.com/news/cgnjj_9.html', 'http://finance.eastmoney.com/news/cgnjj_10.html', 'http://finance.eastmoney.com/news/cgnjj_11.html', 'http://finance.eastmoney.com/news/cgnjj_12.html', 'http://finance.eastmoney.com/news/cgnjj_13.html', 'http://finance.eastmoney.com/news/cgnjj_14.html', 'http://finance.eastmoney.com/news/cgnjj_15.html', 'http://finance.eastmoney.com/news/cgnjj_16.html', 'http://finance.eastmoney.com/news/cgnjj_17.html', 'http://finance.eastmoney.com/news/cgnjj_18.html', 'http://finance.eastmoney.com/news/cgnjj_19.html', 'http://finance.eastmoney.com/news/cgnjj_20.html', 'http://finance.eastmoney.com/news/cgnjj_21.html', 'http://finance.eastmoney.com/news/cgnjj_22.html', 'http://finance.eastmoney.com/news/cgnjj_23.html', 'http://finance.eastmoney.com/news/cgnjj_24.html', 'http://finance.eastmoney.com/news/cgnjj_25.html']\n"
     ]
    }
   ],
   "source": [
    "# 创建一个二十五页的list\n",
    "page_list = []\n",
    "counter = 1\n",
    "\n",
    "while counter <= 25:\n",
    "    pageurl = 'http://finance.eastmoney.com/news/' + china\n",
    "    if counter != 1:\n",
    "        pageurl = pageurl + '_' + str(counter) + '.html'\n",
    "        page_list.append(pageurl)\n",
    "    else:\n",
    "        pageurl = pageurl + '.html'\n",
    "        page_list.append(pageurl)\n",
    "    counter += 1\n",
    "    \n",
    "print('成功创建包含 ' + str(len(page_list)) + ' 个页面链接的目录！')\n",
    "print(page_list)"
   ]
  },
  {
   "cell_type": "code",
   "execution_count": 8,
   "metadata": {},
   "outputs": [
    {
     "name": "stdout",
     "output_type": "stream",
     "text": [
      "成功创建包含 20 个class的目录！\n['newsTr0', 'newsTr1', 'newsTr2', 'newsTr3', 'newsTr4', 'newsTr5', 'newsTr6', 'newsTr7', 'newsTr8', 'newsTr9', 'newsTr10', 'newsTr11', 'newsTr12', 'newsTr13', 'newsTr14', 'newsTr15', 'newsTr16', 'newsTr17', 'newsTr18', 'newsTr19']\n"
     ]
    }
   ],
   "source": [
    "# 创建一个包含20个class的list\n",
    "counter = 0\n",
    "class_list = []\n",
    "\n",
    "while counter < 20:\n",
    "    class_list.append('newsTr' + str(counter))\n",
    "    counter += 1\n",
    "    \n",
    "print('成功创建包含 ' + str(len(class_list)) + ' 个class的目录！')\n",
    "print(class_list)  # Debug"
   ]
  },
  {
   "cell_type": "code",
   "execution_count": 9,
   "metadata": {},
   "outputs": [],
   "source": [
    "# 创造一个CSV文件以及基本文件结构 [5]\n",
    "with open(\"../DataSets/Eastmoney/news/Datarecent_news.csv\", \"w\") as csvfile: \n",
    "    writer = csv.writer(csvfile)\n",
    "\n",
    "    # 先写入columns_name\n",
    "    writer.writerow([\"index\", \"date\", \"title\", \"contents\", \"related_stocks\"])\n",
    "    # 写入多行用writerows\n",
    "    # writer.writerows([[0,1,3],[1,2,3],[2,3,4]])"
   ]
  },
  {
   "cell_type": "code",
   "execution_count": null,
   "metadata": {},
   "outputs": [],
   "source": [
    "# 抓取新闻URL函数\n",
    "for each_page in page_list:\n",
    "    for each_class in class_list:\n",
    "        print('hey')  # Placeholder\n",
    "\n",
    "\n",
    "\n"
   ]
  }
 ],
 "metadata": {
  "kernelspec": {
   "display_name": "Python 2",
   "language": "python",
   "name": "python2"
  },
  "language_info": {
   "codemirror_mode": {
    "name": "ipython",
    "version": 2
   },
   "file_extension": ".py",
   "mimetype": "text/x-python",
   "name": "python",
   "nbconvert_exporter": "python",
   "pygments_lexer": "ipython2",
   "version": "2.7.6"
  }
 },
 "nbformat": 4,
 "nbformat_minor": 0
}
